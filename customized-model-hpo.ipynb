{
 "cells": [
  {
   "cell_type": "code",
   "execution_count": 44,
   "id": "14e59eed",
   "metadata": {},
   "outputs": [],
   "source": [
    "\"\"\" Example script for defining and using custom models in AutoGluon Tabular \"\"\"\n",
    "\n",
    "from autogluon.core.utils import infer_problem_type\n",
    "from autogluon.tabular import TabularDataset, TabularPredictor\n",
    "from autogluon.tabular.configs.hyperparameter_configs import get_hyperparameter_config\n",
    "from autogluon.core.data import LabelCleaner\n",
    "from autogluon.core.models import AbstractModel\n"
   ]
  },
  {
   "cell_type": "code",
   "execution_count": 48,
   "id": "a25f66ba",
   "metadata": {},
   "outputs": [],
   "source": [
    "import torch\n",
    "import torch.nn as nn\n",
    "from autogluon.core.models import AbstractModel\n",
    "import torch.optim as optim\n",
    "from torch.utils.data import DataLoader, TensorDataset\n",
    "from sklearn.model_selection import train_test_split\n",
    "from sklearn.preprocessing import StandardScaler\n",
    "import pandas as pd\n",
    "from sklearn.metrics import precision_score\n",
    "\n",
    "\n",
    "class ConvNet(nn.Module):\n",
    "    def __init__(self, input_channels,seq_len):\n",
    "        super(ConvNet, self).__init__()\n",
    "        self.input_channels = input_channels\n",
    "        self.seq_len = seq_len\n",
    "\n",
    "        # Input layer\n",
    "        self.conv1 = nn.Conv1d(input_channels, 4, kernel_size=3, padding=1)\n",
    "        self.bn1 = nn.BatchNorm1d(4)\n",
    "        self.relu1 = nn.ReLU()\n",
    "        self.conv2 = nn.Conv1d(4, 16, kernel_size=3, padding=1)\n",
    "        self.bn2 = nn.BatchNorm1d(16)\n",
    "        self.relu2 = nn.ReLU()\n",
    "        self.conv3 = nn.Conv1d(16, 32, kernel_size=3, padding=1)\n",
    "        self.bn3 = nn.BatchNorm1d(32)\n",
    "        self.relu3 = nn.ReLU()\n",
    "\n",
    "        \n",
    "        # Hidden layer\n",
    "        self.flatten = nn.Flatten()\n",
    "        self.fc1 = nn.Linear(32*seq_len, 128)\n",
    "        self.bn5 = nn.BatchNorm1d(128)\n",
    "        self.relu5 = nn.ReLU()\n",
    "        self.fc2 = nn.Linear(128, 16)\n",
    "        self.bn6 = nn.BatchNorm1d(16)\n",
    "        self.relu6 = nn.ReLU()\n",
    "        self.dropout = nn.Dropout(p=0.5)\n",
    "        \n",
    "        # Output layer\n",
    "        self.fc3 = nn.Linear(16, 1)\n",
    "        self.sigmoid = nn.Sigmoid()\n",
    "\n",
    "    def forward(self, x):\n",
    "        x = self.conv1(x)\n",
    "        x = self.bn1(x)\n",
    "        x = self.relu1(x)\n",
    "        x = self.conv2(x)\n",
    "        x = self.bn2(x)\n",
    "        x = self.relu2(x)\n",
    "        x = self.conv3(x)\n",
    "        x = self.bn3(x)\n",
    "        x = self.relu3(x)\n",
    "\n",
    "        x = self.flatten(x)\n",
    "        x = self.fc1(x)\n",
    "        x = self.bn5(x)\n",
    "        x = self.relu5(x)\n",
    "        x = self.fc2(x)\n",
    "        x = self.bn6(x)\n",
    "        x = self.relu6(x)\n",
    "        x = self.dropout(x)\n",
    "        \n",
    "        x = self.fc3(x)\n",
    "        x = self.sigmoid(x)\n",
    "        return x\n",
    "    \n",
    "    def fit(self,  X: pd.DataFrame, y: pd.Series, X_val=None, y_val=None, time_limit=None, batch_size=256, epochs=3, lr=1e-4):\n",
    "        criterion = nn.BCELoss()\n",
    "        optimizer = optim.Adam(self.parameters(), lr=lr)\n",
    "        for epoch in range(epochs):\n",
    "            running_loss = 0.0\n",
    "            for i in range(0, len(X), batch_size):\n",
    "                inputs = X[i:i+batch_size]\n",
    "                labels = y[i:i+batch_size]\n",
    "                inputs = torch.unsqueeze(inputs, dim=1)\n",
    "                labels = torch.unsqueeze(labels, dim=1)\n",
    "                optimizer.zero_grad()\n",
    "                \n",
    "                # Forward pass\n",
    "                outputs = self(inputs)\n",
    "                loss = criterion(outputs, labels)\n",
    "\n",
    "                # Backward pass and optimization\n",
    "                loss.backward()\n",
    "                optimizer.step()\n",
    "                \n",
    "                running_loss += loss.item()\n",
    "\n",
    "            # Print average loss for the epoch\n",
    "            print(f\"Epoch {epoch+1}/{epochs}, Loss: {running_loss/len(X)}\")\n",
    "\n",
    "    \n",
    "class ConvNetModel(AbstractModel):\n",
    "    # The `_preprocess` method takes the input data and transforms it to the internal representation usable by the model.\n",
    "    # `_preprocess` is called by `preprocess` and is used during model fit and model inference.\n",
    "    def _preprocess(self, X, **kwargs):\n",
    "        # Perform preprocessing steps such as imputation, scaling, and one-hot encoding.\n",
    "        # Add any custom preprocessing steps if needed.\n",
    "        print(f'Before {self.__class__.__name__} Preprocessing ({len(X.columns)} features):\\n\\t')\n",
    "        X = super()._preprocess(X, **kwargs)\n",
    "        print(f'After  {self.__class__.__name__} Preprocessing ({len(X.columns)} features):\\n\\t')\n",
    "        return X\n",
    "\n",
    "            \n",
    "    def _fit(self, X, y, batch_size=128, epochs=10, lr=0.00001,  **kwargs):\n",
    "        X = torch.tensor(X.values, dtype=torch.float32)\n",
    "        y = torch.tensor(y.values, dtype=torch.float32)\n",
    "        seq_len = X.shape[1]\n",
    "        params = self._get_model_params()\n",
    "        self.model = ConvNet(input_channels = 1, seq_len=seq_len)\n",
    "        print(f'Hyperparameters: {params}')\n",
    "        self.model.fit(X, y, **params)\n",
    "\n",
    "            \n",
    "    def _set_default_params(self):\n",
    "        default_params = {\n",
    "            'batch_size': 64,\n",
    "            'lr': 1e-5,\n",
    "            'epochs': 10,\n",
    "        }\n",
    "        for param, val in default_params.items():\n",
    "            self._set_default_param_value(param, val)\n",
    "            \n",
    "#     def _get_default_searchspace(self):\n",
    "#         space = {\n",
    "#                 \"batch_size\":128, \n",
    "#                 'lr': Real(1e-4, 1e-2, default=5e-4, log=True),\n",
    "#                 \"epochs\":5, \n",
    "#         }\n",
    "#         return space\n",
    "\n",
    "\n",
    "    def predict_proba(self, X):\n",
    "        X_test = torch.tensor(X.values, dtype=torch.float32)\n",
    "        X_test = X_test.unsqueeze(1)  # Adjust the input shape for Conv1d\n",
    "        self.model.eval()\n",
    "        with torch.no_grad():\n",
    "            outputs = self.model(X_test)\n",
    "            predictions = outputs.squeeze().numpy()\n",
    "        return predictions\n",
    "\n",
    "        def predict(self, X):\n",
    "            proba = self.predict_proba(X)\n",
    "        return np.round(proba).astype(int)\n",
    "            "
   ]
  },
  {
   "cell_type": "code",
   "execution_count": 52,
   "id": "ed8a09f2",
   "metadata": {},
   "outputs": [
    {
     "name": "stderr",
     "output_type": "stream",
     "text": [
      "Loaded data from: ./train.csv | Columns = 4 / 4 | Rows = 11224 -> 11224\n",
      "Loaded data from: ./test.csv | Columns = 3 / 3 | Rows = 1323 -> 1323\n"
     ]
    },
    {
     "name": "stdout",
     "output_type": "stream",
     "text": [
      "(12547, 4)\n"
     ]
    }
   ],
   "source": [
    "################\n",
    "# Loading Data #\n",
    "################\n",
    "\n",
    "from autogluon.core.utils.loaders import load_pd\n",
    "import pandas as pd\n",
    "train_data  = load_pd.load('./train.csv')\n",
    "test_data  = load_pd.load('./test.csv')\n",
    "# sub dataset\n",
    "\n",
    "concatenated_df = pd.concat([train_data,test_data], axis=0)\n",
    "label = 'solubility'\n",
    "print(concatenated_df.shape)"
   ]
  },
  {
   "cell_type": "code",
   "execution_count": null,
   "id": "09c74f70",
   "metadata": {},
   "outputs": [],
   "source": [
    "from pandas import DataFrame\n",
    "import torch\n",
    "from autogluon.features.generators import AbstractFeatureGenerator\n",
    "from autogluon.common.features.types import R_INT,R_FLOAT,R_OBJECT,R_CATEGORY,S_TEXT_AS_CATEGORY \n",
    "import pandas as pd\n",
    "import numpy as np\n",
    "from torch.nn.utils.rnn import pad_sequence\n",
    "\n",
    "class one_hot_Generator(AbstractFeatureGenerator):\n",
    "    def __init__(self, **kwargs):\n",
    "        super().__init__(**kwargs)\n",
    "\n",
    "    def _fit_transform(self, X: DataFrame, **kwargs) -> (DataFrame, dict):\n",
    "        # Here we can specify any logic we want to make a stateful feature generator based on the data.\n",
    "        # Just call _transform since this isn't a stateful feature generator.\n",
    "        X_out = self._transform(X)\n",
    "        # return the output and the new special types of the data. For this generator, we don't add any new special types, so just return the input special types\n",
    "        return X_out, self.feature_metadata_in.type_group_map_special\n",
    "\n",
    "    def _transform(self, X: DataFrame) -> DataFrame:\n",
    "        # Here we can specify the logic taken to convert input data to output data post-fit. Here we can reference any variables created during fit if the generator is stateful.\n",
    "        # Because this feature generator is not stateful, we simply add k to all features.\n",
    "        letter_to_int = {'C': 0, 'P': 1, 'R': 2, 'N': 3, 'F': 4, 'K': 5, 'A': 6, 'H': 7, 'Y': 8, 'V': 9, 'L': 10, 'D': 11, 'G': 12, 'E': 13, 'Q': 14, 'M': 15, 'T': 16, 'S': 17, 'I': 18, 'W': 19, 'X':20}\n",
    "\n",
    "        def one_hot_encoding(sequence,letter_to_int):\n",
    "            letter_sequence = [letter_to_int[letter] for letter in sequence]\n",
    "\n",
    "            encoded_tensor  = torch.zeros((len(letter_to_int),len(sequence)), dtype=torch.int64)\n",
    "            for i in range(len(letter_sequence)):\n",
    "                encoded_tensor[letter_sequence[i],i] = 1\n",
    "            return encoded_tensor\n",
    "        \n",
    "        # Convert the protein sequences to one-hot encoding\n",
    "        \n",
    "        one_hot_df = pd.DataFrame()\n",
    "\n",
    "        # get the first column \n",
    "        column = X.iloc[:, 0]\n",
    "        sequences = column.tolist()\n",
    "        one_hot_seqs = []\n",
    "        for seq in sequences:\n",
    "            one_hot_seq = one_hot_encoding(seq,letter_to_int)\n",
    "            one_hot_seqs.append(one_hot_seq.flatten().numpy())\n",
    "\n",
    "        #print(\"one_hot_seqs size\",one_hot_seqs.shape)\n",
    "        # Create a dataframe with separate columns for each amino acid position\n",
    "        max_length = max(len(seq) for seq in sequences)\n",
    "        column_name = [f'aa{i}_{aa}' for aa in letter_to_int for i in range(1, max_length+1) ]\n",
    "\n",
    "\n",
    "        #print(\"one_hot_seqs shape\",one_hot_seqs.shape)\n",
    "        df = pd.DataFrame(one_hot_seqs,columns = column_name)\n",
    "        df  = df.fillna(value=0).astype(\"bool\")\n",
    "        return df\n",
    "\n",
    "    @staticmethod\n",
    "    def get_default_infer_features_in_args() -> dict:\n",
    "        default_infer_features = dict(valid_raw_types=[R_OBJECT]) \n",
    "        print(default_infer_features)\n",
    "        return default_infer_features  # This limits input features to only integers. We can assume that the input to _fit_transform and _transform only contain the data post-applying this filter.\n"
   ]
  },
  {
   "cell_type": "code",
   "execution_count": 56,
   "id": "37befac6",
   "metadata": {},
   "outputs": [
    {
     "name": "stderr",
     "output_type": "stream",
     "text": [
      "Fitting PipelineFeatureGenerator...\n",
      "\tAvailable Memory:                    718005.35 MB\n",
      "\tTrain Data (Original)  Memory Usage: 4.79 MB (0.0% of available memory)\n",
      "\tInferring data type of each feature based on column values. Set feature_metadata_in to manually specify special dtypes of the features.\n",
      "\tStage 1 Generators:\n",
      "\t\tFitting AsTypeFeatureGenerator...\n",
      "\t\t\tNote: Converting 1 features to boolean dtype as they only contain 2 unique values.\n",
      "\tStage 2 Generators:\n",
      "\t\tFitting FillNaFeatureGenerator...\n",
      "\tStage 3 Generators:\n",
      "\t\tFitting one_hot_Generator...\n"
     ]
    },
    {
     "name": "stdout",
     "output_type": "stream",
     "text": [
      "{'valid_raw_types': ['object']}\n"
     ]
    },
    {
     "name": "stderr",
     "output_type": "stream",
     "text": [
      "\t\t\tTypes of features in original data (raw dtype, special dtypes):\n",
      "\t\t\t\t('object', []) : 1 | ['seq']\n",
      "\t\t\tTypes of features in processed data (raw dtype, special dtypes):\n",
      "\t\t\t\t('bool', []) : 17010 | ['aa1_C', 'aa2_C', 'aa3_C', 'aa4_C', 'aa5_C', ...]\n",
      "\t\t\t448.9s = Fit runtime\n",
      "\t\t\t1 features in original data used to generate 17010 features in processed data.\n",
      "\t\tFitting IdentityFeatureGenerator...\n",
      "\tStage 4 Generators:\n",
      "\t\tFitting DropUniqueFeatureGenerator...\n",
      "\tStage 5 Generators:\n",
      "\t\tFitting DropDuplicatesFeatureGenerator...\n",
      "\tUnused Original Features (Count: 1): ['sid']\n",
      "\t\tThese features were not used to generate any of the output features. Add a feature generator compatible with these features to utilize them.\n",
      "\t\tFeatures can also be unused if they carry very little information, such as being categorical but having almost entirely unique values or being duplicates of other features.\n",
      "\t\tThese features do not need to be present at inference time.\n",
      "\t\t('object', []) : 1 | ['sid']\n",
      "\tTypes of features in original data (raw dtype, special dtypes):\n",
      "\t\t('float', [])  : 1 | ['fold']\n",
      "\t\t('int', [])    : 1 | ['solubility']\n",
      "\t\t('object', []) : 1 | ['seq']\n",
      "\tTypes of features in processed data (raw dtype, special dtypes):\n",
      "\t\t('bool', [])      : 10781 | ['aa2_C', 'aa3_C', 'aa4_C', 'aa5_C', 'aa6_C', ...]\n",
      "\t\t('float', [])     :     1 | ['fold']\n",
      "\t\t('int', ['bool']) :     1 | ['solubility']\n",
      "\t769.1s = Fit runtime\n",
      "\t3 features in original data used to generate 10783 features in processed data.\n",
      "\tTrain Data (Processed) Memory Usage: 135.48 MB (0.0% of available memory)\n"
     ]
    },
    {
     "name": "stdout",
     "output_type": "stream",
     "text": [
      "      aa2_C  aa3_C  aa4_C  aa5_C  aa6_C  aa7_C  aa8_C  aa9_C  aa10_C  aa11_C  \\\n",
      "0     False  False  False  False  False  False  False  False   False   False   \n",
      "1     False  False  False  False  False  False  False  False   False   False   \n",
      "2     False  False  False  False  False  False  False  False   False   False   \n",
      "3     False  False  False  False  False  False  False  False   False   False   \n",
      "4     False  False  False  False  False  False  False  False   False   False   \n",
      "...     ...    ...    ...    ...    ...    ...    ...    ...     ...     ...   \n",
      "1318  False  False  False  False  False  False  False  False   False   False   \n",
      "1319  False  False  False  False  False  False  False  False   False   False   \n",
      "1320  False  False  False  False  False  False  False  False   False   False   \n",
      "1321  False  False  False  False  False  False  False  False   False   False   \n",
      "1322  False  False  False  False  False  False  False  False   False   False   \n",
      "\n",
      "      ...  aa521_W  aa527_W  aa534_W  aa538_W  aa539_W  aa541_W  aa543_W  \\\n",
      "0     ...    False    False    False    False    False    False    False   \n",
      "1     ...    False    False    False    False    False    False    False   \n",
      "2     ...    False    False    False    False    False    False    False   \n",
      "3     ...    False    False    False    False    False    False    False   \n",
      "4     ...    False    False    False    False    False    False    False   \n",
      "...   ...      ...      ...      ...      ...      ...      ...      ...   \n",
      "1318  ...    False    False    False    False    False    False    False   \n",
      "1319  ...    False    False    False    False    False    False    False   \n",
      "1320  ...    False    False    False    False    False    False    False   \n",
      "1321  ...    False    False    False    False    False    False    False   \n",
      "1322  ...    False    False    False    False    False    False    False   \n",
      "\n",
      "      aa561_W  solubility  fold  \n",
      "0       False           1   0.0  \n",
      "1       False           1   1.0  \n",
      "2       False           1   1.0  \n",
      "3       False           1   1.0  \n",
      "4       False           1   2.0  \n",
      "...       ...         ...   ...  \n",
      "1318    False           1   NaN  \n",
      "1319    False           1   NaN  \n",
      "1320    False           1   NaN  \n",
      "1321    False           1   NaN  \n",
      "1322    False           1   NaN  \n",
      "\n",
      "[12547 rows x 10783 columns]\n"
     ]
    }
   ],
   "source": [
    "from autogluon.features.generators import CategoryFeatureGenerator, AsTypeFeatureGenerator, BulkFeatureGenerator, DropUniqueFeatureGenerator, FillNaFeatureGenerator, PipelineFeatureGenerator, OneHotEncoderFeatureGenerator,IdentityFeatureGenerator\n",
    "import copy\n",
    "import sys\n",
    "sys.path.append('/user/mahaohui/autoML/autogluon_examples')\n",
    "from feature_generator import count_charge_Generator, net_charge_Generator, one_hot_Generator\n",
    "\n",
    "\n",
    "train_feature_generator = PipelineFeatureGenerator(\n",
    "    generators=[\n",
    "        # Stage 1: Convert feature types to be the same as during fit. Does not need to be specified.\n",
    "        # Stage 2: Fill NaN values of data. Does not need to be specified.\n",
    "        [  # Stage 3: Add 5 to all int features and convert all object features to category features. Concatenate the outputs of each.\n",
    "            # count_charge_Generator(),\n",
    "            # net_charge_Generator(),\n",
    "            one_hot_Generator(verbosity=3,features_in=['seq'],seq_type=\"protein\"),\n",
    "            #OneHotEncoderFeatureGenerator(),\n",
    "            #CategoryFeatureGenerator(),\n",
    "            IdentityFeatureGenerator(infer_features_in_args=dict(\n",
    "                valid_raw_types=[R_INT, R_FLOAT])),\n",
    "        ],\n",
    "        # Stage 4: Drop any features which are always the same value (useless). Does not need to be specified.\n",
    "     ],\n",
    "    verbosity=3\n",
    ")\n",
    "one_hot_all_data = train_feature_generator.fit_transform(X=concatenated_df)\n",
    "print(one_hot_all_data)"
   ]
  },
  {
   "cell_type": "code",
   "execution_count": 57,
   "id": "297ad5f8",
   "metadata": {},
   "outputs": [
    {
     "name": "stdout",
     "output_type": "stream",
     "text": [
      "(11224, 10783)\n",
      "(1323, 10783)\n"
     ]
    }
   ],
   "source": [
    "one_hot_train_data = one_hot_all_data[:len(train_data)]\n",
    "one_hot_test_data = one_hot_all_data[len(train_data):]\n",
    "print(one_hot_train_data.shape)\n",
    "print(one_hot_test_data.shape)"
   ]
  },
  {
   "cell_type": "code",
   "execution_count": 58,
   "id": "965ee623",
   "metadata": {},
   "outputs": [],
   "source": [
    "one_hot_valid_data1 = one_hot_train_data[one_hot_train_data[\"fold\"] ==0.0]\n",
    "one_hot_train_data1 = one_hot_train_data[one_hot_train_data[\"fold\"] !=0.0]"
   ]
  },
  {
   "cell_type": "code",
   "execution_count": 59,
   "id": "39d9dabc",
   "metadata": {},
   "outputs": [],
   "source": [
    "one_hot_train_data1 = one_hot_train_data1.drop([\"fold\"],axis=1)\n",
    "one_hot_valid_data1 = one_hot_valid_data1.drop([\"fold\"],axis=1)"
   ]
  },
  {
   "cell_type": "code",
   "execution_count": 70,
   "id": "f0b9f49c",
   "metadata": {},
   "outputs": [
    {
     "name": "stdout",
     "output_type": "stream",
     "text": [
      "(8281, 10782)\n",
      "(2943, 10782)\n"
     ]
    }
   ],
   "source": [
    "print(one_hot_train_data1.shape)\n",
    "print(one_hot_valid_data1.shape)"
   ]
  },
  {
   "cell_type": "code",
   "execution_count": null,
   "id": "91d776bb",
   "metadata": {},
   "outputs": [],
   "source": []
  },
  {
   "cell_type": "code",
   "execution_count": null,
   "id": "449fb73b",
   "metadata": {},
   "outputs": [],
   "source": [
    "from autogluon.common import space\n",
    "from autogluon.tabular.configs.hyperparameter_configs import get_hyperparameter_config\n",
    "\n",
    "custom_hyperparameters = get_hyperparameter_config('default')\n",
    "\n",
    "# custom_hyperparameters[CustomRandomForestModel] = best_model_info['hyperparameters']\n",
    "\n",
    "print(custom_hyperparameters)"
   ]
  },
  {
   "cell_type": "code",
   "execution_count": 12,
   "id": "82783506",
   "metadata": {},
   "outputs": [
    {
     "name": "stderr",
     "output_type": "stream",
     "text": [
      "No path specified. Models will be saved in: \"AutogluonModels/ag-20230630_020944/\"\n",
      "Warning: hyperparameter tuning is currently experimental and may cause the process to hang.\n",
      "Warning: Training may take a very long time because `time_limit` was not specified and `train_data` is large (8281 samples, 89.35 MB).\n",
      "\tConsider setting `time_limit` to ensure training finishes within an expected duration or experiment with a small portion of `train_data` to identify an ideal `presets` and `hyperparameters` configuration.\n",
      "Beginning AutoGluon training ...\n",
      "AutoGluon will save models to \"AutogluonModels/ag-20230630_020944/\"\n",
      "AutoGluon Version:  0.8.0\n",
      "Python Version:     3.9.0\n",
      "Operating System:   Linux\n",
      "Platform Machine:   x86_64\n",
      "Platform Version:   #1 SMP Thu Jun 10 13:32:12 UTC 2021\n",
      "Disk Space Avail:   200565.61 GB / 595935.30 GB (33.7%)\n",
      "Train Data Rows:    8281\n",
      "Train Data Columns: 10781\n",
      "Tuning Data Rows:    2943\n",
      "Tuning Data Columns: 10781\n",
      "Label Column: solubility\n",
      "Preprocessing data ...\n",
      "AutoGluon infers your prediction problem is: 'binary' (because only two unique label-values observed).\n",
      "\t2 unique label values:  [1, 0]\n",
      "\tIf 'binary' is not the correct problem_type, please manually specify the problem_type parameter during predictor init (You may specify problem_type as one of: ['binary', 'multiclass', 'regression'])\n",
      "Selected class <--> label mapping:  class 1 = 1, class 0 = 0\n",
      "Using Feature Generators to preprocess the data ...\n",
      "Fitting IdentityFeatureGenerator...\n",
      "\tInferring data type of each feature based on column values. Set feature_metadata_in to manually specify special dtypes of the features.\n",
      "Data preprocessing and feature engineering runtime = 4.24s ...\n",
      "AutoGluon will gauge predictive performance using evaluation metric: 'accuracy'\n",
      "\tTo change this, specify the eval_metric parameter of Predictor()\n",
      "User-specified model hyperparameters to be fit:\n",
      "{\n",
      "\t'<class '__main__.ConvNetModel'>': {'batch_size': Categorical[128], 'lr': Real: lower=0.0001, upper=0.01, 'epochs': 10},\n",
      "}\n",
      "Custom Model Type Detected: <class '__main__.ConvNetModel'>\n",
      "Fitting 1 L1 models ...\n",
      "Hyperparameter tuning model: ConvNetModel ...\n",
      "  0%|                                                             | 0/5 [00:00<?, ?it/s]"
     ]
    },
    {
     "name": "stdout",
     "output_type": "stream",
     "text": [
      "Hyperparameters: {'batch_size': 128, 'lr': 0.0005, 'epochs': 10}\n",
      "Epoch 1/10, Loss: 0.0056418848057873455\n",
      "Epoch 2/10, Loss: 0.004856681927378203\n",
      "Epoch 3/10, Loss: 0.004068589227784876\n",
      "Epoch 4/10, Loss: 0.0033785005638441333\n",
      "Epoch 5/10, Loss: 0.002801516175975461\n",
      "Epoch 6/10, Loss: 0.0022911998981900326\n",
      "Epoch 7/10, Loss: 0.0019319511211345973\n",
      "Epoch 8/10, Loss: 0.0016738284438175505\n",
      "Epoch 9/10, Loss: 0.001468047481662279\n",
      "Epoch 10/10, Loss: 0.0013163420543220363\n"
     ]
    },
    {
     "name": "stderr",
     "output_type": "stream",
     "text": [
      "\r",
      " 20%|██████████▍                                         | 1/5 [02:45<11:00, 165.19s/it]"
     ]
    },
    {
     "name": "stdout",
     "output_type": "stream",
     "text": [
      "Hyperparameters: {'batch_size': 128, 'lr': 0.0012520653814999461, 'epochs': 10}\n",
      "Epoch 1/10, Loss: 0.005437165595903271\n",
      "Epoch 2/10, Loss: 0.004641821571283763\n",
      "Epoch 3/10, Loss: 0.0037313649265997336\n",
      "Epoch 4/10, Loss: 0.0027366700490997144\n",
      "Epoch 5/10, Loss: 0.0020186217881216404\n",
      "Epoch 6/10, Loss: 0.0016957681840664666\n",
      "Epoch 7/10, Loss: 0.0014722569427359524\n",
      "Epoch 8/10, Loss: 0.0012199352869318384\n",
      "Epoch 9/10, Loss: 0.0009869540445601043\n",
      "Epoch 10/10, Loss: 0.000877695745866003\n"
     ]
    },
    {
     "name": "stderr",
     "output_type": "stream",
     "text": [
      "\r",
      " 40%|████████████████████▊                               | 2/5 [05:42<08:36, 172.19s/it]"
     ]
    },
    {
     "name": "stdout",
     "output_type": "stream",
     "text": [
      "Hyperparameters: {'batch_size': 128, 'lr': 0.0026938830192854094, 'epochs': 10}\n",
      "Epoch 1/10, Loss: 0.0052487633248743636\n",
      "Epoch 2/10, Loss: 0.004758157975977997\n",
      "Epoch 3/10, Loss: 0.0037370661745726695\n",
      "Epoch 4/10, Loss: 0.0027313226591689967\n",
      "Epoch 5/10, Loss: 0.0021009648833034723\n",
      "Epoch 6/10, Loss: 0.0017860730015242564\n",
      "Epoch 7/10, Loss: 0.0015121622677083148\n",
      "Epoch 8/10, Loss: 0.0012387363992513573\n",
      "Epoch 9/10, Loss: 0.0009716573903352191\n",
      "Epoch 10/10, Loss: 0.0008301536837481831\n"
     ]
    },
    {
     "name": "stderr",
     "output_type": "stream",
     "text": [
      "\r",
      " 60%|███████████████████████████████▏                    | 3/5 [08:39<05:48, 174.39s/it]"
     ]
    },
    {
     "name": "stdout",
     "output_type": "stream",
     "text": [
      "Hyperparameters: {'batch_size': 128, 'lr': 0.0016051911333587626, 'epochs': 10}\n",
      "Epoch 1/10, Loss: 0.005173405311401592\n",
      "Epoch 2/10, Loss: 0.0046976013447607564\n",
      "Epoch 3/10, Loss: 0.0038533715821164713\n",
      "Epoch 4/10, Loss: 0.002889528865184261\n",
      "Epoch 5/10, Loss: 0.002299545788272627\n",
      "Epoch 6/10, Loss: 0.0020266810616294106\n",
      "Epoch 7/10, Loss: 0.001740443860904388\n",
      "Epoch 8/10, Loss: 0.001520208734602848\n",
      "Epoch 9/10, Loss: 0.0012750837332441414\n",
      "Epoch 10/10, Loss: 0.0011247650199128786\n"
     ]
    },
    {
     "name": "stderr",
     "output_type": "stream",
     "text": [
      "\r",
      " 80%|█████████████████████████████████████████▌          | 4/5 [11:35<02:55, 175.06s/it]"
     ]
    },
    {
     "name": "stdout",
     "output_type": "stream",
     "text": [
      "Hyperparameters: {'batch_size': 128, 'lr': 0.0012296071107325704, 'epochs': 10}\n",
      "Epoch 1/10, Loss: 0.005581191471126572\n",
      "Epoch 2/10, Loss: 0.004676360688683434\n",
      "Epoch 3/10, Loss: 0.003548316672838421\n",
      "Epoch 4/10, Loss: 0.0027399561159306427\n",
      "Epoch 5/10, Loss: 0.0022333456782986038\n",
      "Epoch 6/10, Loss: 0.001768866059731464\n",
      "Epoch 7/10, Loss: 0.001463095377377159\n",
      "Epoch 8/10, Loss: 0.0012938581958598467\n",
      "Epoch 9/10, Loss: 0.0010961500327017928\n",
      "Epoch 10/10, Loss: 0.0009896852964077173\n"
     ]
    },
    {
     "name": "stderr",
     "output_type": "stream",
     "text": [
      "100%|████████████████████████████████████████████████████| 5/5 [14:33<00:00, 174.68s/it]\n",
      "Fitted model: ConvNetModel/T1 ...\n",
      "\t0.6983\t = Validation score   (accuracy)\n",
      "\t158.21s\t = Training   runtime\n",
      "\t4.42s\t = Validation runtime\n",
      "Fitted model: ConvNetModel/T2 ...\n",
      "\t0.6772\t = Validation score   (accuracy)\n",
      "\t170.59s\t = Training   runtime\n",
      "\t4.57s\t = Validation runtime\n",
      "Fitted model: ConvNetModel/T3 ...\n",
      "\t0.6922\t = Validation score   (accuracy)\n",
      "\t170.71s\t = Training   runtime\n",
      "\t4.47s\t = Validation runtime\n",
      "Fitted model: ConvNetModel/T4 ...\n",
      "\t0.6898\t = Validation score   (accuracy)\n",
      "\t170.13s\t = Training   runtime\n",
      "\t4.09s\t = Validation runtime\n",
      "Fitted model: ConvNetModel/T5 ...\n",
      "\t0.6867\t = Validation score   (accuracy)\n",
      "\t172.35s\t = Training   runtime\n",
      "\t4.26s\t = Validation runtime\n",
      "Fitting model: WeightedEnsemble_L2 ...\n",
      "\t0.704\t = Validation score   (accuracy)\n",
      "\t0.53s\t = Training   runtime\n",
      "\t0.0s\t = Validation runtime\n",
      "AutoGluon training complete, total runtime = 922.85s ... Best model: \"WeightedEnsemble_L2\"\n",
      "TabularPredictor saved. To load, use: predictor = TabularPredictor.load(\"AutogluonModels/ag-20230630_020944/\")\n"
     ]
    },
    {
     "data": {
      "text/plain": [
       "<autogluon.tabular.predictor.predictor.TabularPredictor at 0x2af286668f70>"
      ]
     },
     "execution_count": 12,
     "metadata": {},
     "output_type": "execute_result"
    }
   ],
   "source": [
    "# train customised model with other models together \n",
    "from autogluon.common import space\n",
    "\n",
    "ConvNetoptions =  {\n",
    "    \"batch_size\":space.Categorical(128), \n",
    "    'lr': space.Real(1e-5, 1e-2, default=5e-4, log=True),\n",
    "    \"epochs\":10, \n",
    "}\n",
    "\n",
    "custom_hyperparameters = {ConvNetModel: ConvNetoptions}\n",
    "\n",
    "tune_kwargs = {\n",
    "                  \"searcher\": \"bayes\", # bayes\n",
    "                  \"scheduler\": \"local\",\n",
    "                  \"num_trials\": 10,\n",
    "              }\n",
    "predictor = TabularPredictor(label=label)\n",
    "predictor.fit(train_data=one_hot_train_data1, \n",
    "              tuning_data=one_hot_valid_data1, \n",
    "              hyperparameters=custom_hyperparameters, \n",
    "              hyperparameter_tune_kwargs= tune_kwargs,\n",
    "              feature_generator=None, )  "
   ]
  },
  {
   "cell_type": "code",
   "execution_count": 13,
   "id": "34aeefb4",
   "metadata": {},
   "outputs": [
    {
     "data": {
      "text/plain": [
       "{'accuracy': 0.6092214663643235,\n",
       " 'balanced_accuracy': 0.554387385741305,\n",
       " 'mcc': 0.11600797649894112,\n",
       " 'roc_auc': 0.6120068542871393,\n",
       " 'f1': 0.7110117384013415,\n",
       " 'precision': 0.6715945089757128,\n",
       " 'recall': 0.7553444180522565}"
      ]
     },
     "execution_count": 13,
     "metadata": {},
     "output_type": "execute_result"
    }
   ],
   "source": [
    "predictor.evaluate(one_hot_test_data, silent=True)"
   ]
  },
  {
   "cell_type": "code",
   "execution_count": 14,
   "id": "1b3dd5fe",
   "metadata": {},
   "outputs": [
    {
     "data": {
      "text/plain": [
       "{'accuracy': 0.7040434930343187,\n",
       " 'balanced_accuracy': 0.5823321068170801,\n",
       " 'mcc': 0.20353966510956048,\n",
       " 'roc_auc': 0.6437852531617679,\n",
       " 'f1': 0.8074286977669688,\n",
       " 'precision': 0.7422764227642277,\n",
       " 'recall': 0.8851187590887057}"
      ]
     },
     "execution_count": 14,
     "metadata": {},
     "output_type": "execute_result"
    }
   ],
   "source": [
    "predictor.evaluate(one_hot_valid_data1, silent=True)"
   ]
  },
  {
   "cell_type": "code",
   "execution_count": 15,
   "id": "91289560",
   "metadata": {},
   "outputs": [],
   "source": [
    "leaderboard_hpo = predictor.leaderboard(one_hot_test_data, silent=True)"
   ]
  },
  {
   "cell_type": "code",
   "execution_count": 16,
   "id": "31c9f4cc",
   "metadata": {},
   "outputs": [
    {
     "name": "stdout",
     "output_type": "stream",
     "text": [
      "{'name': 'ConvNetModel/T3', 'model_type': 'ConvNetModel', 'problem_type': 'binary', 'eval_metric': 'accuracy', 'stopping_metric': 'accuracy', 'fit_time': 170.71413469314575, 'num_classes': 2, 'quantile_levels': None, 'predict_time': 4.474642038345337, 'val_score': 0.6921508664627931, 'hyperparameters': {'batch_size': 128, 'lr': 0.0026938830192854094, 'epochs': 10}, 'hyperparameters_fit': {}, 'hyperparameters_nondefault': ['batch_size', 'lr', 'epochs'], 'ag_args_fit': {'max_memory_usage_ratio': 1.0, 'max_time_limit_ratio': 1.0, 'max_time_limit': None, 'min_time_limit': 0, 'valid_raw_types': None, 'valid_special_types': None, 'ignored_type_group_special': None, 'ignored_type_group_raw': None, 'get_features_kwargs': None, 'get_features_kwargs_extra': None, 'predict_1_batch_size': None, 'temperature_scalar': None}, 'num_features': 10781, 'features': ['aa2_C', 'aa3_C', 'aa4_C', 'aa5_C', 'aa6_C', 'aa7_C', 'aa8_C', 'aa9_C', 'aa10_C', 'aa11_C', 'aa12_C', 'aa13_C', 'aa14_C', 'aa15_C', 'aa16_C', 'aa17_C', 'aa18_C', 'aa19_C', 'aa20_C', 'aa21_C', 'aa22_C', 'aa23_C', 'aa24_C', 'aa25_C', 'aa26_C', 'aa27_C', 'aa28_C', 'aa29_C', 'aa30_C', 'aa31_C', 'aa32_C', 'aa33_C', 'aa34_C', 'aa35_C', 'aa36_C', 'aa37_C', 'aa38_C', 'aa39_C', 'aa40_C', 'aa41_C', 'aa42_C', 'aa43_C', 'aa44_C', 'aa45_C', 'aa46_C', 'aa47_C', 'aa48_C', 'aa49_C', 'aa50_C', 'aa51_C', 'aa52_C', 'aa53_C', 'aa54_C', 'aa55_C', 'aa56_C', 'aa57_C', 'aa58_C', 'aa59_C', 'aa60_C', 'aa61_C', 'aa62_C', 'aa63_C', 'aa64_C', 'aa65_C', 'aa66_C', 'aa67_C', 'aa68_C', 'aa69_C', 'aa70_C', 'aa71_C', 'aa72_C', 'aa73_C', 'aa74_C', 'aa75_C', 'aa76_C', 'aa77_C', 'aa78_C', 'aa79_C', 'aa80_C', 'aa81_C', 'aa82_C', 'aa83_C', 'aa84_C', 'aa85_C', 'aa86_C', 'aa87_C', 'aa88_C', 'aa89_C', 'aa90_C', 'aa91_C', 'aa92_C', 'aa93_C', 'aa94_C', 'aa95_C', 'aa96_C', 'aa97_C', 'aa98_C', 'aa99_C', 'aa100_C', 'aa101_C', 'aa102_C', 'aa103_C', 'aa104_C', 'aa105_C', 'aa106_C', 'aa107_C', 'aa108_C', 'aa109_C', 'aa110_C', 'aa111_C', 'aa112_C', 'aa113_C', 'aa114_C', 'aa115_C', 'aa116_C', 'aa117_C', 'aa118_C', 'aa119_C', 'aa120_C', 'aa121_C', 'aa122_C', 'aa123_C', 'aa124_C', 'aa125_C', 'aa126_C', 'aa127_C', 'aa128_C', 'aa129_C', 'aa130_C', 'aa131_C', 'aa132_C', 'aa133_C', 'aa134_C', 'aa135_C', 'aa136_C', 'aa137_C', 'aa138_C', 'aa139_C', 'aa140_C', 'aa141_C', 'aa142_C', 'aa143_C', 'aa144_C', 'aa145_C', 'aa146_C', 'aa147_C', 'aa148_C', 'aa149_C', 'aa150_C', 'aa151_C', 'aa152_C', 'aa153_C', 'aa154_C', 'aa155_C', 'aa156_C', 'aa157_C', 'aa158_C', 'aa159_C', 'aa160_C', 'aa161_C', 'aa162_C', 'aa163_C', 'aa164_C', 'aa165_C', 'aa166_C', 'aa167_C', 'aa168_C', 'aa169_C', 'aa170_C', 'aa171_C', 'aa172_C', 'aa173_C', 'aa174_C', 'aa175_C', 'aa176_C', 'aa177_C', 'aa178_C', 'aa179_C', 'aa180_C', 'aa181_C', 'aa182_C', 'aa183_C', 'aa184_C', 'aa185_C', 'aa186_C', 'aa187_C', 'aa188_C', 'aa189_C', 'aa190_C', 'aa191_C', 'aa192_C', 'aa193_C', 'aa194_C', 'aa195_C', 'aa196_C', 'aa197_C', 'aa198_C', 'aa199_C', 'aa200_C', 'aa201_C', 'aa202_C', 'aa203_C', 'aa204_C', 'aa205_C', 'aa206_C', 'aa207_C', 'aa208_C', 'aa209_C', 'aa210_C', 'aa211_C', 'aa212_C', 'aa213_C', 'aa214_C', 'aa215_C', 'aa216_C', 'aa217_C', 'aa218_C', 'aa219_C', 'aa220_C', 'aa221_C', 'aa222_C', 'aa223_C', 'aa224_C', 'aa225_C', 'aa226_C', 'aa227_C', 'aa228_C', 'aa229_C', 'aa230_C', 'aa231_C', 'aa232_C', 'aa233_C', 'aa234_C', 'aa235_C', 'aa236_C', 'aa237_C', 'aa238_C', 'aa239_C', 'aa240_C', 'aa241_C', 'aa242_C', 'aa243_C', 'aa244_C', 'aa245_C', 'aa246_C', 'aa247_C', 'aa248_C', 'aa249_C', 'aa250_C', 'aa251_C', 'aa252_C', 'aa253_C', 'aa254_C', 'aa255_C', 'aa256_C', 'aa257_C', 'aa258_C', 'aa259_C', 'aa260_C', 'aa261_C', 'aa262_C', 'aa263_C', 'aa264_C', 'aa265_C', 'aa266_C', 'aa267_C', 'aa268_C', 'aa269_C', 'aa270_C', 'aa271_C', 'aa272_C', 'aa273_C', 'aa274_C', 'aa275_C', 'aa276_C', 'aa277_C', 'aa278_C', 'aa279_C', 'aa280_C', 'aa281_C', 'aa282_C', 'aa283_C', 'aa284_C', 'aa285_C', 'aa286_C', 'aa287_C', 'aa288_C', 'aa289_C', 'aa290_C', 'aa291_C', 'aa292_C', 'aa293_C', 'aa294_C', 'aa295_C', 'aa296_C', 'aa297_C', 'aa298_C', 'aa299_C', 'aa300_C', 'aa301_C', 'aa302_C', 'aa303_C', 'aa304_C', 'aa305_C', 'aa306_C', 'aa307_C', 'aa308_C', 'aa309_C', 'aa310_C', 'aa311_C', 'aa312_C', 'aa313_C', 'aa314_C', 'aa315_C', 'aa316_C', 'aa317_C', 'aa318_C', 'aa319_C', 'aa320_C', 'aa321_C', 'aa322_C', 'aa323_C', 'aa324_C', 'aa325_C', 'aa326_C', 'aa327_C', 'aa328_C', 'aa329_C', 'aa330_C', 'aa331_C', 'aa332_C', 'aa333_C', 'aa334_C', 'aa335_C', 'aa336_C', 'aa337_C', 'aa338_C', 'aa339_C', 'aa340_C', 'aa341_C', 'aa342_C', 'aa343_C', 'aa344_C', 'aa345_C', 'aa346_C', 'aa347_C', 'aa348_C', 'aa349_C', 'aa350_C', 'aa351_C', 'aa352_C', 'aa353_C', 'aa354_C', 'aa355_C', 'aa356_C', 'aa357_C', 'aa358_C', 'aa359_C', 'aa360_C', 'aa361_C', 'aa362_C', 'aa363_C', 'aa364_C', 'aa365_C', 'aa366_C', 'aa367_C', 'aa368_C', 'aa369_C', 'aa370_C', 'aa371_C', 'aa372_C', 'aa373_C', 'aa374_C', 'aa375_C', 'aa376_C', 'aa377_C', 'aa378_C', 'aa379_C', 'aa380_C', 'aa381_C', 'aa382_C', 'aa383_C', 'aa384_C', 'aa385_C', 'aa386_C', 'aa387_C', 'aa388_C', 'aa389_C', 'aa390_C', 'aa391_C', 'aa392_C', 'aa393_C', 'aa394_C', 'aa395_C', 'aa396_C', 'aa397_C', 'aa398_C', 'aa399_C', 'aa400_C', 'aa401_C', 'aa402_C', 'aa403_C', 'aa404_C', 'aa405_C', 'aa406_C', 'aa407_C', 'aa408_C', 'aa409_C', 'aa410_C', 'aa411_C', 'aa412_C', 'aa414_C', 'aa415_C', 'aa416_C', 'aa417_C', 'aa418_C', 'aa420_C', 'aa421_C', 'aa422_C', 'aa426_C', 'aa427_C', 'aa429_C', 'aa430_C', 'aa432_C', 'aa435_C', 'aa437_C', 'aa442_C', 'aa443_C', 'aa445_C', 'aa446_C', 'aa447_C', 'aa448_C', 'aa450_C', 'aa451_C', 'aa452_C', 'aa453_C', 'aa456_C', 'aa457_C', 'aa460_C', 'aa461_C', 'aa462_C', 'aa464_C', 'aa465_C', 'aa466_C', 'aa467_C', 'aa468_C', 'aa470_C', 'aa471_C', 'aa473_C', 'aa474_C', 'aa476_C', 'aa477_C', 'aa479_C', 'aa485_C', 'aa486_C', 'aa490_C', 'aa492_C', 'aa493_C', 'aa495_C', 'aa496_C', 'aa498_C', 'aa499_C', 'aa502_C', 'aa508_C', 'aa509_C', 'aa510_C', 'aa517_C', 'aa519_C', 'aa527_C', 'aa532_C', 'aa533_C', 'aa536_C', 'aa539_C', 'aa571_C', 'aa608_C', 'aa1_P', 'aa2_P', 'aa3_P', 'aa4_P', 'aa5_P', 'aa6_P', 'aa7_P', 'aa8_P', 'aa9_P', 'aa10_P', 'aa11_P', 'aa12_P', 'aa13_P', 'aa14_P', 'aa15_P', 'aa16_P', 'aa17_P', 'aa18_P', 'aa19_P', 'aa20_P', 'aa21_P', 'aa22_P', 'aa23_P', 'aa24_P', 'aa25_P', 'aa26_P', 'aa27_P', 'aa28_P', 'aa29_P', 'aa30_P', 'aa31_P', 'aa32_P', 'aa33_P', 'aa34_P', 'aa35_P', 'aa36_P', 'aa37_P', 'aa38_P', 'aa39_P', 'aa40_P', 'aa41_P', 'aa42_P', 'aa43_P', 'aa44_P', 'aa45_P', 'aa46_P', 'aa47_P', 'aa48_P', 'aa49_P', 'aa50_P', 'aa51_P', 'aa52_P', 'aa53_P', 'aa54_P', 'aa55_P', 'aa56_P', 'aa57_P', 'aa58_P', 'aa59_P', 'aa60_P', 'aa61_P', 'aa62_P', 'aa63_P', 'aa64_P', 'aa65_P', 'aa66_P', 'aa67_P', 'aa68_P', 'aa69_P', 'aa70_P', 'aa71_P', 'aa72_P', 'aa73_P', 'aa74_P', 'aa75_P', 'aa76_P', 'aa77_P', 'aa78_P', 'aa79_P', 'aa80_P', 'aa81_P', 'aa82_P', 'aa83_P', 'aa84_P', 'aa85_P', 'aa86_P', 'aa87_P', 'aa88_P', 'aa89_P', 'aa90_P', 'aa91_P', 'aa92_P', 'aa93_P', 'aa94_P', 'aa95_P', 'aa96_P', 'aa97_P', 'aa98_P', 'aa99_P', 'aa100_P', 'aa101_P', 'aa102_P', 'aa103_P', 'aa104_P', 'aa105_P', 'aa106_P', 'aa107_P', 'aa108_P', 'aa109_P', 'aa110_P', 'aa111_P', 'aa112_P', 'aa113_P', 'aa114_P', 'aa115_P', 'aa116_P', 'aa117_P', 'aa118_P', 'aa119_P', 'aa120_P', 'aa121_P', 'aa122_P', 'aa123_P', 'aa124_P', 'aa125_P', 'aa126_P', 'aa127_P', 'aa128_P', 'aa129_P', 'aa130_P', 'aa131_P', 'aa132_P', 'aa133_P', 'aa134_P', 'aa135_P', 'aa136_P', 'aa137_P', 'aa138_P', 'aa139_P', 'aa140_P', 'aa141_P', 'aa142_P', 'aa143_P', 'aa144_P', 'aa145_P', 'aa146_P', 'aa147_P', 'aa148_P', 'aa149_P', 'aa150_P', 'aa151_P', 'aa152_P', 'aa153_P', 'aa154_P', 'aa155_P', 'aa156_P', 'aa157_P', 'aa158_P', 'aa159_P', 'aa160_P', 'aa161_P', 'aa162_P', 'aa163_P', 'aa164_P', 'aa165_P', 'aa166_P', 'aa167_P', 'aa168_P', 'aa169_P', 'aa170_P', 'aa171_P', 'aa172_P', 'aa173_P', 'aa174_P', 'aa175_P', 'aa176_P', 'aa177_P', 'aa178_P', 'aa179_P', 'aa180_P', 'aa181_P', 'aa182_P', 'aa183_P', 'aa184_P', 'aa185_P', 'aa186_P', 'aa187_P', 'aa188_P', 'aa189_P', 'aa190_P', 'aa191_P', 'aa192_P', 'aa193_P', 'aa194_P', 'aa195_P', 'aa196_P', 'aa197_P', 'aa198_P', 'aa199_P', 'aa200_P', 'aa201_P', 'aa202_P', 'aa203_P', 'aa204_P', 'aa205_P', 'aa206_P', 'aa207_P', 'aa208_P', 'aa209_P', 'aa210_P', 'aa211_P', 'aa212_P', 'aa213_P', 'aa214_P', 'aa215_P', 'aa216_P', 'aa217_P', 'aa218_P', 'aa219_P', 'aa220_P', 'aa221_P', 'aa222_P', 'aa223_P', 'aa224_P', 'aa225_P', 'aa226_P', 'aa227_P', 'aa228_P', 'aa229_P', 'aa230_P', 'aa231_P', 'aa232_P', 'aa233_P', 'aa234_P', 'aa235_P', 'aa236_P', 'aa237_P', 'aa238_P', 'aa239_P', 'aa240_P', 'aa241_P', 'aa242_P', 'aa243_P', 'aa244_P', 'aa245_P', 'aa246_P', 'aa247_P', 'aa248_P', 'aa249_P', 'aa250_P', 'aa251_P', 'aa252_P', 'aa253_P', 'aa254_P', 'aa255_P', 'aa256_P', 'aa257_P', 'aa258_P', 'aa259_P', 'aa260_P', 'aa261_P', 'aa262_P', 'aa263_P', 'aa264_P', 'aa265_P', 'aa266_P', 'aa267_P', 'aa268_P', 'aa269_P', 'aa270_P', 'aa271_P', 'aa272_P', 'aa273_P', 'aa274_P', 'aa275_P', 'aa276_P', 'aa277_P', 'aa278_P', 'aa279_P', 'aa280_P', 'aa281_P', 'aa282_P', 'aa283_P', 'aa284_P', 'aa285_P', 'aa286_P', 'aa287_P', 'aa288_P', 'aa289_P', 'aa290_P', 'aa291_P', 'aa292_P', 'aa293_P', 'aa294_P', 'aa295_P', 'aa296_P', 'aa297_P', 'aa298_P', 'aa299_P', 'aa300_P', 'aa301_P', 'aa302_P', 'aa303_P', 'aa304_P', 'aa305_P', 'aa306_P', 'aa307_P', 'aa308_P', 'aa309_P', 'aa310_P', 'aa311_P', 'aa312_P', 'aa313_P', 'aa314_P', 'aa315_P', 'aa316_P', 'aa317_P', 'aa318_P', 'aa319_P', 'aa320_P', 'aa321_P', 'aa322_P', 'aa323_P', 'aa324_P', 'aa325_P', 'aa326_P', 'aa327_P', 'aa328_P', 'aa329_P', 'aa330_P', 'aa331_P', 'aa332_P', 'aa333_P', 'aa334_P', 'aa335_P', 'aa336_P', 'aa337_P', 'aa338_P', 'aa339_P', 'aa340_P', 'aa341_P', 'aa342_P', 'aa343_P', 'aa344_P', 'aa345_P', 'aa346_P', 'aa347_P', 'aa348_P', 'aa349_P', 'aa350_P', 'aa351_P', 'aa352_P', 'aa353_P', 'aa354_P', 'aa355_P', 'aa356_P', 'aa357_P', 'aa358_P', 'aa359_P', 'aa360_P', 'aa361_P', 'aa362_P', 'aa363_P', 'aa364_P', 'aa365_P', 'aa366_P', 'aa367_P', 'aa368_P', 'aa369_P', 'aa370_P', 'aa371_P', 'aa372_P', 'aa373_P', 'aa374_P', 'aa375_P', 'aa376_P', 'aa377_P', 'aa378_P', 'aa379_P', 'aa380_P', 'aa381_P', 'aa382_P', 'aa383_P', 'aa384_P', 'aa385_P', 'aa386_P', 'aa387_P', 'aa388_P', 'aa389_P', 'aa390_P', 'aa391_P', 'aa392_P', 'aa393_P', 'aa394_P', 'aa395_P', 'aa396_P', 'aa397_P', 'aa398_P', 'aa399_P', 'aa400_P', 'aa401_P', 'aa402_P', 'aa403_P', 'aa404_P', 'aa405_P', 'aa406_P', 'aa407_P', 'aa408_P', 'aa409_P', 'aa410_P', 'aa411_P', 'aa412_P', 'aa413_P', 'aa414_P', 'aa415_P', 'aa416_P', 'aa417_P', 'aa418_P', 'aa419_P', 'aa420_P', 'aa421_P', 'aa422_P', 'aa423_P', 'aa424_P', 'aa425_P', 'aa426_P', 'aa427_P', 'aa428_P', 'aa429_P', 'aa430_P', 'aa431_P', 'aa432_P', 'aa433_P', 'aa434_P', 'aa435_P', 'aa436_P', 'aa437_P', 'aa438_P', 'aa439_P', 'aa440_P', 'aa441_P', 'aa442_P', 'aa443_P', 'aa444_P', 'aa445_P', 'aa446_P', 'aa447_P', 'aa448_P', 'aa449_P', 'aa450_P', 'aa451_P', 'aa452_P', 'aa453_P', 'aa454_P', 'aa455_P', 'aa456_P', 'aa457_P', 'aa458_P', 'aa459_P', 'aa460_P', 'aa461_P', 'aa462_P', 'aa463_P', 'aa464_P', 'aa465_P', 'aa467_P', 'aa468_P', 'aa469_P', 'aa470_P', 'aa471_P', 'aa472_P', 'aa473_P', 'aa474_P', 'aa475_P', 'aa476_P', 'aa477_P', 'aa478_P', 'aa479_P', 'aa480_P', 'aa481_P', 'aa482_P', 'aa483_P', 'aa484_P', 'aa485_P', 'aa486_P', 'aa487_P', 'aa488_P', 'aa489_P', 'aa490_P', 'aa491_P', 'aa492_P', 'aa493_P', 'aa494_P', 'aa495_P', 'aa496_P', 'aa497_P', 'aa498_P', 'aa499_P', 'aa500_P', 'aa502_P', 'aa503_P', 'aa504_P', 'aa505_P', 'aa506_P', 'aa507_P', 'aa508_P', 'aa509_P', 'aa510_P', 'aa511_P', 'aa512_P', 'aa513_P', 'aa515_P', 'aa516_P', 'aa517_P', 'aa518_P', 'aa520_P', 'aa521_P', 'aa522_P', 'aa523_P', 'aa524_P', 'aa525_P', 'aa526_P', 'aa527_P', 'aa528_P', 'aa529_P', 'aa530_P', 'aa531_P', 'aa532_P', 'aa533_P', 'aa534_P', 'aa535_P', 'aa536_P', 'aa537_P', 'aa538_P', 'aa539_P', 'aa541_P', 'aa542_P', 'aa543_P', 'aa544_P', 'aa545_P', 'aa547_P', 'aa548_P', 'aa549_P', 'aa550_P', 'aa552_P', 'aa554_P', 'aa555_P', 'aa557_P', 'aa558_P', 'aa560_P', 'aa562_P', 'aa563_P', 'aa564_P', 'aa565_P', 'aa568_P', 'aa571_P', 'aa574_P', 'aa581_P', 'aa585_P', 'aa586_P', 'aa587_P', 'aa589_P', 'aa600_P', 'aa601_P', 'aa602_P', 'aa619_P', 'aa622_P', 'aa631_P', 'aa638_P', 'aa652_P', 'aa702_P', 'aa1_R', 'aa2_R', 'aa3_R', 'aa4_R', 'aa5_R', 'aa6_R', 'aa7_R', 'aa8_R', 'aa9_R', 'aa10_R', 'aa11_R', 'aa12_R', 'aa13_R', 'aa14_R', 'aa15_R', 'aa16_R', 'aa17_R', 'aa18_R', 'aa19_R', 'aa20_R', 'aa21_R', 'aa22_R', 'aa23_R', 'aa24_R', 'aa25_R', 'aa26_R', 'aa27_R', 'aa28_R', 'aa29_R', 'aa30_R', 'aa31_R', 'aa32_R', 'aa33_R', 'aa34_R', 'aa35_R', 'aa36_R', 'aa37_R', 'aa38_R', 'aa39_R', 'aa40_R', 'aa41_R', 'aa42_R', 'aa43_R', 'aa44_R', 'aa45_R', 'aa46_R', 'aa47_R', 'aa48_R', 'aa49_R', 'aa50_R', 'aa51_R', 'aa52_R', 'aa53_R', 'aa54_R', 'aa55_R', 'aa56_R', 'aa57_R', 'aa58_R', 'aa59_R', 'aa60_R', 'aa61_R', 'aa62_R', 'aa63_R', 'aa64_R', 'aa65_R', 'aa66_R', 'aa67_R', 'aa68_R', 'aa69_R', 'aa70_R', 'aa71_R', 'aa72_R', 'aa73_R', 'aa74_R', 'aa75_R', 'aa76_R', 'aa77_R', 'aa78_R', 'aa79_R', 'aa80_R', 'aa81_R', 'aa82_R', 'aa83_R', 'aa84_R', 'aa85_R', 'aa86_R', 'aa87_R', 'aa88_R', 'aa89_R', 'aa90_R', 'aa91_R', 'aa92_R', 'aa93_R', 'aa94_R', 'aa95_R', 'aa96_R', 'aa97_R', 'aa98_R', 'aa99_R', 'aa100_R', 'aa101_R', 'aa102_R', 'aa103_R', 'aa104_R', 'aa105_R', 'aa106_R', 'aa107_R', 'aa108_R', 'aa109_R', 'aa110_R', 'aa111_R', 'aa112_R', 'aa113_R', 'aa114_R', 'aa115_R', 'aa116_R', 'aa117_R', 'aa118_R', 'aa119_R', 'aa120_R', 'aa121_R', 'aa122_R', 'aa123_R', 'aa124_R', 'aa125_R', 'aa126_R', 'aa127_R', 'aa128_R', 'aa129_R', 'aa130_R', 'aa131_R', 'aa132_R', 'aa133_R', 'aa134_R', 'aa135_R', 'aa136_R', 'aa137_R', 'aa138_R', 'aa139_R', 'aa140_R', 'aa141_R', 'aa142_R', 'aa143_R', 'aa144_R', 'aa145_R', 'aa146_R', 'aa147_R', 'aa148_R', 'aa149_R', 'aa150_R', 'aa151_R', 'aa152_R', 'aa153_R', 'aa154_R', 'aa155_R', 'aa156_R', 'aa157_R', 'aa158_R', 'aa159_R', 'aa160_R', 'aa161_R', 'aa162_R', 'aa163_R', 'aa164_R', 'aa165_R', 'aa166_R', 'aa167_R', 'aa168_R', 'aa169_R', 'aa170_R', 'aa171_R', 'aa172_R', 'aa173_R', 'aa174_R', 'aa175_R', 'aa176_R', 'aa177_R', 'aa178_R', 'aa179_R', 'aa180_R', 'aa181_R', 'aa182_R', 'aa183_R', 'aa184_R', 'aa185_R', 'aa186_R', 'aa187_R', 'aa188_R', 'aa189_R', 'aa190_R', 'aa191_R', 'aa192_R', 'aa193_R', 'aa194_R', 'aa195_R', 'aa196_R', 'aa197_R', 'aa198_R', 'aa199_R', 'aa200_R', 'aa201_R', 'aa202_R', 'aa203_R', 'aa204_R', 'aa205_R', 'aa206_R', 'aa207_R', 'aa208_R', 'aa209_R', 'aa210_R', 'aa211_R', 'aa212_R', 'aa213_R', 'aa214_R', 'aa215_R', 'aa216_R', 'aa217_R', 'aa218_R', 'aa219_R', 'aa220_R', 'aa221_R', 'aa222_R', 'aa223_R', 'aa224_R', 'aa225_R', 'aa226_R', 'aa227_R', 'aa228_R', 'aa229_R', 'aa230_R', 'aa231_R', 'aa232_R', 'aa233_R', 'aa234_R', 'aa235_R', 'aa236_R', 'aa237_R', 'aa238_R', 'aa239_R', 'aa240_R', 'aa241_R', 'aa242_R', 'aa243_R', 'aa244_R', 'aa245_R', 'aa246_R', 'aa247_R', 'aa248_R', 'aa249_R', 'aa250_R', 'aa251_R', 'aa252_R', 'aa253_R', 'aa254_R', 'aa255_R', 'aa256_R', 'aa257_R', 'aa258_R', 'aa259_R', 'aa260_R', 'aa261_R', 'aa262_R', 'aa263_R', 'aa264_R', 'aa265_R', 'aa266_R', 'aa267_R', 'aa268_R', 'aa269_R', 'aa270_R', 'aa271_R', 'aa272_R', 'aa273_R', 'aa274_R', 'aa275_R', 'aa276_R', 'aa277_R', 'aa278_R', 'aa279_R', 'aa280_R', 'aa281_R', 'aa282_R', 'aa283_R', 'aa284_R', 'aa285_R', 'aa286_R', 'aa287_R', 'aa288_R', 'aa289_R', 'aa290_R', 'aa291_R', 'aa292_R', 'aa293_R', 'aa294_R', 'aa295_R', 'aa296_R', 'aa297_R', 'aa298_R', 'aa299_R', 'aa300_R', 'aa301_R', 'aa302_R', 'aa303_R', 'aa304_R', 'aa305_R', 'aa306_R', 'aa307_R', 'aa308_R', 'aa309_R', 'aa310_R', 'aa311_R', 'aa312_R', 'aa313_R', 'aa314_R', 'aa315_R', 'aa316_R', 'aa317_R', 'aa318_R', 'aa319_R', 'aa320_R', 'aa321_R', 'aa322_R', 'aa323_R', 'aa324_R', 'aa325_R', 'aa326_R', 'aa327_R', 'aa328_R', 'aa329_R', 'aa330_R', 'aa331_R', 'aa332_R', 'aa333_R', 'aa334_R', 'aa335_R', 'aa336_R', 'aa337_R', 'aa338_R', 'aa339_R', 'aa340_R', 'aa341_R', 'aa342_R', 'aa343_R', 'aa344_R', 'aa345_R', 'aa346_R', 'aa347_R', 'aa348_R', 'aa349_R', 'aa350_R', 'aa351_R', 'aa352_R', 'aa353_R', 'aa354_R', 'aa355_R', 'aa356_R', 'aa357_R', 'aa358_R', 'aa359_R', 'aa360_R', 'aa361_R', 'aa362_R', 'aa363_R', 'aa364_R', 'aa365_R', 'aa366_R', 'aa367_R', 'aa368_R', 'aa369_R', 'aa370_R', 'aa371_R', 'aa372_R', 'aa373_R', 'aa374_R', 'aa375_R', 'aa376_R', 'aa377_R', 'aa378_R', 'aa379_R', 'aa380_R', 'aa381_R', 'aa382_R', 'aa383_R', 'aa384_R', 'aa385_R', 'aa386_R', 'aa387_R', 'aa388_R', 'aa389_R', 'aa390_R', 'aa391_R', 'aa392_R', 'aa393_R', 'aa394_R', 'aa395_R', 'aa396_R', 'aa397_R', 'aa398_R', 'aa399_R', 'aa400_R', 'aa401_R', 'aa402_R', 'aa403_R', 'aa404_R', 'aa405_R', 'aa406_R', 'aa407_R', 'aa408_R', 'aa409_R', 'aa410_R', 'aa411_R', 'aa412_R', 'aa413_R', 'aa414_R', 'aa415_R', 'aa416_R', 'aa417_R', 'aa418_R', 'aa419_R', 'aa420_R', 'aa421_R', 'aa422_R', 'aa423_R', 'aa424_R', 'aa425_R', 'aa426_R', 'aa427_R', 'aa428_R', 'aa429_R', 'aa430_R', 'aa431_R', 'aa432_R', 'aa433_R', 'aa434_R', 'aa435_R', 'aa436_R', 'aa437_R', 'aa438_R', 'aa439_R', 'aa440_R', 'aa441_R', 'aa442_R', 'aa443_R', 'aa444_R', 'aa445_R', 'aa446_R', 'aa447_R', 'aa448_R', 'aa449_R', 'aa450_R', 'aa451_R', 'aa452_R', 'aa453_R', 'aa454_R', 'aa455_R', 'aa456_R', 'aa457_R', 'aa458_R', 'aa459_R', 'aa460_R', 'aa461_R', 'aa462_R', 'aa463_R', 'aa464_R', 'aa465_R', 'aa466_R', 'aa467_R', 'aa468_R', 'aa469_R', 'aa470_R', 'aa471_R', 'aa472_R', 'aa473_R', 'aa474_R', 'aa475_R', 'aa476_R', 'aa477_R', 'aa478_R', 'aa479_R', 'aa480_R', 'aa481_R', 'aa482_R', 'aa483_R', 'aa484_R', 'aa485_R', 'aa486_R', 'aa487_R', 'aa488_R', 'aa489_R', 'aa490_R', 'aa491_R', 'aa492_R', 'aa493_R', 'aa494_R', 'aa495_R', 'aa496_R', 'aa497_R', 'aa498_R', 'aa499_R', 'aa500_R', 'aa501_R', 'aa502_R', 'aa503_R', 'aa504_R', 'aa505_R', 'aa506_R', 'aa507_R', 'aa508_R', 'aa509_R', 'aa510_R', 'aa511_R', 'aa512_R', 'aa513_R', 'aa514_R', 'aa515_R', 'aa516_R', 'aa517_R', 'aa518_R', 'aa519_R', 'aa520_R', 'aa521_R', 'aa522_R', 'aa523_R', 'aa524_R', 'aa525_R', 'aa526_R', 'aa528_R', 'aa529_R', 'aa530_R', 'aa531_R', 'aa532_R', 'aa533_R', 'aa534_R', 'aa535_R', 'aa536_R', 'aa538_R', 'aa539_R', 'aa541_R', 'aa542_R', 'aa543_R', 'aa544_R', 'aa545_R', 'aa546_R', 'aa547_R', 'aa548_R', 'aa549_R', 'aa550_R', 'aa551_R', 'aa552_R', 'aa554_R', 'aa555_R', 'aa557_R', 'aa558_R', 'aa559_R', 'aa563_R', 'aa564_R', 'aa569_R', 'aa570_R', 'aa571_R', 'aa575_R', 'aa578_R', 'aa580_R', 'aa582_R', 'aa585_R', 'aa586_R', 'aa587_R', 'aa590_R', 'aa591_R', 'aa595_R', 'aa609_R', 'aa2_N', 'aa3_N', 'aa4_N', 'aa5_N', 'aa6_N', 'aa7_N', 'aa8_N', 'aa9_N', 'aa10_N', 'aa11_N', 'aa12_N', 'aa13_N', 'aa14_N', 'aa15_N', 'aa16_N', 'aa17_N', 'aa18_N', 'aa19_N', 'aa20_N', 'aa21_N', 'aa22_N', 'aa23_N', 'aa24_N', 'aa25_N', 'aa26_N', 'aa27_N', 'aa28_N', 'aa29_N', 'aa30_N', 'aa31_N', 'aa32_N', 'aa33_N', 'aa34_N', 'aa35_N', 'aa36_N', 'aa37_N', 'aa38_N', 'aa39_N', 'aa40_N', 'aa41_N', 'aa42_N', 'aa43_N', 'aa44_N', 'aa45_N', 'aa46_N', 'aa47_N', 'aa48_N', 'aa49_N', 'aa50_N', 'aa51_N', 'aa52_N', 'aa53_N', 'aa54_N', 'aa55_N', 'aa56_N', 'aa57_N', 'aa58_N', 'aa59_N', 'aa60_N', 'aa61_N', 'aa62_N', 'aa63_N', 'aa64_N', 'aa65_N', 'aa66_N', 'aa67_N', 'aa68_N', 'aa69_N', 'aa70_N', 'aa71_N', 'aa72_N', 'aa73_N', 'aa74_N', 'aa75_N', 'aa76_N', 'aa77_N', 'aa78_N', 'aa79_N', 'aa80_N', 'aa81_N', 'aa82_N', 'aa83_N', 'aa84_N', 'aa85_N', 'aa86_N', 'aa87_N', 'aa88_N', 'aa89_N', 'aa90_N', 'aa91_N', 'aa92_N', 'aa93_N', 'aa94_N', 'aa95_N', 'aa96_N', 'aa97_N', 'aa98_N', 'aa99_N', 'aa100_N', 'aa101_N', 'aa102_N', 'aa103_N', 'aa104_N', 'aa105_N', 'aa106_N', 'aa107_N', 'aa108_N', 'aa109_N', 'aa110_N', 'aa111_N', 'aa112_N', 'aa113_N', 'aa114_N', 'aa115_N', 'aa116_N', 'aa117_N', 'aa118_N', 'aa119_N', 'aa120_N', 'aa121_N', 'aa122_N', 'aa123_N', 'aa124_N', 'aa125_N', 'aa126_N', 'aa127_N', 'aa128_N', 'aa129_N', 'aa130_N', 'aa131_N', 'aa132_N', 'aa133_N', 'aa134_N', 'aa135_N', 'aa136_N', 'aa137_N', 'aa138_N', 'aa139_N', 'aa140_N', 'aa141_N', 'aa142_N', 'aa143_N', 'aa144_N', 'aa145_N', 'aa146_N', 'aa147_N', 'aa148_N', 'aa149_N', 'aa150_N', 'aa151_N', 'aa152_N', 'aa153_N', 'aa154_N', 'aa155_N', 'aa156_N', 'aa157_N', 'aa158_N', 'aa159_N', 'aa160_N', 'aa161_N', 'aa162_N', 'aa163_N', 'aa164_N', 'aa165_N', 'aa166_N', 'aa167_N', 'aa168_N', 'aa169_N', 'aa170_N', 'aa171_N', 'aa172_N', 'aa173_N', 'aa174_N', 'aa175_N', 'aa176_N', 'aa177_N', 'aa178_N', 'aa179_N', 'aa180_N', 'aa181_N', 'aa182_N', 'aa183_N', 'aa184_N', 'aa185_N', 'aa186_N', 'aa187_N', 'aa188_N', 'aa189_N', 'aa190_N', 'aa191_N', 'aa192_N', 'aa193_N', 'aa194_N', 'aa195_N', 'aa196_N', 'aa197_N', 'aa198_N', 'aa199_N', 'aa200_N', 'aa201_N', 'aa202_N', 'aa203_N', 'aa204_N', 'aa205_N', 'aa206_N', 'aa207_N', 'aa208_N', 'aa209_N', 'aa210_N', 'aa211_N', 'aa212_N', 'aa213_N', 'aa214_N', 'aa215_N', 'aa216_N', 'aa217_N', 'aa218_N', 'aa219_N', 'aa220_N', 'aa221_N', 'aa222_N', 'aa223_N', 'aa224_N', 'aa225_N', 'aa226_N', 'aa227_N', 'aa228_N', 'aa229_N', 'aa230_N', 'aa231_N', 'aa232_N', 'aa233_N', 'aa234_N', 'aa235_N', 'aa236_N', 'aa237_N', 'aa238_N', 'aa239_N', 'aa240_N', 'aa241_N', 'aa242_N', 'aa243_N', 'aa244_N', 'aa245_N', 'aa246_N', 'aa247_N', 'aa248_N', 'aa249_N', 'aa250_N', 'aa251_N', 'aa252_N', 'aa253_N', 'aa254_N', 'aa255_N', 'aa256_N', 'aa257_N', 'aa258_N', 'aa259_N', 'aa260_N', 'aa261_N', 'aa262_N', 'aa263_N', 'aa264_N', 'aa265_N', 'aa266_N', 'aa267_N', 'aa268_N', 'aa269_N', 'aa270_N', 'aa271_N', 'aa272_N', 'aa273_N', 'aa274_N', 'aa275_N', 'aa276_N', 'aa277_N', 'aa278_N', 'aa279_N', 'aa280_N', 'aa281_N', 'aa282_N', 'aa283_N', 'aa284_N', 'aa285_N', 'aa286_N', 'aa287_N', 'aa288_N', 'aa289_N', 'aa290_N', 'aa291_N', 'aa292_N', 'aa293_N', 'aa294_N', 'aa295_N', 'aa296_N', 'aa297_N', 'aa298_N', 'aa299_N', 'aa300_N', 'aa301_N', 'aa302_N', 'aa303_N', 'aa304_N', 'aa305_N', 'aa306_N', 'aa307_N', 'aa308_N', 'aa309_N', 'aa310_N', 'aa311_N', 'aa312_N', 'aa313_N', 'aa314_N', 'aa315_N', 'aa316_N', 'aa317_N', 'aa318_N', 'aa319_N', 'aa320_N', 'aa321_N', 'aa322_N', 'aa323_N', 'aa324_N', 'aa325_N', 'aa326_N', 'aa327_N', 'aa328_N', 'aa329_N', 'aa330_N', 'aa331_N', 'aa332_N', 'aa333_N', 'aa334_N', 'aa335_N', 'aa336_N', 'aa337_N', 'aa338_N', 'aa339_N', 'aa340_N', 'aa341_N', 'aa342_N', 'aa343_N', 'aa344_N', 'aa345_N', 'aa346_N', 'aa347_N', 'aa348_N', 'aa349_N', 'aa350_N', 'aa351_N', 'aa352_N', 'aa353_N', 'aa354_N', 'aa355_N', 'aa356_N', 'aa357_N', 'aa358_N', 'aa359_N', 'aa360_N', 'aa361_N', 'aa362_N', 'aa363_N', 'aa364_N', 'aa365_N', 'aa366_N', 'aa367_N', 'aa368_N', 'aa369_N', 'aa370_N', 'aa371_N', 'aa372_N', 'aa373_N', 'aa374_N', 'aa375_N', 'aa376_N', 'aa377_N', 'aa378_N', 'aa379_N', 'aa380_N', 'aa381_N', 'aa382_N', 'aa383_N', 'aa384_N', 'aa385_N', 'aa386_N', 'aa387_N', 'aa388_N', 'aa389_N', 'aa390_N', 'aa391_N', 'aa392_N', 'aa393_N', 'aa394_N', 'aa395_N', 'aa396_N', 'aa397_N', 'aa398_N', 'aa399_N', 'aa400_N', 'aa401_N', 'aa402_N', 'aa403_N', 'aa404_N', 'aa405_N', 'aa406_N', 'aa407_N', 'aa408_N', 'aa409_N', 'aa410_N', 'aa411_N', 'aa412_N', 'aa413_N', 'aa414_N', 'aa415_N', 'aa416_N', 'aa417_N', 'aa418_N', 'aa419_N', 'aa420_N', 'aa421_N', 'aa422_N', 'aa423_N', 'aa424_N', 'aa425_N', 'aa426_N', 'aa427_N', 'aa428_N', 'aa429_N', 'aa430_N', 'aa431_N', 'aa432_N', 'aa433_N', 'aa434_N', 'aa435_N', 'aa436_N', 'aa437_N', 'aa438_N', 'aa439_N', 'aa440_N', 'aa442_N', 'aa443_N', 'aa444_N', 'aa445_N', 'aa446_N', 'aa447_N', 'aa448_N', 'aa449_N', 'aa450_N', 'aa451_N', 'aa452_N', 'aa454_N', 'aa455_N', 'aa456_N', 'aa457_N', 'aa458_N', 'aa459_N', 'aa460_N', 'aa461_N', 'aa462_N', 'aa463_N', 'aa464_N', 'aa465_N', 'aa466_N', 'aa467_N', 'aa468_N', 'aa469_N', 'aa470_N', 'aa471_N', 'aa472_N', 'aa473_N', 'aa474_N', 'aa475_N', 'aa477_N', 'aa478_N', 'aa479_N', 'aa480_N', 'aa481_N', 'aa482_N', 'aa483_N', 'aa484_N', 'aa485_N', 'aa486_N', 'aa487_N', 'aa488_N', 'aa489_N', 'aa490_N', 'aa492_N', 'aa493_N', 'aa494_N', 'aa495_N', 'aa496_N', 'aa498_N', 'aa499_N', 'aa501_N', 'aa502_N', 'aa503_N', 'aa504_N', 'aa505_N', 'aa507_N', 'aa508_N', 'aa509_N', 'aa510_N', 'aa511_N', 'aa512_N', 'aa513_N', 'aa514_N', 'aa516_N', 'aa517_N', 'aa518_N', 'aa522_N', 'aa524_N', 'aa526_N', 'aa527_N', 'aa529_N', 'aa530_N', 'aa535_N', 'aa536_N', 'aa537_N', 'aa538_N', 'aa539_N', 'aa541_N', 'aa542_N', 'aa544_N', 'aa545_N', 'aa547_N', 'aa549_N', 'aa551_N', 'aa552_N', 'aa556_N', 'aa557_N', 'aa558_N', 'aa562_N', 'aa567_N', 'aa568_N', 'aa572_N', 'aa573_N', 'aa574_N', 'aa581_N', 'aa584_N', 'aa607_N', 'aa611_N', 'aa639_N', 'aa649_N', 'aa720_N', 'aa723_N', 'aa2_F', 'aa3_F', 'aa4_F', 'aa5_F', 'aa6_F', 'aa7_F', 'aa8_F', 'aa9_F', 'aa10_F', 'aa11_F', 'aa12_F', 'aa13_F', 'aa14_F', 'aa15_F', 'aa16_F', 'aa17_F', 'aa18_F', 'aa19_F', 'aa20_F', 'aa21_F', 'aa22_F', 'aa23_F', 'aa24_F', 'aa25_F', 'aa26_F', 'aa27_F', 'aa28_F', 'aa29_F', 'aa30_F', 'aa31_F', 'aa32_F', 'aa33_F', 'aa34_F', 'aa35_F', 'aa36_F', 'aa37_F', 'aa38_F', 'aa39_F', 'aa40_F', 'aa41_F', 'aa42_F', 'aa43_F', 'aa44_F', 'aa45_F', 'aa46_F', 'aa47_F', 'aa48_F', 'aa49_F', 'aa50_F', 'aa51_F', 'aa52_F', 'aa53_F', 'aa54_F', 'aa55_F', 'aa56_F', 'aa57_F', 'aa58_F', 'aa59_F', 'aa60_F', 'aa61_F', 'aa62_F', 'aa63_F', 'aa64_F', 'aa65_F', 'aa66_F', 'aa67_F', 'aa68_F', 'aa69_F', 'aa70_F', 'aa71_F', 'aa72_F', 'aa73_F', 'aa74_F', 'aa75_F', 'aa76_F', 'aa77_F', 'aa78_F', 'aa79_F', 'aa80_F', 'aa81_F', 'aa82_F', 'aa83_F', 'aa84_F', 'aa85_F', 'aa86_F', 'aa87_F', 'aa88_F', 'aa89_F', 'aa90_F', 'aa91_F', 'aa92_F', 'aa93_F', 'aa94_F', 'aa95_F', 'aa96_F', 'aa97_F', 'aa98_F', 'aa99_F', 'aa100_F', 'aa101_F', 'aa102_F', 'aa103_F', 'aa104_F', 'aa105_F', 'aa106_F', 'aa107_F', 'aa108_F', 'aa109_F', 'aa110_F', 'aa111_F', 'aa112_F', 'aa113_F', 'aa114_F', 'aa115_F', 'aa116_F', 'aa117_F', 'aa118_F', 'aa119_F', 'aa120_F', 'aa121_F', 'aa122_F', 'aa123_F', 'aa124_F', 'aa125_F', 'aa126_F', 'aa127_F', 'aa128_F', 'aa129_F', 'aa130_F', 'aa131_F', 'aa132_F', 'aa133_F', 'aa134_F', 'aa135_F', 'aa136_F', 'aa137_F', 'aa138_F', 'aa139_F', 'aa140_F', 'aa141_F', 'aa142_F', 'aa143_F', 'aa144_F', 'aa145_F', 'aa146_F', 'aa147_F', 'aa148_F', 'aa149_F', 'aa150_F', 'aa151_F', 'aa152_F', 'aa153_F', 'aa154_F', 'aa155_F', 'aa156_F', 'aa157_F', 'aa158_F', 'aa159_F', 'aa160_F', 'aa161_F', 'aa162_F', 'aa163_F', 'aa164_F', 'aa165_F', 'aa166_F', 'aa167_F', 'aa168_F', 'aa169_F', 'aa170_F', 'aa171_F', 'aa172_F', 'aa173_F', 'aa174_F', 'aa175_F', 'aa176_F', 'aa177_F', 'aa178_F', 'aa179_F', 'aa180_F', 'aa181_F', 'aa182_F', 'aa183_F', 'aa184_F', 'aa185_F', 'aa186_F', 'aa187_F', 'aa188_F', 'aa189_F', 'aa190_F', 'aa191_F', 'aa192_F', 'aa193_F', 'aa194_F', 'aa195_F', 'aa196_F', 'aa197_F', 'aa198_F', 'aa199_F', 'aa200_F', 'aa201_F', 'aa202_F', 'aa203_F', 'aa204_F', 'aa205_F', 'aa206_F', 'aa207_F', 'aa208_F', 'aa209_F', 'aa210_F', 'aa211_F', 'aa212_F', 'aa213_F', 'aa214_F', 'aa215_F', 'aa216_F', 'aa217_F', 'aa218_F', 'aa219_F', 'aa220_F', 'aa221_F', 'aa222_F', 'aa223_F', 'aa224_F', 'aa225_F', 'aa226_F', 'aa227_F', 'aa228_F', 'aa229_F', 'aa230_F', 'aa231_F', 'aa232_F', 'aa233_F', 'aa234_F', 'aa235_F', 'aa236_F', 'aa237_F', 'aa238_F', 'aa239_F', 'aa240_F', 'aa241_F', 'aa242_F', 'aa243_F', 'aa244_F', 'aa245_F', 'aa246_F', 'aa247_F', 'aa248_F', 'aa249_F', 'aa250_F', 'aa251_F', 'aa252_F', 'aa253_F', 'aa254_F', 'aa255_F', 'aa256_F', 'aa257_F', 'aa258_F', 'aa259_F', 'aa260_F', 'aa261_F', 'aa262_F', 'aa263_F', 'aa264_F', 'aa265_F', 'aa266_F', 'aa267_F', 'aa268_F', 'aa269_F', 'aa270_F', 'aa271_F', 'aa272_F', 'aa273_F', 'aa274_F', 'aa275_F', 'aa276_F', 'aa277_F', 'aa278_F', 'aa279_F', 'aa280_F', 'aa281_F', 'aa282_F', 'aa283_F', 'aa284_F', 'aa285_F', 'aa286_F', 'aa287_F', 'aa288_F', 'aa289_F', 'aa290_F', 'aa291_F', 'aa292_F', 'aa293_F', 'aa294_F', 'aa295_F', 'aa296_F', 'aa297_F', 'aa298_F', 'aa299_F', 'aa300_F', 'aa301_F', 'aa302_F', 'aa303_F', 'aa304_F', 'aa305_F', 'aa306_F', 'aa307_F', 'aa308_F', 'aa309_F', 'aa310_F', 'aa311_F', 'aa312_F', 'aa313_F', 'aa314_F', 'aa315_F', 'aa316_F', 'aa317_F', 'aa318_F', 'aa319_F', 'aa320_F', 'aa321_F', 'aa322_F', 'aa323_F', 'aa324_F', 'aa325_F', 'aa326_F', 'aa327_F', 'aa328_F', 'aa329_F', 'aa330_F', 'aa331_F', 'aa332_F', 'aa333_F', 'aa334_F', 'aa335_F', 'aa336_F', 'aa337_F', 'aa338_F', 'aa339_F', 'aa340_F', 'aa341_F', 'aa342_F', 'aa343_F', 'aa344_F', 'aa345_F', 'aa346_F', 'aa347_F', 'aa348_F', 'aa349_F', 'aa350_F', 'aa351_F', 'aa352_F', 'aa353_F', 'aa354_F', 'aa355_F', 'aa356_F', 'aa357_F', 'aa358_F', 'aa359_F', 'aa360_F', 'aa361_F', 'aa362_F', 'aa363_F', 'aa364_F', 'aa365_F', 'aa366_F', 'aa367_F', 'aa368_F', 'aa369_F', 'aa370_F', 'aa371_F', 'aa372_F', 'aa373_F', 'aa374_F', 'aa375_F', 'aa376_F', 'aa377_F', 'aa378_F', 'aa379_F', 'aa380_F', 'aa381_F', 'aa382_F', 'aa383_F', 'aa384_F', 'aa385_F', 'aa386_F', 'aa387_F', 'aa388_F', 'aa389_F', 'aa390_F', 'aa391_F', 'aa392_F', 'aa393_F', 'aa394_F', 'aa395_F', 'aa396_F', 'aa397_F', 'aa398_F', 'aa399_F', 'aa400_F', 'aa401_F', 'aa402_F', 'aa403_F', 'aa404_F', 'aa405_F', 'aa406_F', 'aa407_F', 'aa408_F', 'aa409_F', 'aa410_F', 'aa411_F', 'aa412_F', 'aa413_F', 'aa414_F', 'aa415_F', 'aa416_F', 'aa417_F', 'aa418_F', 'aa419_F', 'aa420_F', 'aa421_F', 'aa422_F', 'aa423_F', 'aa424_F', 'aa425_F', 'aa426_F', 'aa427_F', 'aa428_F', 'aa429_F', 'aa430_F', 'aa431_F', 'aa432_F', 'aa433_F', 'aa434_F', 'aa435_F', 'aa436_F', 'aa437_F', 'aa438_F', 'aa439_F', 'aa440_F', 'aa441_F', 'aa442_F', 'aa443_F', 'aa444_F', 'aa445_F', 'aa446_F', 'aa447_F', 'aa448_F', 'aa449_F', 'aa450_F', 'aa451_F', 'aa452_F', 'aa453_F', 'aa454_F', 'aa455_F', 'aa456_F', 'aa457_F', 'aa458_F', 'aa459_F', 'aa460_F', 'aa461_F', 'aa462_F', 'aa463_F', 'aa464_F', 'aa465_F', 'aa466_F', 'aa467_F', 'aa468_F', 'aa469_F', 'aa470_F', 'aa472_F', 'aa473_F', 'aa475_F', 'aa476_F', 'aa477_F', 'aa478_F', 'aa480_F', 'aa482_F', 'aa483_F', 'aa484_F', 'aa485_F', 'aa486_F', 'aa488_F', 'aa489_F', 'aa491_F', 'aa492_F', 'aa494_F', 'aa495_F', 'aa496_F', 'aa498_F', 'aa499_F', 'aa500_F', 'aa501_F', 'aa502_F', 'aa503_F', 'aa505_F', 'aa506_F', 'aa508_F', 'aa509_F', 'aa511_F', 'aa512_F', 'aa513_F', 'aa515_F', 'aa518_F', 'aa519_F', 'aa521_F', 'aa522_F', 'aa526_F', 'aa527_F', 'aa530_F', 'aa532_F', 'aa534_F', 'aa535_F', 'aa540_F', 'aa542_F', 'aa543_F', 'aa544_F', 'aa547_F', 'aa550_F', 'aa551_F', 'aa554_F', 'aa555_F', 'aa561_F', 'aa569_F', 'aa599_F', 'aa2_K', 'aa3_K', 'aa4_K', 'aa5_K', 'aa6_K', 'aa7_K', 'aa8_K', 'aa9_K', 'aa10_K', 'aa11_K', 'aa12_K', 'aa13_K', 'aa14_K', 'aa15_K', 'aa16_K', 'aa17_K', 'aa18_K', 'aa19_K', 'aa20_K', 'aa21_K', 'aa22_K', 'aa23_K', 'aa24_K', 'aa25_K', 'aa26_K', 'aa27_K', 'aa28_K', 'aa29_K', 'aa30_K', 'aa31_K', 'aa32_K', 'aa33_K', 'aa34_K', 'aa35_K', 'aa36_K', 'aa37_K', 'aa38_K', 'aa39_K', 'aa40_K', 'aa41_K', 'aa42_K', 'aa43_K', 'aa44_K', 'aa45_K', 'aa46_K', 'aa47_K', 'aa48_K', 'aa49_K', 'aa50_K', 'aa51_K', 'aa52_K', 'aa53_K', 'aa54_K', 'aa55_K', 'aa56_K', 'aa57_K', 'aa58_K', 'aa59_K', 'aa60_K', 'aa61_K', 'aa62_K', 'aa63_K', 'aa64_K', 'aa65_K', 'aa66_K', 'aa67_K', 'aa68_K', 'aa69_K', 'aa70_K', 'aa71_K', 'aa72_K', 'aa73_K', 'aa74_K', 'aa75_K', 'aa76_K', 'aa77_K', 'aa78_K', 'aa79_K', 'aa80_K', 'aa81_K', 'aa82_K', 'aa83_K', 'aa84_K', 'aa85_K', 'aa86_K', 'aa87_K', 'aa88_K', 'aa89_K', 'aa90_K', 'aa91_K', 'aa92_K', 'aa93_K', 'aa94_K', 'aa95_K', 'aa96_K', 'aa97_K', 'aa98_K', 'aa99_K', 'aa100_K', 'aa101_K', 'aa102_K', 'aa103_K', 'aa104_K', 'aa105_K', 'aa106_K', 'aa107_K', 'aa108_K', 'aa109_K', 'aa110_K', 'aa111_K', 'aa112_K', 'aa113_K', 'aa114_K', 'aa115_K', 'aa116_K', 'aa117_K', 'aa118_K', 'aa119_K', 'aa120_K', 'aa121_K', 'aa122_K', 'aa123_K', 'aa124_K', 'aa125_K', 'aa126_K', 'aa127_K', 'aa128_K', 'aa129_K', 'aa130_K', 'aa131_K', 'aa132_K', 'aa133_K', 'aa134_K', 'aa135_K', 'aa136_K', 'aa137_K', 'aa138_K', 'aa139_K', 'aa140_K', 'aa141_K', 'aa142_K', 'aa143_K', 'aa144_K', 'aa145_K', 'aa146_K', 'aa147_K', 'aa148_K', 'aa149_K', 'aa150_K', 'aa151_K', 'aa152_K', 'aa153_K', 'aa154_K', 'aa155_K', 'aa156_K', 'aa157_K', 'aa158_K', 'aa159_K', 'aa160_K', 'aa161_K', 'aa162_K', 'aa163_K', 'aa164_K', 'aa165_K', 'aa166_K', 'aa167_K', 'aa168_K', 'aa169_K', 'aa170_K', 'aa171_K', 'aa172_K', 'aa173_K', 'aa174_K', 'aa175_K', 'aa176_K', 'aa177_K', 'aa178_K', 'aa179_K', 'aa180_K', 'aa181_K', 'aa182_K', 'aa183_K', 'aa184_K', 'aa185_K', 'aa186_K', 'aa187_K', 'aa188_K', 'aa189_K', 'aa190_K', 'aa191_K', 'aa192_K', 'aa193_K', 'aa194_K', 'aa195_K', 'aa196_K', 'aa197_K', 'aa198_K', 'aa199_K', 'aa200_K', 'aa201_K', 'aa202_K', 'aa203_K', 'aa204_K', 'aa205_K', 'aa206_K', 'aa207_K', 'aa208_K', 'aa209_K', 'aa210_K', 'aa211_K', 'aa212_K', 'aa213_K', 'aa214_K', 'aa215_K', 'aa216_K', 'aa217_K', 'aa218_K', 'aa219_K', 'aa220_K', 'aa221_K', 'aa222_K', 'aa223_K', 'aa224_K', 'aa225_K', 'aa226_K', 'aa227_K', 'aa228_K', 'aa229_K', 'aa230_K', 'aa231_K', 'aa232_K', 'aa233_K', 'aa234_K', 'aa235_K', 'aa236_K', 'aa237_K', 'aa238_K', 'aa239_K', 'aa240_K', 'aa241_K', 'aa242_K', 'aa243_K', 'aa244_K', 'aa245_K', 'aa246_K', 'aa247_K', 'aa248_K', 'aa249_K', 'aa250_K', 'aa251_K', 'aa252_K', 'aa253_K', 'aa254_K', 'aa255_K', 'aa256_K', 'aa257_K', 'aa258_K', 'aa259_K', 'aa260_K', 'aa261_K', 'aa262_K', 'aa263_K', 'aa264_K', 'aa265_K', 'aa266_K', 'aa267_K', 'aa268_K', 'aa269_K', 'aa270_K', 'aa271_K', 'aa272_K', 'aa273_K', 'aa274_K', 'aa275_K', 'aa276_K', 'aa277_K', 'aa278_K', 'aa279_K', 'aa280_K', 'aa281_K', 'aa282_K', 'aa283_K', 'aa284_K', 'aa285_K', 'aa286_K', 'aa287_K', 'aa288_K', 'aa289_K', 'aa290_K', 'aa291_K', 'aa292_K', 'aa293_K', 'aa294_K', 'aa295_K', 'aa296_K', 'aa297_K', 'aa298_K', 'aa299_K', 'aa300_K', 'aa301_K', 'aa302_K', 'aa303_K', 'aa304_K', 'aa305_K', 'aa306_K', 'aa307_K', 'aa308_K', 'aa309_K', 'aa310_K', 'aa311_K', 'aa312_K', 'aa313_K', 'aa314_K', 'aa315_K', 'aa316_K', 'aa317_K', 'aa318_K', 'aa319_K', 'aa320_K', 'aa321_K', 'aa322_K', 'aa323_K', 'aa324_K', 'aa325_K', 'aa326_K', 'aa327_K', 'aa328_K', 'aa329_K', 'aa330_K', 'aa331_K', 'aa332_K', 'aa333_K', 'aa334_K', 'aa335_K', 'aa336_K', 'aa337_K', 'aa338_K', 'aa339_K', 'aa340_K', 'aa341_K', 'aa342_K', 'aa343_K', 'aa344_K', 'aa345_K', 'aa346_K', 'aa347_K', 'aa348_K', 'aa349_K', 'aa350_K', 'aa351_K', 'aa352_K', 'aa353_K', 'aa354_K', 'aa355_K', 'aa356_K', 'aa357_K', 'aa358_K', 'aa359_K', 'aa360_K', 'aa361_K', 'aa362_K', 'aa363_K', 'aa364_K', 'aa365_K', 'aa366_K', 'aa367_K', 'aa368_K', 'aa369_K', 'aa370_K', 'aa371_K', 'aa372_K', 'aa373_K', 'aa374_K', 'aa375_K', 'aa376_K', 'aa377_K', 'aa378_K', 'aa379_K', 'aa380_K', 'aa381_K', 'aa382_K', 'aa383_K', 'aa384_K', 'aa385_K', 'aa386_K', 'aa387_K', 'aa388_K', 'aa389_K', 'aa390_K', 'aa391_K', 'aa392_K', 'aa393_K', 'aa394_K', 'aa395_K', 'aa396_K', 'aa397_K', 'aa398_K', 'aa399_K', 'aa400_K', 'aa401_K', 'aa402_K', 'aa403_K', 'aa404_K', 'aa405_K', 'aa406_K', 'aa407_K', 'aa408_K', 'aa409_K', 'aa410_K', 'aa411_K', 'aa412_K', 'aa413_K', 'aa414_K', 'aa415_K', 'aa416_K', 'aa417_K', 'aa418_K', 'aa419_K', 'aa420_K', 'aa421_K', 'aa422_K', 'aa423_K', 'aa424_K', 'aa425_K', 'aa426_K', 'aa427_K', 'aa428_K', 'aa429_K', 'aa430_K', 'aa431_K', 'aa432_K', 'aa433_K', 'aa434_K', 'aa435_K', 'aa436_K', 'aa437_K', 'aa438_K', 'aa439_K', 'aa440_K', 'aa441_K', 'aa442_K', 'aa443_K', 'aa444_K', 'aa445_K', 'aa446_K', 'aa447_K', 'aa448_K', 'aa449_K', 'aa450_K', 'aa451_K', 'aa452_K', 'aa453_K', 'aa454_K', 'aa455_K', 'aa456_K', 'aa457_K', 'aa458_K', 'aa459_K', 'aa460_K', 'aa461_K', 'aa462_K', 'aa463_K', 'aa464_K', 'aa465_K', 'aa466_K', 'aa467_K', 'aa468_K', 'aa469_K', 'aa470_K', 'aa471_K', 'aa472_K', 'aa473_K', 'aa474_K', 'aa475_K', 'aa476_K', 'aa477_K', 'aa478_K', 'aa479_K', 'aa480_K', 'aa481_K', 'aa482_K', 'aa483_K', 'aa484_K', 'aa485_K', 'aa486_K', 'aa487_K', 'aa488_K', 'aa490_K', 'aa491_K', 'aa492_K', 'aa493_K', 'aa494_K', 'aa495_K', 'aa496_K', 'aa497_K', 'aa498_K', 'aa499_K', 'aa500_K', 'aa501_K', 'aa502_K', 'aa503_K', 'aa504_K', 'aa505_K', 'aa506_K', 'aa507_K', 'aa509_K', 'aa510_K', 'aa511_K', 'aa512_K', 'aa513_K', 'aa515_K', 'aa516_K', 'aa517_K', 'aa518_K', 'aa520_K', 'aa521_K', 'aa522_K', 'aa523_K', 'aa524_K', 'aa525_K', 'aa527_K', 'aa529_K', 'aa530_K', 'aa531_K', 'aa532_K', 'aa533_K', 'aa534_K', 'aa535_K', 'aa536_K', 'aa537_K', 'aa538_K', 'aa539_K', 'aa540_K', 'aa541_K', 'aa542_K', 'aa543_K', 'aa544_K', 'aa545_K', 'aa546_K', 'aa547_K', 'aa550_K', 'aa551_K', 'aa552_K', 'aa553_K', 'aa554_K', 'aa555_K', 'aa557_K', 'aa559_K', 'aa560_K', 'aa564_K', 'aa571_K', 'aa582_K', 'aa583_K', 'aa594_K', 'aa610_K', 'aa623_K', 'aa654_K', 'aa1_A', 'aa2_A', 'aa3_A', 'aa4_A', 'aa5_A', 'aa6_A', 'aa7_A', 'aa8_A', 'aa9_A', 'aa10_A', 'aa11_A', 'aa12_A', 'aa13_A', 'aa14_A', 'aa15_A', 'aa16_A', 'aa17_A', 'aa18_A', 'aa19_A', 'aa20_A', 'aa21_A', 'aa22_A', 'aa23_A', 'aa24_A', 'aa25_A', 'aa26_A', 'aa27_A', 'aa28_A', 'aa29_A', 'aa30_A', 'aa31_A', 'aa32_A', 'aa33_A', 'aa34_A', 'aa35_A', 'aa36_A', 'aa37_A', 'aa38_A', 'aa39_A', 'aa40_A', 'aa41_A', 'aa42_A', 'aa43_A', 'aa44_A', 'aa45_A', 'aa46_A', 'aa47_A', 'aa48_A', 'aa49_A', 'aa50_A', 'aa51_A', 'aa52_A', 'aa53_A', 'aa54_A', 'aa55_A', 'aa56_A', 'aa57_A', 'aa58_A', 'aa59_A', 'aa60_A', 'aa61_A', 'aa62_A', 'aa63_A', 'aa64_A', 'aa65_A', 'aa66_A', 'aa67_A', 'aa68_A', 'aa69_A', 'aa70_A', 'aa71_A', 'aa72_A', 'aa73_A', 'aa74_A', 'aa75_A', 'aa76_A', 'aa77_A', 'aa78_A', 'aa79_A', 'aa80_A', 'aa81_A', 'aa82_A', 'aa83_A', 'aa84_A', 'aa85_A', 'aa86_A', 'aa87_A', 'aa88_A', 'aa89_A', 'aa90_A', 'aa91_A', 'aa92_A', 'aa93_A', 'aa94_A', 'aa95_A', 'aa96_A', 'aa97_A', 'aa98_A', 'aa99_A', 'aa100_A', 'aa101_A', 'aa102_A', 'aa103_A', 'aa104_A', 'aa105_A', 'aa106_A', 'aa107_A', 'aa108_A', 'aa109_A', 'aa110_A', 'aa111_A', 'aa112_A', 'aa113_A', 'aa114_A', 'aa115_A', 'aa116_A', 'aa117_A', 'aa118_A', 'aa119_A', 'aa120_A', 'aa121_A', 'aa122_A', 'aa123_A', 'aa124_A', 'aa125_A', 'aa126_A', 'aa127_A', 'aa128_A', 'aa129_A', 'aa130_A', 'aa131_A', 'aa132_A', 'aa133_A', 'aa134_A', 'aa135_A', 'aa136_A', 'aa137_A', 'aa138_A', 'aa139_A', 'aa140_A', 'aa141_A', 'aa142_A', 'aa143_A', 'aa144_A', 'aa145_A', 'aa146_A', 'aa147_A', 'aa148_A', 'aa149_A', 'aa150_A', 'aa151_A', 'aa152_A', 'aa153_A', 'aa154_A', 'aa155_A', 'aa156_A', 'aa157_A', 'aa158_A', 'aa159_A', 'aa160_A', 'aa161_A', 'aa162_A', 'aa163_A', 'aa164_A', 'aa165_A', 'aa166_A', 'aa167_A', 'aa168_A', 'aa169_A', 'aa170_A', 'aa171_A', 'aa172_A', 'aa173_A', 'aa174_A', 'aa175_A', 'aa176_A', 'aa177_A', 'aa178_A', 'aa179_A', 'aa180_A', 'aa181_A', 'aa182_A', 'aa183_A', 'aa184_A', 'aa185_A', 'aa186_A', 'aa187_A', 'aa188_A', 'aa189_A', 'aa190_A', 'aa191_A', 'aa192_A', 'aa193_A', 'aa194_A', 'aa195_A', 'aa196_A', 'aa197_A', 'aa198_A', 'aa199_A', 'aa200_A', 'aa201_A', 'aa202_A', 'aa203_A', 'aa204_A', 'aa205_A', 'aa206_A', 'aa207_A', 'aa208_A', 'aa209_A', 'aa210_A', 'aa211_A', 'aa212_A', 'aa213_A', 'aa214_A', 'aa215_A', 'aa216_A', 'aa217_A', 'aa218_A', 'aa219_A', 'aa220_A', 'aa221_A', 'aa222_A', 'aa223_A', 'aa224_A', 'aa225_A', 'aa226_A', 'aa227_A', 'aa228_A', 'aa229_A', 'aa230_A', 'aa231_A', 'aa232_A', 'aa233_A', 'aa234_A', 'aa235_A', 'aa236_A', 'aa237_A', 'aa238_A', 'aa239_A', 'aa240_A', 'aa241_A', 'aa242_A', 'aa243_A', 'aa244_A', 'aa245_A', 'aa246_A', 'aa247_A', 'aa248_A', 'aa249_A', 'aa250_A', 'aa251_A', 'aa252_A', 'aa253_A', 'aa254_A', 'aa255_A', 'aa256_A', 'aa257_A', 'aa258_A', 'aa259_A', 'aa260_A', 'aa261_A', 'aa262_A', 'aa263_A', 'aa264_A', 'aa265_A', 'aa266_A', 'aa267_A', 'aa268_A', 'aa269_A', 'aa270_A', 'aa271_A', 'aa272_A', 'aa273_A', 'aa274_A', 'aa275_A', 'aa276_A', 'aa277_A', 'aa278_A', 'aa279_A', 'aa280_A', 'aa281_A', 'aa282_A', 'aa283_A', 'aa284_A', 'aa285_A', 'aa286_A', 'aa287_A', 'aa288_A', 'aa289_A', 'aa290_A', 'aa291_A', 'aa292_A', 'aa293_A', 'aa294_A', 'aa295_A', 'aa296_A', 'aa297_A', 'aa298_A', 'aa299_A', 'aa300_A', 'aa301_A', 'aa302_A', 'aa303_A', 'aa304_A', 'aa305_A', 'aa306_A', 'aa307_A', 'aa308_A', 'aa309_A', 'aa310_A', 'aa311_A', 'aa312_A', 'aa313_A', 'aa314_A', 'aa315_A', 'aa316_A', 'aa317_A', 'aa318_A', 'aa319_A', 'aa320_A', 'aa321_A', 'aa322_A', 'aa323_A', 'aa324_A', 'aa325_A', 'aa326_A', 'aa327_A', 'aa328_A', 'aa329_A', 'aa330_A', 'aa331_A', 'aa332_A', 'aa333_A', 'aa334_A', 'aa335_A', 'aa336_A', 'aa337_A', 'aa338_A', 'aa339_A', 'aa340_A', 'aa341_A', 'aa342_A', 'aa343_A', 'aa344_A', 'aa345_A', 'aa346_A', 'aa347_A', 'aa348_A', 'aa349_A', 'aa350_A', 'aa351_A', 'aa352_A', 'aa353_A', 'aa354_A', 'aa355_A', 'aa356_A', 'aa357_A', 'aa358_A', 'aa359_A', 'aa360_A', 'aa361_A', 'aa362_A', 'aa363_A', 'aa364_A', 'aa365_A', 'aa366_A', 'aa367_A', 'aa368_A', 'aa369_A', 'aa370_A', 'aa371_A', 'aa372_A', 'aa373_A', 'aa374_A', 'aa375_A', 'aa376_A', 'aa377_A', 'aa378_A', 'aa379_A', 'aa380_A', 'aa381_A', 'aa382_A', 'aa383_A', 'aa384_A', 'aa385_A', 'aa386_A', 'aa387_A', 'aa388_A', 'aa389_A', 'aa390_A', 'aa391_A', 'aa392_A', 'aa393_A', 'aa394_A', 'aa395_A', 'aa396_A', 'aa397_A', 'aa398_A', 'aa399_A', 'aa400_A', 'aa401_A', 'aa402_A', 'aa403_A', 'aa404_A', 'aa405_A', 'aa406_A', 'aa407_A', 'aa408_A', 'aa409_A', 'aa410_A', 'aa411_A', 'aa412_A', 'aa413_A', 'aa414_A', 'aa415_A', 'aa416_A', 'aa417_A', 'aa418_A', 'aa419_A', 'aa420_A', 'aa421_A', 'aa422_A', 'aa423_A', 'aa424_A', 'aa425_A', 'aa426_A', 'aa427_A', 'aa428_A', 'aa429_A', 'aa430_A', 'aa431_A', 'aa432_A', 'aa433_A', 'aa434_A', 'aa435_A', 'aa436_A', 'aa437_A', 'aa438_A', 'aa439_A', 'aa440_A', 'aa441_A', 'aa442_A', 'aa443_A', 'aa444_A', 'aa445_A', 'aa446_A', 'aa447_A', 'aa448_A', 'aa449_A', 'aa450_A', 'aa451_A', 'aa452_A', 'aa453_A', 'aa454_A', 'aa455_A', 'aa456_A', 'aa457_A', 'aa458_A', 'aa459_A', 'aa460_A', 'aa461_A', 'aa462_A', 'aa463_A', 'aa464_A', 'aa465_A', 'aa466_A', 'aa467_A', 'aa468_A', 'aa469_A', 'aa470_A', 'aa471_A', 'aa472_A', 'aa473_A', 'aa474_A', 'aa475_A', 'aa476_A', 'aa477_A', 'aa478_A', 'aa479_A', 'aa480_A', 'aa481_A', 'aa482_A', 'aa483_A', 'aa484_A', 'aa485_A', 'aa486_A', 'aa487_A', 'aa488_A', 'aa489_A', 'aa490_A', 'aa491_A', 'aa492_A', 'aa493_A', 'aa494_A', 'aa495_A', 'aa496_A', 'aa497_A', 'aa498_A', 'aa499_A', 'aa500_A', 'aa501_A', 'aa502_A', 'aa503_A', 'aa504_A', 'aa505_A', 'aa506_A', 'aa507_A', 'aa508_A', 'aa509_A', 'aa510_A', 'aa511_A', 'aa512_A', 'aa513_A', 'aa514_A', 'aa515_A', 'aa516_A', 'aa517_A', 'aa518_A', 'aa519_A', 'aa520_A', 'aa521_A', 'aa522_A', 'aa523_A', 'aa524_A', 'aa525_A', 'aa526_A', 'aa527_A', 'aa528_A', 'aa529_A', 'aa530_A', 'aa531_A', 'aa532_A', 'aa533_A', 'aa534_A', 'aa535_A', 'aa536_A', 'aa537_A', 'aa538_A', 'aa539_A', 'aa540_A', 'aa541_A', 'aa542_A', 'aa543_A', 'aa544_A', 'aa545_A', 'aa546_A', 'aa547_A', 'aa548_A', 'aa549_A', 'aa550_A', 'aa551_A', 'aa552_A', 'aa553_A', 'aa554_A', 'aa555_A', 'aa556_A', 'aa560_A', 'aa561_A', 'aa562_A', 'aa563_A', 'aa564_A', 'aa565_A', 'aa567_A', 'aa568_A', 'aa569_A', 'aa570_A', 'aa574_A', 'aa575_A', 'aa576_A', 'aa577_A', 'aa578_A', 'aa579_A', 'aa581_A', 'aa586_A', 'aa588_A', 'aa593_A', 'aa598_A', 'aa602_A', 'aa613_A', 'aa615_A', 'aa632_A', 'aa643_A', 'aa2_H', 'aa3_H', 'aa4_H', 'aa5_H', 'aa6_H', 'aa7_H', 'aa8_H', 'aa9_H', 'aa10_H', 'aa11_H', 'aa12_H', 'aa13_H', 'aa14_H', 'aa15_H', 'aa16_H', 'aa17_H', 'aa18_H', 'aa19_H', 'aa20_H', 'aa21_H', 'aa22_H', 'aa23_H', 'aa24_H', 'aa25_H', 'aa26_H', 'aa27_H', 'aa28_H', 'aa29_H', 'aa30_H', 'aa31_H', 'aa32_H', 'aa33_H', 'aa34_H', 'aa35_H', 'aa36_H', 'aa37_H', 'aa38_H', 'aa39_H', 'aa40_H', 'aa41_H', 'aa42_H', 'aa43_H', 'aa44_H', 'aa45_H', 'aa46_H', 'aa47_H', 'aa48_H', 'aa49_H', 'aa50_H', 'aa51_H', 'aa52_H', 'aa53_H', 'aa54_H', 'aa55_H', 'aa56_H', 'aa57_H', 'aa58_H', 'aa59_H', 'aa60_H', 'aa61_H', 'aa62_H', 'aa63_H', 'aa64_H', 'aa65_H', 'aa66_H', 'aa67_H', 'aa68_H', 'aa69_H', 'aa70_H', 'aa71_H', 'aa72_H', 'aa73_H', 'aa74_H', 'aa75_H', 'aa76_H', 'aa77_H', 'aa78_H', 'aa79_H', 'aa80_H', 'aa81_H', 'aa82_H', 'aa83_H', 'aa84_H', 'aa85_H', 'aa86_H', 'aa87_H', 'aa88_H', 'aa89_H', 'aa90_H', 'aa91_H', 'aa92_H', 'aa93_H', 'aa94_H', 'aa95_H', 'aa96_H', 'aa97_H', 'aa98_H', 'aa99_H', 'aa100_H', 'aa101_H', 'aa102_H', 'aa103_H', 'aa104_H', 'aa105_H', 'aa106_H', 'aa107_H', 'aa108_H', 'aa109_H', 'aa110_H', 'aa111_H', 'aa112_H', 'aa113_H', 'aa114_H', 'aa115_H', 'aa116_H', 'aa117_H', 'aa118_H', 'aa119_H', 'aa120_H', 'aa121_H', 'aa122_H', 'aa123_H', 'aa124_H', 'aa125_H', 'aa126_H', 'aa127_H', 'aa128_H', 'aa129_H', 'aa130_H', 'aa131_H', 'aa132_H', 'aa133_H', 'aa134_H', 'aa135_H', 'aa136_H', 'aa137_H', 'aa138_H', 'aa139_H', 'aa140_H', 'aa141_H', 'aa142_H', 'aa143_H', 'aa144_H', 'aa145_H', 'aa146_H', 'aa147_H', 'aa148_H', 'aa149_H', 'aa150_H', 'aa151_H', 'aa152_H', 'aa153_H', 'aa154_H', 'aa155_H', 'aa156_H', 'aa157_H', 'aa158_H', 'aa159_H', 'aa160_H', 'aa161_H', 'aa162_H', 'aa163_H', 'aa164_H', 'aa165_H', 'aa166_H', 'aa167_H', 'aa168_H', 'aa169_H', 'aa170_H', 'aa171_H', 'aa172_H', 'aa173_H', 'aa174_H', 'aa175_H', 'aa176_H', 'aa177_H', 'aa178_H', 'aa179_H', 'aa180_H', 'aa181_H', 'aa182_H', 'aa183_H', 'aa184_H', 'aa185_H', 'aa186_H', 'aa187_H', 'aa188_H', 'aa189_H', 'aa190_H', 'aa191_H', 'aa192_H', 'aa193_H', 'aa194_H', 'aa195_H', 'aa196_H', 'aa197_H', 'aa198_H', 'aa199_H', 'aa200_H', 'aa201_H', 'aa202_H', 'aa203_H', 'aa204_H', 'aa205_H', 'aa206_H', 'aa207_H', 'aa208_H', 'aa209_H', 'aa210_H', 'aa211_H', 'aa212_H', 'aa213_H', 'aa214_H', 'aa215_H', 'aa216_H', 'aa217_H', 'aa218_H', 'aa219_H', 'aa220_H', 'aa221_H', 'aa222_H', 'aa223_H', 'aa224_H', 'aa225_H', 'aa226_H', 'aa227_H', 'aa228_H', 'aa229_H', 'aa230_H', 'aa231_H', 'aa232_H', 'aa233_H', 'aa234_H', 'aa235_H', 'aa236_H', 'aa237_H', 'aa238_H', 'aa239_H', 'aa240_H', 'aa241_H', 'aa242_H', 'aa243_H', 'aa244_H', 'aa245_H', 'aa246_H', 'aa247_H', 'aa248_H', 'aa249_H', 'aa250_H', 'aa251_H', 'aa252_H', 'aa253_H', 'aa254_H', 'aa255_H', 'aa256_H', 'aa257_H', 'aa258_H', 'aa259_H', 'aa260_H', 'aa261_H', 'aa262_H', 'aa263_H', 'aa264_H', 'aa265_H', 'aa266_H', 'aa267_H', 'aa268_H', 'aa269_H', 'aa270_H', 'aa271_H', 'aa272_H', 'aa273_H', 'aa274_H', 'aa275_H', 'aa276_H', 'aa277_H', 'aa278_H', 'aa279_H', 'aa280_H', 'aa281_H', 'aa282_H', 'aa283_H', 'aa284_H', 'aa285_H', 'aa286_H', 'aa287_H', 'aa288_H', 'aa289_H', 'aa290_H', 'aa291_H', 'aa292_H', 'aa293_H', 'aa294_H', 'aa295_H', 'aa296_H', 'aa297_H', 'aa298_H', 'aa299_H', 'aa300_H', 'aa301_H', 'aa302_H', 'aa303_H', 'aa304_H', 'aa305_H', 'aa306_H', 'aa307_H', 'aa308_H', 'aa309_H', 'aa310_H', 'aa311_H', 'aa312_H', 'aa313_H', 'aa314_H', 'aa315_H', 'aa316_H', 'aa317_H', 'aa318_H', 'aa319_H', 'aa320_H', 'aa321_H', 'aa322_H', 'aa323_H', 'aa324_H', 'aa325_H', 'aa326_H', 'aa327_H', 'aa328_H', 'aa329_H', 'aa330_H', 'aa331_H', 'aa332_H', 'aa333_H', 'aa334_H', 'aa335_H', 'aa336_H', 'aa337_H', 'aa338_H', 'aa339_H', 'aa340_H', 'aa341_H', 'aa342_H', 'aa343_H', 'aa344_H', 'aa345_H', 'aa346_H', 'aa347_H', 'aa348_H', 'aa349_H', 'aa350_H', 'aa351_H', 'aa352_H', 'aa353_H', 'aa354_H', 'aa355_H', 'aa356_H', 'aa357_H', 'aa358_H', 'aa359_H', 'aa360_H', 'aa361_H', 'aa362_H', 'aa363_H', 'aa364_H', 'aa365_H', 'aa366_H', 'aa367_H', 'aa368_H', 'aa369_H', 'aa370_H', 'aa371_H', 'aa372_H', 'aa373_H', 'aa374_H', 'aa375_H', 'aa376_H', 'aa377_H', 'aa378_H', 'aa379_H', 'aa380_H', 'aa381_H', 'aa382_H', 'aa383_H', 'aa384_H', 'aa385_H', 'aa386_H', 'aa387_H', 'aa388_H', 'aa389_H', 'aa390_H', 'aa391_H', 'aa392_H', 'aa393_H', 'aa394_H', 'aa395_H', 'aa396_H', 'aa397_H', 'aa399_H', 'aa400_H', 'aa401_H', 'aa402_H', 'aa403_H', 'aa404_H', 'aa405_H', 'aa406_H', 'aa407_H', 'aa408_H', 'aa409_H', 'aa410_H', 'aa411_H', 'aa412_H', 'aa414_H', 'aa416_H', 'aa417_H', 'aa418_H', 'aa419_H', 'aa420_H', 'aa421_H', 'aa422_H', 'aa423_H', 'aa424_H', 'aa425_H', 'aa426_H', 'aa427_H', 'aa428_H', 'aa429_H', 'aa430_H', 'aa431_H', 'aa432_H', 'aa433_H', 'aa434_H', 'aa436_H', 'aa437_H', 'aa439_H', 'aa440_H', 'aa441_H', 'aa443_H', 'aa445_H', 'aa446_H', 'aa447_H', 'aa448_H', 'aa449_H', 'aa450_H', 'aa451_H', 'aa452_H', 'aa453_H', 'aa454_H', 'aa456_H', 'aa457_H', 'aa458_H', 'aa459_H', 'aa460_H', 'aa461_H', 'aa466_H', 'aa467_H', 'aa468_H', 'aa469_H', 'aa471_H', 'aa472_H', 'aa473_H', 'aa476_H', 'aa477_H', 'aa480_H', 'aa481_H', 'aa482_H', 'aa483_H', 'aa485_H', 'aa486_H', 'aa487_H', 'aa488_H', 'aa489_H', 'aa491_H', 'aa493_H', 'aa494_H', 'aa495_H', 'aa496_H', 'aa497_H', 'aa499_H', 'aa501_H', 'aa502_H', 'aa503_H', 'aa504_H', 'aa507_H', 'aa508_H', 'aa511_H', 'aa512_H', 'aa514_H', 'aa518_H', 'aa524_H', 'aa532_H', 'aa537_H', 'aa540_H', 'aa542_H', 'aa547_H', 'aa554_H', 'aa560_H', 'aa604_H', 'aa609_H', 'aa2_Y', 'aa3_Y', 'aa4_Y', 'aa5_Y', 'aa6_Y', 'aa7_Y', 'aa8_Y', 'aa9_Y', 'aa10_Y', 'aa11_Y', 'aa12_Y', 'aa13_Y', 'aa14_Y', 'aa15_Y', 'aa16_Y', 'aa17_Y', 'aa18_Y', 'aa19_Y', 'aa20_Y', 'aa21_Y', 'aa22_Y', 'aa23_Y', 'aa24_Y', 'aa25_Y', 'aa26_Y', 'aa27_Y', 'aa28_Y', 'aa29_Y', 'aa30_Y', 'aa31_Y', 'aa32_Y', 'aa33_Y', 'aa34_Y', 'aa35_Y', 'aa36_Y', 'aa37_Y', 'aa38_Y', 'aa39_Y', 'aa40_Y', 'aa41_Y', 'aa42_Y', 'aa43_Y', 'aa44_Y', 'aa45_Y', 'aa46_Y', 'aa47_Y', 'aa48_Y', 'aa49_Y', 'aa50_Y', 'aa51_Y', 'aa52_Y', 'aa53_Y', 'aa54_Y', 'aa55_Y', 'aa56_Y', 'aa57_Y', 'aa58_Y', 'aa59_Y', 'aa60_Y', 'aa61_Y', 'aa62_Y', 'aa63_Y', 'aa64_Y', 'aa65_Y', 'aa66_Y', 'aa67_Y', 'aa68_Y', 'aa69_Y', 'aa70_Y', 'aa71_Y', 'aa72_Y', 'aa73_Y', 'aa74_Y', 'aa75_Y', 'aa76_Y', 'aa77_Y', 'aa78_Y', 'aa79_Y', 'aa80_Y', 'aa81_Y', 'aa82_Y', 'aa83_Y', 'aa84_Y', 'aa85_Y', 'aa86_Y', 'aa87_Y', 'aa88_Y', 'aa89_Y', 'aa90_Y', 'aa91_Y', 'aa92_Y', 'aa93_Y', 'aa94_Y', 'aa95_Y', 'aa96_Y', 'aa97_Y', 'aa98_Y', 'aa99_Y', 'aa100_Y', 'aa101_Y', 'aa102_Y', 'aa103_Y', 'aa104_Y', 'aa105_Y', 'aa106_Y', 'aa107_Y', 'aa108_Y', 'aa109_Y', 'aa110_Y', 'aa111_Y', 'aa112_Y', 'aa113_Y', 'aa114_Y', 'aa115_Y', 'aa116_Y', 'aa117_Y', 'aa118_Y', 'aa119_Y', 'aa120_Y', 'aa121_Y', 'aa122_Y', 'aa123_Y', 'aa124_Y', 'aa125_Y', 'aa126_Y', 'aa127_Y', 'aa128_Y', 'aa129_Y', 'aa130_Y', 'aa131_Y', 'aa132_Y', 'aa133_Y', 'aa134_Y', 'aa135_Y', 'aa136_Y', 'aa137_Y', 'aa138_Y', 'aa139_Y', 'aa140_Y', 'aa141_Y', 'aa142_Y', 'aa143_Y', 'aa144_Y', 'aa145_Y', 'aa146_Y', 'aa147_Y', 'aa148_Y', 'aa149_Y', 'aa150_Y', 'aa151_Y', 'aa152_Y', 'aa153_Y', 'aa154_Y', 'aa155_Y', 'aa156_Y', 'aa157_Y', 'aa158_Y', 'aa159_Y', 'aa160_Y', 'aa161_Y', 'aa162_Y', 'aa163_Y', 'aa164_Y', 'aa165_Y', 'aa166_Y', 'aa167_Y', 'aa168_Y', 'aa169_Y', 'aa170_Y', 'aa171_Y', 'aa172_Y', 'aa173_Y', 'aa174_Y', 'aa175_Y', 'aa176_Y', 'aa177_Y', 'aa178_Y', 'aa179_Y', 'aa180_Y', 'aa181_Y', 'aa182_Y', 'aa183_Y', 'aa184_Y', 'aa185_Y', 'aa186_Y', 'aa187_Y', 'aa188_Y', 'aa189_Y', 'aa190_Y', 'aa191_Y', 'aa192_Y', 'aa193_Y', 'aa194_Y', 'aa195_Y', 'aa196_Y', 'aa197_Y', 'aa198_Y', 'aa199_Y', 'aa200_Y', 'aa201_Y', 'aa202_Y', 'aa203_Y', 'aa204_Y', 'aa205_Y', 'aa206_Y', 'aa207_Y', 'aa208_Y', 'aa209_Y', 'aa210_Y', 'aa211_Y', 'aa212_Y', 'aa213_Y', 'aa214_Y', 'aa215_Y', 'aa216_Y', 'aa217_Y', 'aa218_Y', 'aa219_Y', 'aa220_Y', 'aa221_Y', 'aa222_Y', 'aa223_Y', 'aa224_Y', 'aa225_Y', 'aa226_Y', 'aa227_Y', 'aa228_Y', 'aa229_Y', 'aa230_Y', 'aa231_Y', 'aa232_Y', 'aa233_Y', 'aa234_Y', 'aa235_Y', 'aa236_Y', 'aa237_Y', 'aa238_Y', 'aa239_Y', 'aa240_Y', 'aa241_Y', 'aa242_Y', 'aa243_Y', 'aa244_Y', 'aa245_Y', 'aa246_Y', 'aa247_Y', 'aa248_Y', 'aa249_Y', 'aa250_Y', 'aa251_Y', 'aa252_Y', 'aa253_Y', 'aa254_Y', 'aa255_Y', 'aa256_Y', 'aa257_Y', 'aa258_Y', 'aa259_Y', 'aa260_Y', 'aa261_Y', 'aa262_Y', 'aa263_Y', 'aa264_Y', 'aa265_Y', 'aa266_Y', 'aa267_Y', 'aa268_Y', 'aa269_Y', 'aa270_Y', 'aa271_Y', 'aa272_Y', 'aa273_Y', 'aa274_Y', 'aa275_Y', 'aa276_Y', 'aa277_Y', 'aa278_Y', 'aa279_Y', 'aa280_Y', 'aa281_Y', 'aa282_Y', 'aa283_Y', 'aa284_Y', 'aa285_Y', 'aa286_Y', 'aa287_Y', 'aa288_Y', 'aa289_Y', 'aa290_Y', 'aa291_Y', 'aa292_Y', 'aa293_Y', 'aa294_Y', 'aa295_Y', 'aa296_Y', 'aa297_Y', 'aa298_Y', 'aa299_Y', 'aa300_Y', 'aa301_Y', 'aa302_Y', 'aa303_Y', 'aa304_Y', 'aa305_Y', 'aa306_Y', 'aa307_Y', 'aa308_Y', 'aa309_Y', 'aa310_Y', 'aa311_Y', 'aa312_Y', 'aa313_Y', 'aa314_Y', 'aa315_Y', 'aa316_Y', 'aa317_Y', 'aa318_Y', 'aa319_Y', 'aa320_Y', 'aa321_Y', 'aa322_Y', 'aa323_Y', 'aa324_Y', 'aa325_Y', 'aa326_Y', 'aa327_Y', 'aa328_Y', 'aa329_Y', 'aa330_Y', 'aa331_Y', 'aa332_Y', 'aa333_Y', 'aa334_Y', 'aa335_Y', 'aa336_Y', 'aa337_Y', 'aa338_Y', 'aa339_Y', 'aa340_Y', 'aa341_Y', 'aa342_Y', 'aa343_Y', 'aa344_Y', 'aa345_Y', 'aa346_Y', 'aa347_Y', 'aa348_Y', 'aa349_Y', 'aa350_Y', 'aa351_Y', 'aa352_Y', 'aa353_Y', 'aa354_Y', 'aa355_Y', 'aa356_Y', 'aa357_Y', 'aa358_Y', 'aa359_Y', 'aa360_Y', 'aa361_Y', 'aa362_Y', 'aa363_Y', 'aa364_Y', 'aa365_Y', 'aa366_Y', 'aa367_Y', 'aa368_Y', 'aa369_Y', 'aa370_Y', 'aa371_Y', 'aa372_Y', 'aa373_Y', 'aa374_Y', 'aa375_Y', 'aa376_Y', 'aa377_Y', 'aa378_Y', 'aa379_Y', 'aa380_Y', 'aa381_Y', 'aa382_Y', 'aa383_Y', 'aa384_Y', 'aa385_Y', 'aa386_Y', 'aa387_Y', 'aa388_Y', 'aa389_Y', 'aa390_Y', 'aa391_Y', 'aa392_Y', 'aa393_Y', 'aa394_Y', 'aa395_Y', 'aa396_Y', 'aa397_Y', 'aa398_Y', 'aa399_Y', 'aa400_Y', 'aa401_Y', 'aa402_Y', 'aa403_Y', 'aa404_Y', 'aa405_Y', 'aa406_Y', 'aa407_Y', 'aa408_Y', 'aa409_Y', 'aa410_Y', 'aa411_Y', 'aa412_Y', 'aa413_Y', 'aa414_Y', 'aa415_Y', 'aa416_Y', 'aa417_Y', 'aa418_Y', 'aa419_Y', 'aa420_Y', 'aa421_Y', 'aa422_Y', 'aa423_Y', 'aa424_Y', 'aa425_Y', 'aa426_Y', 'aa427_Y', 'aa428_Y', 'aa429_Y', 'aa430_Y', 'aa431_Y', 'aa432_Y', 'aa433_Y', 'aa434_Y', 'aa435_Y', 'aa436_Y', 'aa437_Y', 'aa438_Y', 'aa439_Y', 'aa440_Y', 'aa441_Y', 'aa442_Y', 'aa443_Y', 'aa444_Y', 'aa445_Y', 'aa446_Y', 'aa447_Y', 'aa450_Y', 'aa451_Y', 'aa452_Y', 'aa453_Y', 'aa454_Y', 'aa455_Y', 'aa456_Y', 'aa457_Y', 'aa458_Y', 'aa459_Y', 'aa460_Y', 'aa461_Y', 'aa462_Y', 'aa463_Y', 'aa464_Y', 'aa465_Y', 'aa467_Y', 'aa468_Y', 'aa469_Y', 'aa470_Y', 'aa471_Y', 'aa472_Y', 'aa473_Y', 'aa474_Y', 'aa475_Y', 'aa476_Y', 'aa477_Y', 'aa479_Y', 'aa480_Y', 'aa481_Y', 'aa482_Y', 'aa483_Y', 'aa485_Y', 'aa486_Y', 'aa488_Y', 'aa489_Y', 'aa490_Y', 'aa491_Y', 'aa493_Y', 'aa495_Y', 'aa496_Y', 'aa497_Y', 'aa498_Y', 'aa501_Y', 'aa502_Y', 'aa503_Y', 'aa504_Y', 'aa506_Y', 'aa508_Y', 'aa509_Y', 'aa510_Y', 'aa511_Y', 'aa512_Y', 'aa514_Y', 'aa515_Y', 'aa517_Y', 'aa519_Y', 'aa520_Y', 'aa524_Y', 'aa526_Y', 'aa527_Y', 'aa528_Y', 'aa534_Y', 'aa535_Y', 'aa537_Y', 'aa539_Y', 'aa541_Y', 'aa543_Y', 'aa544_Y', 'aa545_Y', 'aa546_Y', 'aa549_Y', 'aa550_Y', 'aa551_Y', 'aa555_Y', 'aa557_Y', 'aa559_Y', 'aa563_Y', 'aa570_Y', 'aa574_Y', 'aa583_Y', 'aa603_Y', 'aa2_V', 'aa3_V', 'aa4_V', 'aa5_V', 'aa6_V', 'aa7_V', 'aa8_V', 'aa9_V', 'aa10_V', 'aa11_V', 'aa12_V', 'aa13_V', 'aa14_V', 'aa15_V', 'aa16_V', 'aa17_V', 'aa18_V', 'aa19_V', 'aa20_V', 'aa21_V', 'aa22_V', 'aa23_V', 'aa24_V', 'aa25_V', 'aa26_V', 'aa27_V', 'aa28_V', 'aa29_V', 'aa30_V', 'aa31_V', 'aa32_V', 'aa33_V', 'aa34_V', 'aa35_V', 'aa36_V', 'aa37_V', 'aa38_V', 'aa39_V', 'aa40_V', 'aa41_V', 'aa42_V', 'aa43_V', 'aa44_V', 'aa45_V', 'aa46_V', 'aa47_V', 'aa48_V', 'aa49_V', 'aa50_V', 'aa51_V', 'aa52_V', 'aa53_V', 'aa54_V', 'aa55_V', 'aa56_V', 'aa57_V', 'aa58_V', 'aa59_V', 'aa60_V', 'aa61_V', 'aa62_V', 'aa63_V', 'aa64_V', 'aa65_V', 'aa66_V', 'aa67_V', 'aa68_V', 'aa69_V', 'aa70_V', 'aa71_V', 'aa72_V', 'aa73_V', 'aa74_V', 'aa75_V', 'aa76_V', 'aa77_V', 'aa78_V', 'aa79_V', 'aa80_V', 'aa81_V', 'aa82_V', 'aa83_V', 'aa84_V', 'aa85_V', 'aa86_V', 'aa87_V', 'aa88_V', 'aa89_V', 'aa90_V', 'aa91_V', 'aa92_V', 'aa93_V', 'aa94_V', 'aa95_V', 'aa96_V', 'aa97_V', 'aa98_V', 'aa99_V', 'aa100_V', 'aa101_V', 'aa102_V', 'aa103_V', 'aa104_V', 'aa105_V', 'aa106_V', 'aa107_V', 'aa108_V', 'aa109_V', 'aa110_V', 'aa111_V', 'aa112_V', 'aa113_V', 'aa114_V', 'aa115_V', 'aa116_V', 'aa117_V', 'aa118_V', 'aa119_V', 'aa120_V', 'aa121_V', 'aa122_V', 'aa123_V', 'aa124_V', 'aa125_V', 'aa126_V', 'aa127_V', 'aa128_V', 'aa129_V', 'aa130_V', 'aa131_V', 'aa132_V', 'aa133_V', 'aa134_V', 'aa135_V', 'aa136_V', 'aa137_V', 'aa138_V', 'aa139_V', 'aa140_V', 'aa141_V', 'aa142_V', 'aa143_V', 'aa144_V', 'aa145_V', 'aa146_V', 'aa147_V', 'aa148_V', 'aa149_V', 'aa150_V', 'aa151_V', 'aa152_V', 'aa153_V', 'aa154_V', 'aa155_V', 'aa156_V', 'aa157_V', 'aa158_V', 'aa159_V', 'aa160_V', 'aa161_V', 'aa162_V', 'aa163_V', 'aa164_V', 'aa165_V', 'aa166_V', 'aa167_V', 'aa168_V', 'aa169_V', 'aa170_V', 'aa171_V', 'aa172_V', 'aa173_V', 'aa174_V', 'aa175_V', 'aa176_V', 'aa177_V', 'aa178_V', 'aa179_V', 'aa180_V', 'aa181_V', 'aa182_V', 'aa183_V', 'aa184_V', 'aa185_V', 'aa186_V', 'aa187_V', 'aa188_V', 'aa189_V', 'aa190_V', 'aa191_V', 'aa192_V', 'aa193_V', 'aa194_V', 'aa195_V', 'aa196_V', 'aa197_V', 'aa198_V', 'aa199_V', 'aa200_V', 'aa201_V', 'aa202_V', 'aa203_V', 'aa204_V', 'aa205_V', 'aa206_V', 'aa207_V', 'aa208_V', 'aa209_V', 'aa210_V', 'aa211_V', 'aa212_V', 'aa213_V', 'aa214_V', 'aa215_V', 'aa216_V', 'aa217_V', 'aa218_V', 'aa219_V', 'aa220_V', 'aa221_V', 'aa222_V', 'aa223_V', 'aa224_V', 'aa225_V', 'aa226_V', 'aa227_V', 'aa228_V', 'aa229_V', 'aa230_V', 'aa231_V', 'aa232_V', 'aa233_V', 'aa234_V', 'aa235_V', 'aa236_V', 'aa237_V', 'aa238_V', 'aa239_V', 'aa240_V', 'aa241_V', 'aa242_V', 'aa243_V', 'aa244_V', 'aa245_V', 'aa246_V', 'aa247_V', 'aa248_V', 'aa249_V', 'aa250_V', 'aa251_V', 'aa252_V', 'aa253_V', 'aa254_V', 'aa255_V', 'aa256_V', 'aa257_V', 'aa258_V', 'aa259_V', 'aa260_V', 'aa261_V', 'aa262_V', 'aa263_V', 'aa264_V', 'aa265_V', 'aa266_V', 'aa267_V', 'aa268_V', 'aa269_V', 'aa270_V', 'aa271_V', 'aa272_V', 'aa273_V', 'aa274_V', 'aa275_V', 'aa276_V', 'aa277_V', 'aa278_V', 'aa279_V', 'aa280_V', 'aa281_V', 'aa282_V', 'aa283_V', 'aa284_V', 'aa285_V', 'aa286_V', 'aa287_V', 'aa288_V', 'aa289_V', 'aa290_V', 'aa291_V', 'aa292_V', 'aa293_V', 'aa294_V', 'aa295_V', 'aa296_V', 'aa297_V', 'aa298_V', 'aa299_V', 'aa300_V', 'aa301_V', 'aa302_V', 'aa303_V', 'aa304_V', 'aa305_V', 'aa306_V', 'aa307_V', 'aa308_V', 'aa309_V', 'aa310_V', 'aa311_V', 'aa312_V', 'aa313_V', 'aa314_V', 'aa315_V', 'aa316_V', 'aa317_V', 'aa318_V', 'aa319_V', 'aa320_V', 'aa321_V', 'aa322_V', 'aa323_V', 'aa324_V', 'aa325_V', 'aa326_V', 'aa327_V', 'aa328_V', 'aa329_V', 'aa330_V', 'aa331_V', 'aa332_V', 'aa333_V', 'aa334_V', 'aa335_V', 'aa336_V', 'aa337_V', 'aa338_V', 'aa339_V', 'aa340_V', 'aa341_V', 'aa342_V', 'aa343_V', 'aa344_V', 'aa345_V', 'aa346_V', 'aa347_V', 'aa348_V', 'aa349_V', 'aa350_V', 'aa351_V', 'aa352_V', 'aa353_V', 'aa354_V', 'aa355_V', 'aa356_V', 'aa357_V', 'aa358_V', 'aa359_V', 'aa360_V', 'aa361_V', 'aa362_V', 'aa363_V', 'aa364_V', 'aa365_V', 'aa366_V', 'aa367_V', 'aa368_V', 'aa369_V', 'aa370_V', 'aa371_V', 'aa372_V', 'aa373_V', 'aa374_V', 'aa375_V', 'aa376_V', 'aa377_V', 'aa378_V', 'aa379_V', 'aa380_V', 'aa381_V', 'aa382_V', 'aa383_V', 'aa384_V', 'aa385_V', 'aa386_V', 'aa387_V', 'aa388_V', 'aa389_V', 'aa390_V', 'aa391_V', 'aa392_V', 'aa393_V', 'aa394_V', 'aa395_V', 'aa396_V', 'aa397_V', 'aa398_V', 'aa399_V', 'aa400_V', 'aa401_V', 'aa402_V', 'aa403_V', 'aa404_V', 'aa405_V', 'aa406_V', 'aa407_V', 'aa408_V', 'aa409_V', 'aa410_V', 'aa411_V', 'aa412_V', 'aa413_V', 'aa414_V', 'aa415_V', 'aa416_V', 'aa417_V', 'aa418_V', 'aa419_V', 'aa420_V', 'aa421_V', 'aa422_V', 'aa423_V', 'aa424_V', 'aa425_V', 'aa426_V', 'aa427_V', 'aa428_V', 'aa429_V', 'aa430_V', 'aa431_V', 'aa432_V', 'aa433_V', 'aa434_V', 'aa435_V', 'aa436_V', 'aa437_V', 'aa438_V', 'aa439_V', 'aa440_V', 'aa441_V', 'aa442_V', 'aa443_V', 'aa444_V', 'aa445_V', 'aa446_V', 'aa447_V', 'aa448_V', 'aa449_V', 'aa450_V', 'aa451_V', 'aa452_V', 'aa453_V', 'aa454_V', 'aa455_V', 'aa456_V', 'aa457_V', 'aa458_V', 'aa459_V', 'aa460_V', 'aa461_V', 'aa462_V', 'aa463_V', 'aa464_V', 'aa465_V', 'aa466_V', 'aa467_V', 'aa468_V', 'aa469_V', 'aa470_V', 'aa471_V', 'aa472_V', 'aa473_V', 'aa474_V', 'aa475_V', 'aa476_V', 'aa477_V', 'aa478_V', 'aa480_V', 'aa481_V', 'aa482_V', 'aa483_V', 'aa484_V', 'aa485_V', 'aa487_V', 'aa488_V', 'aa489_V', 'aa490_V', 'aa491_V', 'aa492_V', 'aa493_V', 'aa494_V', 'aa495_V', 'aa496_V', 'aa497_V', 'aa498_V', 'aa499_V', 'aa500_V', 'aa501_V', 'aa502_V', 'aa503_V', 'aa504_V', 'aa505_V', 'aa506_V', 'aa507_V', 'aa508_V', 'aa509_V', 'aa510_V', 'aa511_V', 'aa512_V', 'aa513_V', 'aa514_V', 'aa515_V', 'aa517_V', 'aa518_V', 'aa519_V', 'aa520_V', 'aa521_V', 'aa522_V', 'aa523_V', 'aa524_V', 'aa525_V', 'aa526_V', 'aa527_V', 'aa528_V', 'aa530_V', 'aa531_V', 'aa532_V', 'aa533_V', 'aa534_V', 'aa535_V', 'aa537_V', 'aa538_V', 'aa539_V', 'aa540_V', 'aa541_V', 'aa542_V', 'aa543_V', 'aa545_V', 'aa546_V', 'aa547_V', 'aa548_V', 'aa549_V', 'aa553_V', 'aa554_V', 'aa555_V', 'aa557_V', 'aa559_V', 'aa560_V', 'aa566_V', 'aa568_V', 'aa571_V', 'aa572_V', 'aa574_V', 'aa577_V', 'aa594_V', 'aa595_V', 'aa596_V', 'aa605_V', 'aa611_V', 'aa614_V', 'aa1_L', 'aa2_L', 'aa3_L', 'aa4_L', 'aa5_L', 'aa6_L', 'aa7_L', 'aa8_L', 'aa9_L', 'aa10_L', 'aa11_L', 'aa12_L', 'aa13_L', 'aa14_L', 'aa15_L', 'aa16_L', 'aa17_L', 'aa18_L', 'aa19_L', 'aa20_L', 'aa21_L', 'aa22_L', 'aa23_L', 'aa24_L', 'aa25_L', 'aa26_L', 'aa27_L', 'aa28_L', 'aa29_L', 'aa30_L', 'aa31_L', 'aa32_L', 'aa33_L', 'aa34_L', 'aa35_L', 'aa36_L', 'aa37_L', 'aa38_L', 'aa39_L', 'aa40_L', 'aa41_L', 'aa42_L', 'aa43_L', 'aa44_L', 'aa45_L', 'aa46_L', 'aa47_L', 'aa48_L', 'aa49_L', 'aa50_L', 'aa51_L', 'aa52_L', 'aa53_L', 'aa54_L', 'aa55_L', 'aa56_L', 'aa57_L', 'aa58_L', 'aa59_L', 'aa60_L', 'aa61_L', 'aa62_L', 'aa63_L', 'aa64_L', 'aa65_L', 'aa66_L', 'aa67_L', 'aa68_L', 'aa69_L', 'aa70_L', 'aa71_L', 'aa72_L', 'aa73_L', 'aa74_L', 'aa75_L', 'aa76_L', 'aa77_L', 'aa78_L', 'aa79_L', 'aa80_L', 'aa81_L', 'aa82_L', 'aa83_L', 'aa84_L', 'aa85_L', 'aa86_L', 'aa87_L', 'aa88_L', 'aa89_L', 'aa90_L', 'aa91_L', 'aa92_L', 'aa93_L', 'aa94_L', 'aa95_L', 'aa96_L', 'aa97_L', 'aa98_L', 'aa99_L', 'aa100_L', 'aa101_L', 'aa102_L', 'aa103_L', 'aa104_L', 'aa105_L', 'aa106_L', 'aa107_L', 'aa108_L', 'aa109_L', 'aa110_L', 'aa111_L', 'aa112_L', 'aa113_L', 'aa114_L', 'aa115_L', 'aa116_L', 'aa117_L', 'aa118_L', 'aa119_L', 'aa120_L', 'aa121_L', 'aa122_L', 'aa123_L', 'aa124_L', 'aa125_L', 'aa126_L', 'aa127_L', 'aa128_L', 'aa129_L', 'aa130_L', 'aa131_L', 'aa132_L', 'aa133_L', 'aa134_L', 'aa135_L', 'aa136_L', 'aa137_L', 'aa138_L', 'aa139_L', 'aa140_L', 'aa141_L', 'aa142_L', 'aa143_L', 'aa144_L', 'aa145_L', 'aa146_L', 'aa147_L', 'aa148_L', 'aa149_L', 'aa150_L', 'aa151_L', 'aa152_L', 'aa153_L', 'aa154_L', 'aa155_L', 'aa156_L', 'aa157_L', 'aa158_L', 'aa159_L', 'aa160_L', 'aa161_L', 'aa162_L', 'aa163_L', 'aa164_L', 'aa165_L', 'aa166_L', 'aa167_L', 'aa168_L', 'aa169_L', 'aa170_L', 'aa171_L', 'aa172_L', 'aa173_L', 'aa174_L', 'aa175_L', 'aa176_L', 'aa177_L', 'aa178_L', 'aa179_L', 'aa180_L', 'aa181_L', 'aa182_L', 'aa183_L', 'aa184_L', 'aa185_L', 'aa186_L', 'aa187_L', 'aa188_L', 'aa189_L', 'aa190_L', 'aa191_L', 'aa192_L', 'aa193_L', 'aa194_L', 'aa195_L', 'aa196_L', 'aa197_L', 'aa198_L', 'aa199_L', 'aa200_L', 'aa201_L', 'aa202_L', 'aa203_L', 'aa204_L', 'aa205_L', 'aa206_L', 'aa207_L', 'aa208_L', 'aa209_L', 'aa210_L', 'aa211_L', 'aa212_L', 'aa213_L', 'aa214_L', 'aa215_L', 'aa216_L', 'aa217_L', 'aa218_L', 'aa219_L', 'aa220_L', 'aa221_L', 'aa222_L', 'aa223_L', 'aa224_L', 'aa225_L', 'aa226_L', 'aa227_L', 'aa228_L', 'aa229_L', 'aa230_L', 'aa231_L', 'aa232_L', 'aa233_L', 'aa234_L', 'aa235_L', 'aa236_L', 'aa237_L', 'aa238_L', 'aa239_L', 'aa240_L', 'aa241_L', 'aa242_L', 'aa243_L', 'aa244_L', 'aa245_L', 'aa246_L', 'aa247_L', 'aa248_L', 'aa249_L', 'aa250_L', 'aa251_L', 'aa252_L', 'aa253_L', 'aa254_L', 'aa255_L', 'aa256_L', 'aa257_L', 'aa258_L', 'aa259_L', 'aa260_L', 'aa261_L', 'aa262_L', 'aa263_L', 'aa264_L', 'aa265_L', 'aa266_L', 'aa267_L', 'aa268_L', 'aa269_L', 'aa270_L', 'aa271_L', 'aa272_L', 'aa273_L', 'aa274_L', 'aa275_L', 'aa276_L', 'aa277_L', 'aa278_L', 'aa279_L', 'aa280_L', 'aa281_L', 'aa282_L', 'aa283_L', 'aa284_L', 'aa285_L', 'aa286_L', 'aa287_L', 'aa288_L', 'aa289_L', 'aa290_L', 'aa291_L', 'aa292_L', 'aa293_L', 'aa294_L', 'aa295_L', 'aa296_L', 'aa297_L', 'aa298_L', 'aa299_L', 'aa300_L', 'aa301_L', 'aa302_L', 'aa303_L', 'aa304_L', 'aa305_L', 'aa306_L', 'aa307_L', 'aa308_L', 'aa309_L', 'aa310_L', 'aa311_L', 'aa312_L', 'aa313_L', 'aa314_L', 'aa315_L', 'aa316_L', 'aa317_L', 'aa318_L', 'aa319_L', 'aa320_L', 'aa321_L', 'aa322_L', 'aa323_L', 'aa324_L', 'aa325_L', 'aa326_L', 'aa327_L', 'aa328_L', 'aa329_L', 'aa330_L', 'aa331_L', 'aa332_L', 'aa333_L', 'aa334_L', 'aa335_L', 'aa336_L', 'aa337_L', 'aa338_L', 'aa339_L', 'aa340_L', 'aa341_L', 'aa342_L', 'aa343_L', 'aa344_L', 'aa345_L', 'aa346_L', 'aa347_L', 'aa348_L', 'aa349_L', 'aa350_L', 'aa351_L', 'aa352_L', 'aa353_L', 'aa354_L', 'aa355_L', 'aa356_L', 'aa357_L', 'aa358_L', 'aa359_L', 'aa360_L', 'aa361_L', 'aa362_L', 'aa363_L', 'aa364_L', 'aa365_L', 'aa366_L', 'aa367_L', 'aa368_L', 'aa369_L', 'aa370_L', 'aa371_L', 'aa372_L', 'aa373_L', 'aa374_L', 'aa375_L', 'aa376_L', 'aa377_L', 'aa378_L', 'aa379_L', 'aa380_L', 'aa381_L', 'aa382_L', 'aa383_L', 'aa384_L', 'aa385_L', 'aa386_L', 'aa387_L', 'aa388_L', 'aa389_L', 'aa390_L', 'aa391_L', 'aa392_L', 'aa393_L', 'aa394_L', 'aa395_L', 'aa396_L', 'aa397_L', 'aa398_L', 'aa399_L', 'aa400_L', 'aa401_L', 'aa402_L', 'aa403_L', 'aa404_L', 'aa405_L', 'aa406_L', 'aa407_L', 'aa408_L', 'aa409_L', 'aa410_L', 'aa411_L', 'aa412_L', 'aa413_L', 'aa414_L', 'aa415_L', 'aa416_L', 'aa417_L', 'aa418_L', 'aa419_L', 'aa420_L', 'aa421_L', 'aa422_L', 'aa423_L', 'aa424_L', 'aa425_L', 'aa426_L', 'aa427_L', 'aa428_L', 'aa429_L', 'aa430_L', 'aa431_L', 'aa432_L', 'aa433_L', 'aa434_L', 'aa435_L', 'aa436_L', 'aa437_L', 'aa438_L', 'aa439_L', 'aa440_L', 'aa441_L', 'aa442_L', 'aa443_L', 'aa444_L', 'aa445_L', 'aa446_L', 'aa447_L', 'aa448_L', 'aa449_L', 'aa450_L', 'aa451_L', 'aa452_L', 'aa453_L', 'aa454_L', 'aa455_L', 'aa456_L', 'aa457_L', 'aa458_L', 'aa459_L', 'aa460_L', 'aa461_L', 'aa462_L', 'aa463_L', 'aa464_L', 'aa465_L', 'aa466_L', 'aa467_L', 'aa468_L', 'aa469_L', 'aa470_L', 'aa471_L', 'aa472_L', 'aa473_L', 'aa474_L', 'aa475_L', 'aa476_L', 'aa477_L', 'aa478_L', 'aa479_L', 'aa480_L', 'aa481_L', 'aa482_L', 'aa483_L', 'aa484_L', 'aa485_L', 'aa486_L', 'aa487_L', 'aa488_L', 'aa489_L', 'aa490_L', 'aa491_L', 'aa492_L', 'aa493_L', 'aa494_L', 'aa495_L', 'aa496_L', 'aa497_L', 'aa498_L', 'aa499_L', 'aa500_L', 'aa501_L', 'aa502_L', 'aa503_L', 'aa504_L', 'aa505_L', 'aa506_L', 'aa507_L', 'aa508_L', 'aa509_L', 'aa510_L', 'aa511_L', 'aa512_L', 'aa513_L', 'aa514_L', 'aa515_L', 'aa516_L', 'aa517_L', 'aa518_L', 'aa519_L', 'aa520_L', 'aa521_L', 'aa522_L', 'aa523_L', 'aa524_L', 'aa525_L', 'aa526_L', 'aa527_L', 'aa528_L', 'aa529_L', 'aa530_L', 'aa531_L', 'aa532_L', 'aa533_L', 'aa534_L', 'aa535_L', 'aa536_L', 'aa537_L', 'aa538_L', 'aa539_L', 'aa540_L', 'aa542_L', 'aa544_L', 'aa545_L', 'aa546_L', 'aa547_L', 'aa548_L', 'aa549_L', 'aa550_L', 'aa551_L', 'aa552_L', 'aa553_L', 'aa555_L', 'aa556_L', 'aa557_L', 'aa559_L', 'aa561_L', 'aa562_L', 'aa564_L', 'aa565_L', 'aa567_L', 'aa568_L', 'aa569_L', 'aa570_L', 'aa573_L', 'aa574_L', 'aa584_L', 'aa588_L', 'aa590_L', 'aa596_L', 'aa604_L', 'aa629_L', 'aa2_D', 'aa3_D', 'aa4_D', 'aa5_D', 'aa6_D', 'aa7_D', 'aa8_D', 'aa9_D', 'aa10_D', 'aa11_D', 'aa12_D', 'aa13_D', 'aa14_D', 'aa15_D', 'aa16_D', 'aa17_D', 'aa18_D', 'aa19_D', 'aa20_D', 'aa21_D', 'aa22_D', 'aa23_D', 'aa24_D', 'aa25_D', 'aa26_D', 'aa27_D', 'aa28_D', 'aa29_D', 'aa30_D', 'aa31_D', 'aa32_D', 'aa33_D', 'aa34_D', 'aa35_D', 'aa36_D', 'aa37_D', 'aa38_D', 'aa39_D', 'aa40_D', 'aa41_D', 'aa42_D', 'aa43_D', 'aa44_D', 'aa45_D', 'aa46_D', 'aa47_D', 'aa48_D', 'aa49_D', 'aa50_D', 'aa51_D', 'aa52_D', 'aa53_D', 'aa54_D', 'aa55_D', 'aa56_D', 'aa57_D', 'aa58_D', 'aa59_D', 'aa60_D', 'aa61_D', 'aa62_D', 'aa63_D', 'aa64_D', 'aa65_D', 'aa66_D', 'aa67_D', 'aa68_D', 'aa69_D', 'aa70_D', 'aa71_D', 'aa72_D', 'aa73_D', 'aa74_D', 'aa75_D', 'aa76_D', 'aa77_D', 'aa78_D', 'aa79_D', 'aa80_D', 'aa81_D', 'aa82_D', 'aa83_D', 'aa84_D', 'aa85_D', 'aa86_D', 'aa87_D', 'aa88_D', 'aa89_D', 'aa90_D', 'aa91_D', 'aa92_D', 'aa93_D', 'aa94_D', 'aa95_D', 'aa96_D', 'aa97_D', 'aa98_D', 'aa99_D', 'aa100_D', 'aa101_D', 'aa102_D', 'aa103_D', 'aa104_D', 'aa105_D', 'aa106_D', 'aa107_D', 'aa108_D', 'aa109_D', 'aa110_D', 'aa111_D', 'aa112_D', 'aa113_D', 'aa114_D', 'aa115_D', 'aa116_D', 'aa117_D', 'aa118_D', 'aa119_D', 'aa120_D', 'aa121_D', 'aa122_D', 'aa123_D', 'aa124_D', 'aa125_D', 'aa126_D', 'aa127_D', 'aa128_D', 'aa129_D', 'aa130_D', 'aa131_D', 'aa132_D', 'aa133_D', 'aa134_D', 'aa135_D', 'aa136_D', 'aa137_D', 'aa138_D', 'aa139_D', 'aa140_D', 'aa141_D', 'aa142_D', 'aa143_D', 'aa144_D', 'aa145_D', 'aa146_D', 'aa147_D', 'aa148_D', 'aa149_D', 'aa150_D', 'aa151_D', 'aa152_D', 'aa153_D', 'aa154_D', 'aa155_D', 'aa156_D', 'aa157_D', 'aa158_D', 'aa159_D', 'aa160_D', 'aa161_D', 'aa162_D', 'aa163_D', 'aa164_D', 'aa165_D', 'aa166_D', 'aa167_D', 'aa168_D', 'aa169_D', 'aa170_D', 'aa171_D', 'aa172_D', 'aa173_D', 'aa174_D', 'aa175_D', 'aa176_D', 'aa177_D', 'aa178_D', 'aa179_D', 'aa180_D', 'aa181_D', 'aa182_D', 'aa183_D', 'aa184_D', 'aa185_D', 'aa186_D', 'aa187_D', 'aa188_D', 'aa189_D', 'aa190_D', 'aa191_D', 'aa192_D', 'aa193_D', 'aa194_D', 'aa195_D', 'aa196_D', 'aa197_D', 'aa198_D', 'aa199_D', 'aa200_D', 'aa201_D', 'aa202_D', 'aa203_D', 'aa204_D', 'aa205_D', 'aa206_D', 'aa207_D', 'aa208_D', 'aa209_D', 'aa210_D', 'aa211_D', 'aa212_D', 'aa213_D', 'aa214_D', 'aa215_D', 'aa216_D', 'aa217_D', 'aa218_D', 'aa219_D', 'aa220_D', 'aa221_D', 'aa222_D', 'aa223_D', 'aa224_D', 'aa225_D', 'aa226_D', 'aa227_D', 'aa228_D', 'aa229_D', 'aa230_D', 'aa231_D', 'aa232_D', 'aa233_D', 'aa234_D', 'aa235_D', 'aa236_D', 'aa237_D', 'aa238_D', 'aa239_D', 'aa240_D', 'aa241_D', 'aa242_D', 'aa243_D', 'aa244_D', 'aa245_D', 'aa246_D', 'aa247_D', 'aa248_D', 'aa249_D', 'aa250_D', 'aa251_D', 'aa252_D', 'aa253_D', 'aa254_D', 'aa255_D', 'aa256_D', 'aa257_D', 'aa258_D', 'aa259_D', 'aa260_D', 'aa261_D', 'aa262_D', 'aa263_D', 'aa264_D', 'aa265_D', 'aa266_D', 'aa267_D', 'aa268_D', 'aa269_D', 'aa270_D', 'aa271_D', 'aa272_D', 'aa273_D', 'aa274_D', 'aa275_D', 'aa276_D', 'aa277_D', 'aa278_D', 'aa279_D', 'aa280_D', 'aa281_D', 'aa282_D', 'aa283_D', 'aa284_D', 'aa285_D', 'aa286_D', 'aa287_D', 'aa288_D', 'aa289_D', 'aa290_D', 'aa291_D', 'aa292_D', 'aa293_D', 'aa294_D', 'aa295_D', 'aa296_D', 'aa297_D', 'aa298_D', 'aa299_D', 'aa300_D', 'aa301_D', 'aa302_D', 'aa303_D', 'aa304_D', 'aa305_D', 'aa306_D', 'aa307_D', 'aa308_D', 'aa309_D', 'aa310_D', 'aa311_D', 'aa312_D', 'aa313_D', 'aa314_D', 'aa315_D', 'aa316_D', 'aa317_D', 'aa318_D', 'aa319_D', 'aa320_D', 'aa321_D', 'aa322_D', 'aa323_D', 'aa324_D', 'aa325_D', 'aa326_D', 'aa327_D', 'aa328_D', 'aa329_D', 'aa330_D', 'aa331_D', 'aa332_D', 'aa333_D', 'aa334_D', 'aa335_D', 'aa336_D', 'aa337_D', 'aa338_D', 'aa339_D', 'aa340_D', 'aa341_D', 'aa342_D', 'aa343_D', 'aa344_D', 'aa345_D', 'aa346_D', 'aa347_D', 'aa348_D', 'aa349_D', 'aa350_D', 'aa351_D', 'aa352_D', 'aa353_D', 'aa354_D', 'aa355_D', 'aa356_D', 'aa357_D', 'aa358_D', 'aa359_D', 'aa360_D', 'aa361_D', 'aa362_D', 'aa363_D', 'aa364_D', 'aa365_D', 'aa366_D', 'aa367_D', 'aa368_D', 'aa369_D', 'aa370_D', 'aa371_D', 'aa372_D', 'aa373_D', 'aa374_D', 'aa375_D', 'aa376_D', 'aa377_D', 'aa378_D', 'aa379_D', 'aa380_D', 'aa381_D', 'aa382_D', 'aa383_D', 'aa384_D', 'aa385_D', 'aa386_D', 'aa387_D', 'aa388_D', 'aa389_D', 'aa390_D', 'aa391_D', 'aa392_D', 'aa393_D', 'aa394_D', 'aa395_D', 'aa396_D', 'aa397_D', 'aa398_D', 'aa399_D', 'aa400_D', 'aa401_D', 'aa402_D', 'aa403_D', 'aa404_D', 'aa405_D', 'aa406_D', 'aa407_D', 'aa408_D', 'aa409_D', 'aa410_D', 'aa411_D', 'aa412_D', 'aa413_D', 'aa414_D', 'aa415_D', 'aa416_D', 'aa417_D', 'aa418_D', 'aa419_D', 'aa420_D', 'aa421_D', 'aa422_D', 'aa423_D', 'aa424_D', 'aa425_D', 'aa426_D', 'aa427_D', 'aa428_D', 'aa429_D', 'aa430_D', 'aa431_D', 'aa432_D', 'aa433_D', 'aa434_D', 'aa435_D', 'aa436_D', 'aa437_D', 'aa438_D', 'aa439_D', 'aa440_D', 'aa441_D', 'aa442_D', 'aa443_D', 'aa444_D', 'aa445_D', 'aa446_D', 'aa447_D', 'aa448_D', 'aa449_D', 'aa450_D', 'aa451_D', 'aa452_D', 'aa453_D', 'aa454_D', 'aa455_D', 'aa456_D', 'aa457_D', 'aa458_D', 'aa459_D', 'aa460_D', 'aa461_D', 'aa462_D', 'aa463_D', 'aa464_D', 'aa465_D', 'aa466_D', 'aa467_D', 'aa468_D', 'aa469_D', 'aa470_D', 'aa471_D', 'aa472_D', 'aa473_D', 'aa474_D', 'aa475_D', 'aa476_D', 'aa477_D', 'aa478_D', 'aa479_D', 'aa481_D', 'aa482_D', 'aa483_D', 'aa484_D', 'aa485_D', 'aa486_D', 'aa487_D', 'aa488_D', 'aa489_D', 'aa490_D', 'aa491_D', 'aa492_D', 'aa493_D', 'aa494_D', 'aa495_D', 'aa496_D', 'aa497_D', 'aa498_D', 'aa499_D', 'aa500_D', 'aa501_D', 'aa502_D', 'aa503_D', 'aa504_D', 'aa505_D', 'aa506_D', 'aa507_D', 'aa508_D', 'aa509_D', 'aa510_D', 'aa511_D', 'aa512_D', 'aa513_D', 'aa514_D', 'aa516_D', 'aa517_D', 'aa518_D', 'aa519_D', 'aa520_D', 'aa521_D', 'aa522_D', 'aa523_D', 'aa524_D', 'aa525_D', 'aa526_D', 'aa528_D', 'aa530_D', 'aa532_D', 'aa533_D', 'aa536_D', 'aa537_D', 'aa538_D', 'aa539_D', 'aa540_D', 'aa542_D', 'aa543_D', 'aa544_D', 'aa546_D', 'aa548_D', 'aa549_D', 'aa553_D', 'aa554_D', 'aa555_D', 'aa556_D', 'aa557_D', 'aa562_D', 'aa563_D', 'aa575_D', 'aa576_D', 'aa661_D', 'aa1_G', 'aa2_G', 'aa3_G', 'aa4_G', 'aa5_G', 'aa6_G', 'aa7_G', 'aa8_G', 'aa9_G', 'aa10_G', 'aa11_G', 'aa12_G', 'aa13_G', 'aa14_G', 'aa15_G', 'aa16_G', 'aa17_G', 'aa18_G', 'aa19_G', 'aa20_G', 'aa21_G', 'aa22_G', 'aa23_G', 'aa24_G', 'aa25_G', 'aa26_G', 'aa27_G', 'aa28_G', 'aa29_G', 'aa30_G', 'aa31_G', 'aa32_G', 'aa33_G', 'aa34_G', 'aa35_G', 'aa36_G', 'aa37_G', 'aa38_G', 'aa39_G', 'aa40_G', 'aa41_G', 'aa42_G', 'aa43_G', 'aa44_G', 'aa45_G', 'aa46_G', 'aa47_G', 'aa48_G', 'aa49_G', 'aa50_G', 'aa51_G', 'aa52_G', 'aa53_G', 'aa54_G', 'aa55_G', 'aa56_G', 'aa57_G', 'aa58_G', 'aa59_G', 'aa60_G', 'aa61_G', 'aa62_G', 'aa63_G', 'aa64_G', 'aa65_G', 'aa66_G', 'aa67_G', 'aa68_G', 'aa69_G', 'aa70_G', 'aa71_G', 'aa72_G', 'aa73_G', 'aa74_G', 'aa75_G', 'aa76_G', 'aa77_G', 'aa78_G', 'aa79_G', 'aa80_G', 'aa81_G', 'aa82_G', 'aa83_G', 'aa84_G', 'aa85_G', 'aa86_G', 'aa87_G', 'aa88_G', 'aa89_G', 'aa90_G', 'aa91_G', 'aa92_G', 'aa93_G', 'aa94_G', 'aa95_G', 'aa96_G', 'aa97_G', 'aa98_G', 'aa99_G', 'aa100_G', 'aa101_G', 'aa102_G', 'aa103_G', 'aa104_G', 'aa105_G', 'aa106_G', 'aa107_G', 'aa108_G', 'aa109_G', 'aa110_G', 'aa111_G', 'aa112_G', 'aa113_G', 'aa114_G', 'aa115_G', 'aa116_G', 'aa117_G', 'aa118_G', 'aa119_G', 'aa120_G', 'aa121_G', 'aa122_G', 'aa123_G', 'aa124_G', 'aa125_G', 'aa126_G', 'aa127_G', 'aa128_G', 'aa129_G', 'aa130_G', 'aa131_G', 'aa132_G', 'aa133_G', 'aa134_G', 'aa135_G', 'aa136_G', 'aa137_G', 'aa138_G', 'aa139_G', 'aa140_G', 'aa141_G', 'aa142_G', 'aa143_G', 'aa144_G', 'aa145_G', 'aa146_G', 'aa147_G', 'aa148_G', 'aa149_G', 'aa150_G', 'aa151_G', 'aa152_G', 'aa153_G', 'aa154_G', 'aa155_G', 'aa156_G', 'aa157_G', 'aa158_G', 'aa159_G', 'aa160_G', 'aa161_G', 'aa162_G', 'aa163_G', 'aa164_G', 'aa165_G', 'aa166_G', 'aa167_G', 'aa168_G', 'aa169_G', 'aa170_G', 'aa171_G', 'aa172_G', 'aa173_G', 'aa174_G', 'aa175_G', 'aa176_G', 'aa177_G', 'aa178_G', 'aa179_G', 'aa180_G', 'aa181_G', 'aa182_G', 'aa183_G', 'aa184_G', 'aa185_G', 'aa186_G', 'aa187_G', 'aa188_G', 'aa189_G', 'aa190_G', 'aa191_G', 'aa192_G', 'aa193_G', 'aa194_G', 'aa195_G', 'aa196_G', 'aa197_G', 'aa198_G', 'aa199_G', 'aa200_G', 'aa201_G', 'aa202_G', 'aa203_G', 'aa204_G', 'aa205_G', 'aa206_G', 'aa207_G', 'aa208_G', 'aa209_G', 'aa210_G', 'aa211_G', 'aa212_G', 'aa213_G', 'aa214_G', 'aa215_G', 'aa216_G', 'aa217_G', 'aa218_G', 'aa219_G', 'aa220_G', 'aa221_G', 'aa222_G', 'aa223_G', 'aa224_G', 'aa225_G', 'aa226_G', 'aa227_G', 'aa228_G', 'aa229_G', 'aa230_G', 'aa231_G', 'aa232_G', 'aa233_G', 'aa234_G', 'aa235_G', 'aa236_G', 'aa237_G', 'aa238_G', 'aa239_G', 'aa240_G', 'aa241_G', 'aa242_G', 'aa243_G', 'aa244_G', 'aa245_G', 'aa246_G', 'aa247_G', 'aa248_G', 'aa249_G', 'aa250_G', 'aa251_G', 'aa252_G', 'aa253_G', 'aa254_G', 'aa255_G', 'aa256_G', 'aa257_G', 'aa258_G', 'aa259_G', 'aa260_G', 'aa261_G', 'aa262_G', 'aa263_G', 'aa264_G', 'aa265_G', 'aa266_G', 'aa267_G', 'aa268_G', 'aa269_G', 'aa270_G', 'aa271_G', 'aa272_G', 'aa273_G', 'aa274_G', 'aa275_G', 'aa276_G', 'aa277_G', 'aa278_G', 'aa279_G', 'aa280_G', 'aa281_G', 'aa282_G', 'aa283_G', 'aa284_G', 'aa285_G', 'aa286_G', 'aa287_G', 'aa288_G', 'aa289_G', 'aa290_G', 'aa291_G', 'aa292_G', 'aa293_G', 'aa294_G', 'aa295_G', 'aa296_G', 'aa297_G', 'aa298_G', 'aa299_G', 'aa300_G', 'aa301_G', 'aa302_G', 'aa303_G', 'aa304_G', 'aa305_G', 'aa306_G', 'aa307_G', 'aa308_G', 'aa309_G', 'aa310_G', 'aa311_G', 'aa312_G', 'aa313_G', 'aa314_G', 'aa315_G', 'aa316_G', 'aa317_G', 'aa318_G', 'aa319_G', 'aa320_G', 'aa321_G', 'aa322_G', 'aa323_G', 'aa324_G', 'aa325_G', 'aa326_G', 'aa327_G', 'aa328_G', 'aa329_G', 'aa330_G', 'aa331_G', 'aa332_G', 'aa333_G', 'aa334_G', 'aa335_G', 'aa336_G', 'aa337_G', 'aa338_G', 'aa339_G', 'aa340_G', 'aa341_G', 'aa342_G', 'aa343_G', 'aa344_G', 'aa345_G', 'aa346_G', 'aa347_G', 'aa348_G', 'aa349_G', 'aa350_G', 'aa351_G', 'aa352_G', 'aa353_G', 'aa354_G', 'aa355_G', 'aa356_G', 'aa357_G', 'aa358_G', 'aa359_G', 'aa360_G', 'aa361_G', 'aa362_G', 'aa363_G', 'aa364_G', 'aa365_G', 'aa366_G', 'aa367_G', 'aa368_G', 'aa369_G', 'aa370_G', 'aa371_G', 'aa372_G', 'aa373_G', 'aa374_G', 'aa375_G', 'aa376_G', 'aa377_G', 'aa378_G', 'aa379_G', 'aa380_G', 'aa381_G', 'aa382_G', 'aa383_G', 'aa384_G', 'aa385_G', 'aa386_G', 'aa387_G', 'aa388_G', 'aa389_G', 'aa390_G', 'aa391_G', 'aa392_G', 'aa393_G', 'aa394_G', 'aa395_G', 'aa396_G', 'aa397_G', 'aa398_G', 'aa399_G', 'aa400_G', 'aa401_G', 'aa402_G', 'aa403_G', 'aa404_G', 'aa405_G', 'aa406_G', 'aa407_G', 'aa408_G', 'aa409_G', 'aa410_G', 'aa411_G', 'aa412_G', 'aa413_G', 'aa414_G', 'aa415_G', 'aa416_G', 'aa417_G', 'aa418_G', 'aa419_G', 'aa420_G', 'aa421_G', 'aa422_G', 'aa423_G', 'aa424_G', 'aa425_G', 'aa426_G', 'aa427_G', 'aa428_G', 'aa429_G', 'aa430_G', 'aa431_G', 'aa432_G', 'aa433_G', 'aa434_G', 'aa435_G', 'aa436_G', 'aa437_G', 'aa438_G', 'aa439_G', 'aa440_G', 'aa441_G', 'aa442_G', 'aa443_G', 'aa444_G', 'aa445_G', 'aa446_G', 'aa447_G', 'aa448_G', 'aa449_G', 'aa450_G', 'aa451_G', 'aa452_G', 'aa453_G', 'aa454_G', 'aa455_G', 'aa456_G', 'aa457_G', 'aa458_G', 'aa459_G', 'aa460_G', 'aa461_G', 'aa462_G', 'aa463_G', 'aa464_G', 'aa465_G', 'aa466_G', 'aa467_G', 'aa468_G', 'aa469_G', 'aa470_G', 'aa471_G', 'aa472_G', 'aa473_G', 'aa474_G', 'aa475_G', 'aa476_G', 'aa477_G', 'aa478_G', 'aa479_G', 'aa480_G', 'aa481_G', 'aa482_G', 'aa483_G', 'aa484_G', 'aa485_G', 'aa486_G', 'aa487_G', 'aa488_G', 'aa489_G', 'aa490_G', 'aa491_G', 'aa492_G', 'aa493_G', 'aa494_G', 'aa495_G', 'aa496_G', 'aa497_G', 'aa498_G', 'aa499_G', 'aa500_G', 'aa501_G', 'aa502_G', 'aa503_G', 'aa504_G', 'aa505_G', 'aa506_G', 'aa507_G', 'aa508_G', 'aa509_G', 'aa510_G', 'aa511_G', 'aa512_G', 'aa513_G', 'aa514_G', 'aa515_G', 'aa516_G', 'aa517_G', 'aa519_G', 'aa520_G', 'aa521_G', 'aa522_G', 'aa523_G', 'aa524_G', 'aa525_G', 'aa526_G', 'aa527_G', 'aa528_G', 'aa529_G', 'aa530_G', 'aa531_G', 'aa532_G', 'aa533_G', 'aa534_G', 'aa535_G', 'aa536_G', 'aa537_G', 'aa538_G', 'aa539_G', 'aa541_G', 'aa542_G', 'aa543_G', 'aa544_G', 'aa546_G', 'aa547_G', 'aa548_G', 'aa549_G', 'aa550_G', 'aa551_G', 'aa552_G', 'aa553_G', 'aa554_G', 'aa555_G', 'aa556_G', 'aa557_G', 'aa558_G', 'aa559_G', 'aa564_G', 'aa566_G', 'aa567_G', 'aa570_G', 'aa571_G', 'aa572_G', 'aa574_G', 'aa576_G', 'aa581_G', 'aa582_G', 'aa592_G', 'aa608_G', 'aa610_G', 'aa612_G', 'aa2_E', 'aa3_E', 'aa4_E', 'aa5_E', 'aa6_E', 'aa7_E', 'aa8_E', 'aa9_E', 'aa10_E', 'aa11_E', 'aa12_E', 'aa13_E', 'aa14_E', 'aa15_E', 'aa16_E', 'aa17_E', 'aa18_E', 'aa19_E', 'aa20_E', 'aa21_E', 'aa22_E', 'aa23_E', 'aa24_E', 'aa25_E', 'aa26_E', 'aa27_E', 'aa28_E', 'aa29_E', 'aa30_E', 'aa31_E', 'aa32_E', 'aa33_E', 'aa34_E', 'aa35_E', 'aa36_E', 'aa37_E', 'aa38_E', 'aa39_E', 'aa40_E', 'aa41_E', 'aa42_E', 'aa43_E', 'aa44_E', 'aa45_E', 'aa46_E', 'aa47_E', 'aa48_E', 'aa49_E', 'aa50_E', 'aa51_E', 'aa52_E', 'aa53_E', 'aa54_E', 'aa55_E', 'aa56_E', 'aa57_E', 'aa58_E', 'aa59_E', 'aa60_E', 'aa61_E', 'aa62_E', 'aa63_E', 'aa64_E', 'aa65_E', 'aa66_E', 'aa67_E', 'aa68_E', 'aa69_E', 'aa70_E', 'aa71_E', 'aa72_E', 'aa73_E', 'aa74_E', 'aa75_E', 'aa76_E', 'aa77_E', 'aa78_E', 'aa79_E', 'aa80_E', 'aa81_E', 'aa82_E', 'aa83_E', 'aa84_E', 'aa85_E', 'aa86_E', 'aa87_E', 'aa88_E', 'aa89_E', 'aa90_E', 'aa91_E', 'aa92_E', 'aa93_E', 'aa94_E', 'aa95_E', 'aa96_E', 'aa97_E', 'aa98_E', 'aa99_E', 'aa100_E', 'aa101_E', 'aa102_E', 'aa103_E', 'aa104_E', 'aa105_E', 'aa106_E', 'aa107_E', 'aa108_E', 'aa109_E', 'aa110_E', 'aa111_E', 'aa112_E', 'aa113_E', 'aa114_E', 'aa115_E', 'aa116_E', 'aa117_E', 'aa118_E', 'aa119_E', 'aa120_E', 'aa121_E', 'aa122_E', 'aa123_E', 'aa124_E', 'aa125_E', 'aa126_E', 'aa127_E', 'aa128_E', 'aa129_E', 'aa130_E', 'aa131_E', 'aa132_E', 'aa133_E', 'aa134_E', 'aa135_E', 'aa136_E', 'aa137_E', 'aa138_E', 'aa139_E', 'aa140_E', 'aa141_E', 'aa142_E', 'aa143_E', 'aa144_E', 'aa145_E', 'aa146_E', 'aa147_E', 'aa148_E', 'aa149_E', 'aa150_E', 'aa151_E', 'aa152_E', 'aa153_E', 'aa154_E', 'aa155_E', 'aa156_E', 'aa157_E', 'aa158_E', 'aa159_E', 'aa160_E', 'aa161_E', 'aa162_E', 'aa163_E', 'aa164_E', 'aa165_E', 'aa166_E', 'aa167_E', 'aa168_E', 'aa169_E', 'aa170_E', 'aa171_E', 'aa172_E', 'aa173_E', 'aa174_E', 'aa175_E', 'aa176_E', 'aa177_E', 'aa178_E', 'aa179_E', 'aa180_E', 'aa181_E', 'aa182_E', 'aa183_E', 'aa184_E', 'aa185_E', 'aa186_E', 'aa187_E', 'aa188_E', 'aa189_E', 'aa190_E', 'aa191_E', 'aa192_E', 'aa193_E', 'aa194_E', 'aa195_E', 'aa196_E', 'aa197_E', 'aa198_E', 'aa199_E', 'aa200_E', 'aa201_E', 'aa202_E', 'aa203_E', 'aa204_E', 'aa205_E', 'aa206_E', 'aa207_E', 'aa208_E', 'aa209_E', 'aa210_E', 'aa211_E', 'aa212_E', 'aa213_E', 'aa214_E', 'aa215_E', 'aa216_E', 'aa217_E', 'aa218_E', 'aa219_E', 'aa220_E', 'aa221_E', 'aa222_E', 'aa223_E', 'aa224_E', 'aa225_E', 'aa226_E', 'aa227_E', 'aa228_E', 'aa229_E', 'aa230_E', 'aa231_E', 'aa232_E', 'aa233_E', 'aa234_E', 'aa235_E', 'aa236_E', 'aa237_E', 'aa238_E', 'aa239_E', 'aa240_E', 'aa241_E', 'aa242_E', 'aa243_E', 'aa244_E', 'aa245_E', 'aa246_E', 'aa247_E', 'aa248_E', 'aa249_E', 'aa250_E', 'aa251_E', 'aa252_E', 'aa253_E', 'aa254_E', 'aa255_E', 'aa256_E', 'aa257_E', 'aa258_E', 'aa259_E', 'aa260_E', 'aa261_E', 'aa262_E', 'aa263_E', 'aa264_E', 'aa265_E', 'aa266_E', 'aa267_E', 'aa268_E', 'aa269_E', 'aa270_E', 'aa271_E', 'aa272_E', 'aa273_E', 'aa274_E', 'aa275_E', 'aa276_E', 'aa277_E', 'aa278_E', 'aa279_E', 'aa280_E', 'aa281_E', 'aa282_E', 'aa283_E', 'aa284_E', 'aa285_E', 'aa286_E', 'aa287_E', 'aa288_E', 'aa289_E', 'aa290_E', 'aa291_E', 'aa292_E', 'aa293_E', 'aa294_E', 'aa295_E', 'aa296_E', 'aa297_E', 'aa298_E', 'aa299_E', 'aa300_E', 'aa301_E', 'aa302_E', 'aa303_E', 'aa304_E', 'aa305_E', 'aa306_E', 'aa307_E', 'aa308_E', 'aa309_E', 'aa310_E', 'aa311_E', 'aa312_E', 'aa313_E', 'aa314_E', 'aa315_E', 'aa316_E', 'aa317_E', 'aa318_E', 'aa319_E', 'aa320_E', 'aa321_E', 'aa322_E', 'aa323_E', 'aa324_E', 'aa325_E', 'aa326_E', 'aa327_E', 'aa328_E', 'aa329_E', 'aa330_E', 'aa331_E', 'aa332_E', 'aa333_E', 'aa334_E', 'aa335_E', 'aa336_E', 'aa337_E', 'aa338_E', 'aa339_E', 'aa340_E', 'aa341_E', 'aa342_E', 'aa343_E', 'aa344_E', 'aa345_E', 'aa346_E', 'aa347_E', 'aa348_E', 'aa349_E', 'aa350_E', 'aa351_E', 'aa352_E', 'aa353_E', 'aa354_E', 'aa355_E', 'aa356_E', 'aa357_E', 'aa358_E', 'aa359_E', 'aa360_E', 'aa361_E', 'aa362_E', 'aa363_E', 'aa364_E', 'aa365_E', 'aa366_E', 'aa367_E', 'aa368_E', 'aa369_E', 'aa370_E', 'aa371_E', 'aa372_E', 'aa373_E', 'aa374_E', 'aa375_E', 'aa376_E', 'aa377_E', 'aa378_E', 'aa379_E', 'aa380_E', 'aa381_E', 'aa382_E', 'aa383_E', 'aa384_E', 'aa385_E', 'aa386_E', 'aa387_E', 'aa388_E', 'aa389_E', 'aa390_E', 'aa391_E', 'aa392_E', 'aa393_E', 'aa394_E', 'aa395_E', 'aa396_E', 'aa397_E', 'aa398_E', 'aa399_E', 'aa400_E', 'aa401_E', 'aa402_E', 'aa403_E', 'aa404_E', 'aa405_E', 'aa406_E', 'aa407_E', 'aa408_E', 'aa409_E', 'aa410_E', 'aa411_E', 'aa412_E', 'aa413_E', 'aa414_E', 'aa415_E', 'aa416_E', 'aa417_E', 'aa418_E', 'aa419_E', 'aa420_E', 'aa421_E', 'aa422_E', 'aa423_E', 'aa424_E', 'aa425_E', 'aa426_E', 'aa427_E', 'aa428_E', 'aa429_E', 'aa430_E', 'aa431_E', 'aa432_E', 'aa433_E', 'aa434_E', 'aa435_E', 'aa436_E', 'aa437_E', 'aa438_E', 'aa439_E', 'aa440_E', 'aa441_E', 'aa442_E', 'aa443_E', 'aa444_E', 'aa445_E', 'aa446_E', 'aa447_E', 'aa448_E', 'aa449_E', 'aa450_E', 'aa451_E', 'aa452_E', 'aa453_E', 'aa454_E', 'aa455_E', 'aa456_E', 'aa457_E', 'aa458_E', 'aa459_E', 'aa460_E', 'aa461_E', 'aa462_E', 'aa463_E', 'aa464_E', 'aa465_E', 'aa466_E', 'aa467_E', 'aa468_E', 'aa469_E', 'aa470_E', 'aa471_E', 'aa472_E', 'aa473_E', 'aa474_E', 'aa475_E', 'aa476_E', 'aa477_E', 'aa478_E', 'aa479_E', 'aa480_E', 'aa481_E', 'aa482_E', 'aa483_E', 'aa484_E', 'aa485_E', 'aa486_E', 'aa487_E', 'aa488_E', 'aa489_E', 'aa490_E', 'aa491_E', 'aa492_E', 'aa493_E', 'aa494_E', 'aa495_E', 'aa496_E', 'aa497_E', 'aa498_E', 'aa499_E', 'aa500_E', 'aa501_E', 'aa502_E', 'aa503_E', 'aa504_E', 'aa505_E', 'aa506_E', 'aa507_E', 'aa508_E', 'aa509_E', 'aa510_E', 'aa511_E', 'aa512_E', 'aa513_E', 'aa514_E', 'aa515_E', 'aa516_E', 'aa517_E', 'aa518_E', 'aa519_E', 'aa520_E', 'aa521_E', 'aa522_E', 'aa523_E', 'aa524_E', 'aa525_E', 'aa526_E', 'aa527_E', 'aa528_E', 'aa529_E', 'aa530_E', 'aa531_E', 'aa532_E', 'aa533_E', 'aa534_E', 'aa536_E', 'aa538_E', 'aa539_E', 'aa540_E', 'aa541_E', 'aa544_E', 'aa545_E', 'aa546_E', 'aa547_E', 'aa548_E', 'aa551_E', 'aa552_E', 'aa554_E', 'aa556_E', 'aa557_E', 'aa560_E', 'aa561_E', 'aa568_E', 'aa572_E', 'aa579_E', 'aa582_E', 'aa587_E', 'aa2_Q', 'aa3_Q', 'aa4_Q', 'aa5_Q', 'aa6_Q', 'aa7_Q', 'aa8_Q', 'aa9_Q', 'aa10_Q', 'aa11_Q', 'aa12_Q', 'aa13_Q', 'aa14_Q', 'aa15_Q', 'aa16_Q', 'aa17_Q', 'aa18_Q', 'aa19_Q', 'aa20_Q', 'aa21_Q', 'aa22_Q', 'aa23_Q', 'aa24_Q', 'aa25_Q', 'aa26_Q', 'aa27_Q', 'aa28_Q', 'aa29_Q', 'aa30_Q', 'aa31_Q', 'aa32_Q', 'aa33_Q', 'aa34_Q', 'aa35_Q', 'aa36_Q', 'aa37_Q', 'aa38_Q', 'aa39_Q', 'aa40_Q', 'aa41_Q', 'aa42_Q', 'aa43_Q', 'aa44_Q', 'aa45_Q', 'aa46_Q', 'aa47_Q', 'aa48_Q', 'aa49_Q', 'aa50_Q', 'aa51_Q', 'aa52_Q', 'aa53_Q', 'aa54_Q', 'aa55_Q', 'aa56_Q', 'aa57_Q', 'aa58_Q', 'aa59_Q', 'aa60_Q', 'aa61_Q', 'aa62_Q', 'aa63_Q', 'aa64_Q', 'aa65_Q', 'aa66_Q', 'aa67_Q', 'aa68_Q', 'aa69_Q', 'aa70_Q', 'aa71_Q', 'aa72_Q', 'aa73_Q', 'aa74_Q', 'aa75_Q', 'aa76_Q', 'aa77_Q', 'aa78_Q', 'aa79_Q', 'aa80_Q', 'aa81_Q', 'aa82_Q', 'aa83_Q', 'aa84_Q', 'aa85_Q', 'aa86_Q', 'aa87_Q', 'aa88_Q', 'aa89_Q', 'aa90_Q', 'aa91_Q', 'aa92_Q', 'aa93_Q', 'aa94_Q', 'aa95_Q', 'aa96_Q', 'aa97_Q', 'aa98_Q', 'aa99_Q', 'aa100_Q', 'aa101_Q', 'aa102_Q', 'aa103_Q', 'aa104_Q', 'aa105_Q', 'aa106_Q', 'aa107_Q', 'aa108_Q', 'aa109_Q', 'aa110_Q', 'aa111_Q', 'aa112_Q', 'aa113_Q', 'aa114_Q', 'aa115_Q', 'aa116_Q', 'aa117_Q', 'aa118_Q', 'aa119_Q', 'aa120_Q', 'aa121_Q', 'aa122_Q', 'aa123_Q', 'aa124_Q', 'aa125_Q', 'aa126_Q', 'aa127_Q', 'aa128_Q', 'aa129_Q', 'aa130_Q', 'aa131_Q', 'aa132_Q', 'aa133_Q', 'aa134_Q', 'aa135_Q', 'aa136_Q', 'aa137_Q', 'aa138_Q', 'aa139_Q', 'aa140_Q', 'aa141_Q', 'aa142_Q', 'aa143_Q', 'aa144_Q', 'aa145_Q', 'aa146_Q', 'aa147_Q', 'aa148_Q', 'aa149_Q', 'aa150_Q', 'aa151_Q', 'aa152_Q', 'aa153_Q', 'aa154_Q', 'aa155_Q', 'aa156_Q', 'aa157_Q', 'aa158_Q', 'aa159_Q', 'aa160_Q', 'aa161_Q', 'aa162_Q', 'aa163_Q', 'aa164_Q', 'aa165_Q', 'aa166_Q', 'aa167_Q', 'aa168_Q', 'aa169_Q', 'aa170_Q', 'aa171_Q', 'aa172_Q', 'aa173_Q', 'aa174_Q', 'aa175_Q', 'aa176_Q', 'aa177_Q', 'aa178_Q', 'aa179_Q', 'aa180_Q', 'aa181_Q', 'aa182_Q', 'aa183_Q', 'aa184_Q', 'aa185_Q', 'aa186_Q', 'aa187_Q', 'aa188_Q', 'aa189_Q', 'aa190_Q', 'aa191_Q', 'aa192_Q', 'aa193_Q', 'aa194_Q', 'aa195_Q', 'aa196_Q', 'aa197_Q', 'aa198_Q', 'aa199_Q', 'aa200_Q', 'aa201_Q', 'aa202_Q', 'aa203_Q', 'aa204_Q', 'aa205_Q', 'aa206_Q', 'aa207_Q', 'aa208_Q', 'aa209_Q', 'aa210_Q', 'aa211_Q', 'aa212_Q', 'aa213_Q', 'aa214_Q', 'aa215_Q', 'aa216_Q', 'aa217_Q', 'aa218_Q', 'aa219_Q', 'aa220_Q', 'aa221_Q', 'aa222_Q', 'aa223_Q', 'aa224_Q', 'aa225_Q', 'aa226_Q', 'aa227_Q', 'aa228_Q', 'aa229_Q', 'aa230_Q', 'aa231_Q', 'aa232_Q', 'aa233_Q', 'aa234_Q', 'aa235_Q', 'aa236_Q', 'aa237_Q', 'aa238_Q', 'aa239_Q', 'aa240_Q', 'aa241_Q', 'aa242_Q', 'aa243_Q', 'aa244_Q', 'aa245_Q', 'aa246_Q', 'aa247_Q', 'aa248_Q', 'aa249_Q', 'aa250_Q', 'aa251_Q', 'aa252_Q', 'aa253_Q', 'aa254_Q', 'aa255_Q', 'aa256_Q', 'aa257_Q', 'aa258_Q', 'aa259_Q', 'aa260_Q', 'aa261_Q', 'aa262_Q', 'aa263_Q', 'aa264_Q', 'aa265_Q', 'aa266_Q', 'aa267_Q', 'aa268_Q', 'aa269_Q', 'aa270_Q', 'aa271_Q', 'aa272_Q', 'aa273_Q', 'aa274_Q', 'aa275_Q', 'aa276_Q', 'aa277_Q', 'aa278_Q', 'aa279_Q', 'aa280_Q', 'aa281_Q', 'aa282_Q', 'aa283_Q', 'aa284_Q', 'aa285_Q', 'aa286_Q', 'aa287_Q', 'aa288_Q', 'aa289_Q', 'aa290_Q', 'aa291_Q', 'aa292_Q', 'aa293_Q', 'aa294_Q', 'aa295_Q', 'aa296_Q', 'aa297_Q', 'aa298_Q', 'aa299_Q', 'aa300_Q', 'aa301_Q', 'aa302_Q', 'aa303_Q', 'aa304_Q', 'aa305_Q', 'aa306_Q', 'aa307_Q', 'aa308_Q', 'aa309_Q', 'aa310_Q', 'aa311_Q', 'aa312_Q', 'aa313_Q', 'aa314_Q', 'aa315_Q', 'aa316_Q', 'aa317_Q', 'aa318_Q', 'aa319_Q', 'aa320_Q', 'aa321_Q', 'aa322_Q', 'aa323_Q', 'aa324_Q', 'aa325_Q', 'aa326_Q', 'aa327_Q', 'aa328_Q', 'aa329_Q', 'aa330_Q', 'aa331_Q', 'aa332_Q', 'aa333_Q', 'aa334_Q', 'aa335_Q', 'aa336_Q', 'aa337_Q', 'aa338_Q', 'aa339_Q', 'aa340_Q', 'aa341_Q', 'aa342_Q', 'aa343_Q', 'aa344_Q', 'aa345_Q', 'aa346_Q', 'aa347_Q', 'aa348_Q', 'aa349_Q', 'aa350_Q', 'aa351_Q', 'aa352_Q', 'aa353_Q', 'aa354_Q', 'aa355_Q', 'aa356_Q', 'aa357_Q', 'aa358_Q', 'aa359_Q', 'aa360_Q', 'aa361_Q', 'aa362_Q', 'aa363_Q', 'aa364_Q', 'aa365_Q', 'aa366_Q', 'aa367_Q', 'aa368_Q', 'aa369_Q', 'aa370_Q', 'aa371_Q', 'aa372_Q', 'aa373_Q', 'aa374_Q', 'aa375_Q', 'aa376_Q', 'aa377_Q', 'aa378_Q', 'aa379_Q', 'aa380_Q', 'aa381_Q', 'aa382_Q', 'aa383_Q', 'aa384_Q', 'aa385_Q', 'aa386_Q', 'aa387_Q', 'aa388_Q', 'aa389_Q', 'aa390_Q', 'aa391_Q', 'aa392_Q', 'aa393_Q', 'aa394_Q', 'aa395_Q', 'aa396_Q', 'aa397_Q', 'aa398_Q', 'aa399_Q', 'aa400_Q', 'aa401_Q', 'aa402_Q', 'aa403_Q', 'aa404_Q', 'aa405_Q', 'aa406_Q', 'aa407_Q', 'aa408_Q', 'aa409_Q', 'aa410_Q', 'aa411_Q', 'aa412_Q', 'aa413_Q', 'aa414_Q', 'aa415_Q', 'aa416_Q', 'aa417_Q', 'aa418_Q', 'aa419_Q', 'aa420_Q', 'aa421_Q', 'aa422_Q', 'aa423_Q', 'aa424_Q', 'aa425_Q', 'aa426_Q', 'aa427_Q', 'aa428_Q', 'aa429_Q', 'aa430_Q', 'aa431_Q', 'aa432_Q', 'aa433_Q', 'aa434_Q', 'aa435_Q', 'aa436_Q', 'aa437_Q', 'aa438_Q', 'aa439_Q', 'aa440_Q', 'aa441_Q', 'aa442_Q', 'aa443_Q', 'aa444_Q', 'aa445_Q', 'aa446_Q', 'aa447_Q', 'aa448_Q', 'aa449_Q', 'aa450_Q', 'aa451_Q', 'aa452_Q', 'aa453_Q', 'aa454_Q', 'aa455_Q', 'aa456_Q', 'aa457_Q', 'aa458_Q', 'aa459_Q', 'aa460_Q', 'aa461_Q', 'aa462_Q', 'aa463_Q', 'aa464_Q', 'aa465_Q', 'aa466_Q', 'aa467_Q', 'aa468_Q', 'aa469_Q', 'aa470_Q', 'aa471_Q', 'aa473_Q', 'aa474_Q', 'aa475_Q', 'aa476_Q', 'aa479_Q', 'aa480_Q', 'aa481_Q', 'aa482_Q', 'aa483_Q', 'aa484_Q', 'aa485_Q', 'aa486_Q', 'aa487_Q', 'aa488_Q', 'aa490_Q', 'aa491_Q', 'aa492_Q', 'aa493_Q', 'aa494_Q', 'aa496_Q', 'aa498_Q', 'aa499_Q', 'aa500_Q', 'aa501_Q', 'aa503_Q', 'aa504_Q', 'aa505_Q', 'aa506_Q', 'aa507_Q', 'aa512_Q', 'aa515_Q', 'aa517_Q', 'aa520_Q', 'aa522_Q', 'aa523_Q', 'aa525_Q', 'aa526_Q', 'aa527_Q', 'aa530_Q', 'aa533_Q', 'aa536_Q', 'aa537_Q', 'aa546_Q', 'aa548_Q', 'aa549_Q', 'aa550_Q', 'aa551_Q', 'aa554_Q', 'aa562_Q', 'aa602_Q', 'aa726_Q', 'aa1_M', 'aa2_M', 'aa3_M', 'aa4_M', 'aa5_M', 'aa6_M', 'aa7_M', 'aa8_M', 'aa9_M', 'aa10_M', 'aa11_M', 'aa12_M', 'aa13_M', 'aa14_M', 'aa15_M', 'aa16_M', 'aa17_M', 'aa18_M', 'aa19_M', 'aa20_M', 'aa21_M', 'aa22_M', 'aa23_M', 'aa24_M', 'aa25_M', 'aa26_M', 'aa27_M', 'aa28_M', 'aa29_M', 'aa30_M', 'aa31_M', 'aa32_M', 'aa33_M', 'aa34_M', 'aa35_M', 'aa36_M', 'aa37_M', 'aa38_M', 'aa39_M', 'aa40_M', 'aa41_M', 'aa42_M', 'aa43_M', 'aa44_M', 'aa45_M', 'aa46_M', 'aa47_M', 'aa48_M', 'aa49_M', 'aa50_M', 'aa51_M', 'aa52_M', 'aa53_M', 'aa54_M', 'aa55_M', 'aa56_M', 'aa57_M', 'aa58_M', 'aa59_M', 'aa60_M', 'aa61_M', 'aa62_M', 'aa63_M', 'aa64_M', 'aa65_M', 'aa66_M', 'aa67_M', 'aa68_M', 'aa69_M', 'aa70_M', 'aa71_M', 'aa72_M', 'aa73_M', 'aa74_M', 'aa75_M', 'aa76_M', 'aa77_M', 'aa78_M', 'aa79_M', 'aa80_M', 'aa81_M', 'aa82_M', 'aa83_M', 'aa84_M', 'aa85_M', 'aa86_M', 'aa87_M', 'aa88_M', 'aa89_M', 'aa90_M', 'aa91_M', 'aa92_M', 'aa93_M', 'aa94_M', 'aa95_M', 'aa96_M', 'aa97_M', 'aa98_M', 'aa99_M', 'aa100_M', 'aa101_M', 'aa102_M', 'aa103_M', 'aa104_M', 'aa105_M', 'aa106_M', 'aa107_M', 'aa108_M', 'aa109_M', 'aa110_M', 'aa111_M', 'aa112_M', 'aa113_M', 'aa114_M', 'aa115_M', 'aa116_M', 'aa117_M', 'aa118_M', 'aa119_M', 'aa120_M', 'aa121_M', 'aa122_M', 'aa123_M', 'aa124_M', 'aa125_M', 'aa126_M', 'aa127_M', 'aa128_M', 'aa129_M', 'aa130_M', 'aa131_M', 'aa132_M', 'aa133_M', 'aa134_M', 'aa135_M', 'aa136_M', 'aa137_M', 'aa138_M', 'aa139_M', 'aa140_M', 'aa141_M', 'aa142_M', 'aa143_M', 'aa144_M', 'aa145_M', 'aa146_M', 'aa147_M', 'aa148_M', 'aa149_M', 'aa150_M', 'aa151_M', 'aa152_M', 'aa153_M', 'aa154_M', 'aa155_M', 'aa156_M', 'aa157_M', 'aa158_M', 'aa159_M', 'aa160_M', 'aa161_M', 'aa162_M', 'aa163_M', 'aa164_M', 'aa165_M', 'aa166_M', 'aa167_M', 'aa168_M', 'aa169_M', 'aa170_M', 'aa171_M', 'aa172_M', 'aa173_M', 'aa174_M', 'aa175_M', 'aa176_M', 'aa177_M', 'aa178_M', 'aa179_M', 'aa180_M', 'aa181_M', 'aa182_M', 'aa183_M', 'aa184_M', 'aa185_M', 'aa186_M', 'aa187_M', 'aa188_M', 'aa189_M', 'aa190_M', 'aa191_M', 'aa192_M', 'aa193_M', 'aa194_M', 'aa195_M', 'aa196_M', 'aa197_M', 'aa198_M', 'aa199_M', 'aa200_M', 'aa201_M', 'aa202_M', 'aa203_M', 'aa204_M', 'aa205_M', 'aa206_M', 'aa207_M', 'aa208_M', 'aa209_M', 'aa210_M', 'aa211_M', 'aa212_M', 'aa213_M', 'aa214_M', 'aa215_M', 'aa216_M', 'aa217_M', 'aa218_M', 'aa219_M', 'aa220_M', 'aa221_M', 'aa222_M', 'aa223_M', 'aa224_M', 'aa225_M', 'aa226_M', 'aa227_M', 'aa228_M', 'aa229_M', 'aa230_M', 'aa231_M', 'aa232_M', 'aa233_M', 'aa234_M', 'aa235_M', 'aa236_M', 'aa237_M', 'aa238_M', 'aa239_M', 'aa240_M', 'aa241_M', 'aa242_M', 'aa243_M', 'aa244_M', 'aa245_M', 'aa246_M', 'aa247_M', 'aa248_M', 'aa249_M', 'aa250_M', 'aa251_M', 'aa252_M', 'aa253_M', 'aa254_M', 'aa255_M', 'aa256_M', 'aa257_M', 'aa258_M', 'aa259_M', 'aa260_M', 'aa261_M', 'aa262_M', 'aa263_M', 'aa264_M', 'aa265_M', 'aa266_M', 'aa267_M', 'aa268_M', 'aa269_M', 'aa270_M', 'aa271_M', 'aa272_M', 'aa273_M', 'aa274_M', 'aa275_M', 'aa276_M', 'aa277_M', 'aa278_M', 'aa279_M', 'aa280_M', 'aa281_M', 'aa282_M', 'aa283_M', 'aa284_M', 'aa285_M', 'aa286_M', 'aa287_M', 'aa288_M', 'aa289_M', 'aa290_M', 'aa291_M', 'aa292_M', 'aa293_M', 'aa294_M', 'aa295_M', 'aa296_M', 'aa297_M', 'aa298_M', 'aa299_M', 'aa300_M', 'aa301_M', 'aa302_M', 'aa303_M', 'aa304_M', 'aa305_M', 'aa306_M', 'aa307_M', 'aa308_M', 'aa309_M', 'aa310_M', 'aa311_M', 'aa312_M', 'aa313_M', 'aa314_M', 'aa315_M', 'aa316_M', 'aa317_M', 'aa318_M', 'aa319_M', 'aa320_M', 'aa321_M', 'aa322_M', 'aa323_M', 'aa324_M', 'aa325_M', 'aa326_M', 'aa327_M', 'aa328_M', 'aa329_M', 'aa330_M', 'aa331_M', 'aa332_M', 'aa333_M', 'aa334_M', 'aa335_M', 'aa336_M', 'aa337_M', 'aa338_M', 'aa339_M', 'aa340_M', 'aa341_M', 'aa342_M', 'aa343_M', 'aa344_M', 'aa345_M', 'aa346_M', 'aa347_M', 'aa348_M', 'aa349_M', 'aa350_M', 'aa351_M', 'aa352_M', 'aa353_M', 'aa354_M', 'aa355_M', 'aa356_M', 'aa357_M', 'aa358_M', 'aa359_M', 'aa360_M', 'aa361_M', 'aa362_M', 'aa363_M', 'aa364_M', 'aa365_M', 'aa366_M', 'aa367_M', 'aa368_M', 'aa369_M', 'aa370_M', 'aa371_M', 'aa372_M', 'aa373_M', 'aa374_M', 'aa375_M', 'aa376_M', 'aa377_M', 'aa378_M', 'aa379_M', 'aa380_M', 'aa381_M', 'aa382_M', 'aa383_M', 'aa384_M', 'aa385_M', 'aa386_M', 'aa387_M', 'aa388_M', 'aa389_M', 'aa390_M', 'aa391_M', 'aa392_M', 'aa393_M', 'aa394_M', 'aa395_M', 'aa396_M', 'aa397_M', 'aa398_M', 'aa399_M', 'aa400_M', 'aa401_M', 'aa402_M', 'aa403_M', 'aa404_M', 'aa405_M', 'aa406_M', 'aa407_M', 'aa408_M', 'aa409_M', 'aa410_M', 'aa411_M', 'aa412_M', 'aa413_M', 'aa415_M', 'aa416_M', 'aa417_M', 'aa418_M', 'aa419_M', 'aa420_M', 'aa421_M', 'aa422_M', 'aa423_M', 'aa424_M', 'aa425_M', 'aa426_M', 'aa427_M', 'aa428_M', 'aa429_M', 'aa430_M', 'aa431_M', 'aa433_M', 'aa434_M', 'aa435_M', 'aa436_M', 'aa437_M', 'aa438_M', 'aa439_M', 'aa440_M', 'aa442_M', 'aa443_M', 'aa445_M', 'aa446_M', 'aa447_M', 'aa448_M', 'aa449_M', 'aa450_M', 'aa451_M', 'aa452_M', 'aa453_M', 'aa454_M', 'aa455_M', 'aa456_M', 'aa457_M', 'aa458_M', 'aa459_M', 'aa460_M', 'aa461_M', 'aa462_M', 'aa463_M', 'aa464_M', 'aa465_M', 'aa466_M', 'aa468_M', 'aa469_M', 'aa470_M', 'aa471_M', 'aa472_M', 'aa473_M', 'aa474_M', 'aa475_M', 'aa476_M', 'aa477_M', 'aa478_M', 'aa479_M', 'aa480_M', 'aa485_M', 'aa486_M', 'aa487_M', 'aa488_M', 'aa489_M', 'aa491_M', 'aa492_M', 'aa494_M', 'aa497_M', 'aa501_M', 'aa504_M', 'aa505_M', 'aa506_M', 'aa507_M', 'aa508_M', 'aa509_M', 'aa519_M', 'aa521_M', 'aa525_M', 'aa526_M', 'aa528_M', 'aa531_M', 'aa532_M', 'aa544_M', 'aa546_M', 'aa549_M', 'aa568_M', 'aa1_T', 'aa2_T', 'aa3_T', 'aa4_T', 'aa5_T', 'aa6_T', 'aa7_T', 'aa8_T', 'aa9_T', 'aa10_T', 'aa11_T', 'aa12_T', 'aa13_T', 'aa14_T', 'aa15_T', 'aa16_T', 'aa17_T', 'aa18_T', 'aa19_T', 'aa20_T', 'aa21_T', 'aa22_T', 'aa23_T', 'aa24_T', 'aa25_T', 'aa26_T', 'aa27_T', 'aa28_T', 'aa29_T', 'aa30_T', 'aa31_T', 'aa32_T', 'aa33_T', 'aa34_T', 'aa35_T', 'aa36_T', 'aa37_T', 'aa38_T', 'aa39_T', 'aa40_T', 'aa41_T', 'aa42_T', 'aa43_T', 'aa44_T', 'aa45_T', 'aa46_T', 'aa47_T', 'aa48_T', 'aa49_T', 'aa50_T', 'aa51_T', 'aa52_T', 'aa53_T', 'aa54_T', 'aa55_T', 'aa56_T', 'aa57_T', 'aa58_T', 'aa59_T', 'aa60_T', 'aa61_T', 'aa62_T', 'aa63_T', 'aa64_T', 'aa65_T', 'aa66_T', 'aa67_T', 'aa68_T', 'aa69_T', 'aa70_T', 'aa71_T', 'aa72_T', 'aa73_T', 'aa74_T', 'aa75_T', 'aa76_T', 'aa77_T', 'aa78_T', 'aa79_T', 'aa80_T', 'aa81_T', 'aa82_T', 'aa83_T', 'aa84_T', 'aa85_T', 'aa86_T', 'aa87_T', 'aa88_T', 'aa89_T', 'aa90_T', 'aa91_T', 'aa92_T', 'aa93_T', 'aa94_T', 'aa95_T', 'aa96_T', 'aa97_T', 'aa98_T', 'aa99_T', 'aa100_T', 'aa101_T', 'aa102_T', 'aa103_T', 'aa104_T', 'aa105_T', 'aa106_T', 'aa107_T', 'aa108_T', 'aa109_T', 'aa110_T', 'aa111_T', 'aa112_T', 'aa113_T', 'aa114_T', 'aa115_T', 'aa116_T', 'aa117_T', 'aa118_T', 'aa119_T', 'aa120_T', 'aa121_T', 'aa122_T', 'aa123_T', 'aa124_T', 'aa125_T', 'aa126_T', 'aa127_T', 'aa128_T', 'aa129_T', 'aa130_T', 'aa131_T', 'aa132_T', 'aa133_T', 'aa134_T', 'aa135_T', 'aa136_T', 'aa137_T', 'aa138_T', 'aa139_T', 'aa140_T', 'aa141_T', 'aa142_T', 'aa143_T', 'aa144_T', 'aa145_T', 'aa146_T', 'aa147_T', 'aa148_T', 'aa149_T', 'aa150_T', 'aa151_T', 'aa152_T', 'aa153_T', 'aa154_T', 'aa155_T', 'aa156_T', 'aa157_T', 'aa158_T', 'aa159_T', 'aa160_T', 'aa161_T', 'aa162_T', 'aa163_T', 'aa164_T', 'aa165_T', 'aa166_T', 'aa167_T', 'aa168_T', 'aa169_T', 'aa170_T', 'aa171_T', 'aa172_T', 'aa173_T', 'aa174_T', 'aa175_T', 'aa176_T', 'aa177_T', 'aa178_T', 'aa179_T', 'aa180_T', 'aa181_T', 'aa182_T', 'aa183_T', 'aa184_T', 'aa185_T', 'aa186_T', 'aa187_T', 'aa188_T', 'aa189_T', 'aa190_T', 'aa191_T', 'aa192_T', 'aa193_T', 'aa194_T', 'aa195_T', 'aa196_T', 'aa197_T', 'aa198_T', 'aa199_T', 'aa200_T', 'aa201_T', 'aa202_T', 'aa203_T', 'aa204_T', 'aa205_T', 'aa206_T', 'aa207_T', 'aa208_T', 'aa209_T', 'aa210_T', 'aa211_T', 'aa212_T', 'aa213_T', 'aa214_T', 'aa215_T', 'aa216_T', 'aa217_T', 'aa218_T', 'aa219_T', 'aa220_T', 'aa221_T', 'aa222_T', 'aa223_T', 'aa224_T', 'aa225_T', 'aa226_T', 'aa227_T', 'aa228_T', 'aa229_T', 'aa230_T', 'aa231_T', 'aa232_T', 'aa233_T', 'aa234_T', 'aa235_T', 'aa236_T', 'aa237_T', 'aa238_T', 'aa239_T', 'aa240_T', 'aa241_T', 'aa242_T', 'aa243_T', 'aa244_T', 'aa245_T', 'aa246_T', 'aa247_T', 'aa248_T', 'aa249_T', 'aa250_T', 'aa251_T', 'aa252_T', 'aa253_T', 'aa254_T', 'aa255_T', 'aa256_T', 'aa257_T', 'aa258_T', 'aa259_T', 'aa260_T', 'aa261_T', 'aa262_T', 'aa263_T', 'aa264_T', 'aa265_T', 'aa266_T', 'aa267_T', 'aa268_T', 'aa269_T', 'aa270_T', 'aa271_T', 'aa272_T', 'aa273_T', 'aa274_T', 'aa275_T', 'aa276_T', 'aa277_T', 'aa278_T', 'aa279_T', 'aa280_T', 'aa281_T', 'aa282_T', 'aa283_T', 'aa284_T', 'aa285_T', 'aa286_T', 'aa287_T', 'aa288_T', 'aa289_T', 'aa290_T', 'aa291_T', 'aa292_T', 'aa293_T', 'aa294_T', 'aa295_T', 'aa296_T', 'aa297_T', 'aa298_T', 'aa299_T', 'aa300_T', 'aa301_T', 'aa302_T', 'aa303_T', 'aa304_T', 'aa305_T', 'aa306_T', 'aa307_T', 'aa308_T', 'aa309_T', 'aa310_T', 'aa311_T', 'aa312_T', 'aa313_T', 'aa314_T', 'aa315_T', 'aa316_T', 'aa317_T', 'aa318_T', 'aa319_T', 'aa320_T', 'aa321_T', 'aa322_T', 'aa323_T', 'aa324_T', 'aa325_T', 'aa326_T', 'aa327_T', 'aa328_T', 'aa329_T', 'aa330_T', 'aa331_T', 'aa332_T', 'aa333_T', 'aa334_T', 'aa335_T', 'aa336_T', 'aa337_T', 'aa338_T', 'aa339_T', 'aa340_T', 'aa341_T', 'aa342_T', 'aa343_T', 'aa344_T', 'aa345_T', 'aa346_T', 'aa347_T', 'aa348_T', 'aa349_T', 'aa350_T', 'aa351_T', 'aa352_T', 'aa353_T', 'aa354_T', 'aa355_T', 'aa356_T', 'aa357_T', 'aa358_T', 'aa359_T', 'aa360_T', 'aa361_T', 'aa362_T', 'aa363_T', 'aa364_T', 'aa365_T', 'aa366_T', 'aa367_T', 'aa368_T', 'aa369_T', 'aa370_T', 'aa371_T', 'aa372_T', 'aa373_T', 'aa374_T', 'aa375_T', 'aa376_T', 'aa377_T', 'aa378_T', 'aa379_T', 'aa380_T', 'aa381_T', 'aa382_T', 'aa383_T', 'aa384_T', 'aa385_T', 'aa386_T', 'aa387_T', 'aa388_T', 'aa389_T', 'aa390_T', 'aa391_T', 'aa392_T', 'aa393_T', 'aa394_T', 'aa395_T', 'aa396_T', 'aa397_T', 'aa398_T', 'aa399_T', 'aa400_T', 'aa401_T', 'aa402_T', 'aa403_T', 'aa404_T', 'aa405_T', 'aa406_T', 'aa407_T', 'aa408_T', 'aa409_T', 'aa410_T', 'aa411_T', 'aa412_T', 'aa413_T', 'aa414_T', 'aa415_T', 'aa416_T', 'aa417_T', 'aa418_T', 'aa419_T', 'aa420_T', 'aa421_T', 'aa422_T', 'aa423_T', 'aa424_T', 'aa425_T', 'aa426_T', 'aa427_T', 'aa428_T', 'aa429_T', 'aa430_T', 'aa431_T', 'aa432_T', 'aa433_T', 'aa434_T', 'aa435_T', 'aa436_T', 'aa437_T', 'aa438_T', 'aa439_T', 'aa440_T', 'aa441_T', 'aa442_T', 'aa443_T', 'aa444_T', 'aa445_T', 'aa446_T', 'aa447_T', 'aa448_T', 'aa449_T', 'aa450_T', 'aa451_T', 'aa452_T', 'aa453_T', 'aa454_T', 'aa455_T', 'aa456_T', 'aa457_T', 'aa458_T', 'aa459_T', 'aa460_T', 'aa461_T', 'aa462_T', 'aa463_T', 'aa464_T', 'aa465_T', 'aa466_T', 'aa467_T', 'aa468_T', 'aa469_T', 'aa470_T', 'aa471_T', 'aa472_T', 'aa473_T', 'aa474_T', 'aa475_T', 'aa476_T', 'aa477_T', 'aa478_T', 'aa479_T', 'aa480_T', 'aa481_T', 'aa482_T', 'aa483_T', 'aa484_T', 'aa485_T', 'aa486_T', 'aa487_T', 'aa488_T', 'aa489_T', 'aa490_T', 'aa493_T', 'aa494_T', 'aa495_T', 'aa496_T', 'aa497_T', 'aa498_T', 'aa500_T', 'aa501_T', 'aa502_T', 'aa503_T', 'aa505_T', 'aa506_T', 'aa507_T', 'aa508_T', 'aa509_T', 'aa510_T', 'aa511_T', 'aa512_T', 'aa513_T', 'aa514_T', 'aa517_T', 'aa518_T', 'aa519_T', 'aa520_T', 'aa524_T', 'aa525_T', 'aa526_T', 'aa527_T', 'aa528_T', 'aa531_T', 'aa532_T', 'aa533_T', 'aa535_T', 'aa536_T', 'aa537_T', 'aa539_T', 'aa540_T', 'aa541_T', 'aa542_T', 'aa543_T', 'aa545_T', 'aa546_T', 'aa547_T', 'aa548_T', 'aa552_T', 'aa553_T', 'aa554_T', 'aa558_T', 'aa562_T', 'aa565_T', 'aa569_T', 'aa588_T', 'aa1_S', 'aa2_S', 'aa3_S', 'aa4_S', 'aa5_S', 'aa6_S', 'aa7_S', 'aa8_S', 'aa9_S', 'aa10_S', 'aa11_S', 'aa12_S', 'aa13_S', 'aa14_S', 'aa15_S', 'aa16_S', 'aa17_S', 'aa18_S', 'aa19_S', 'aa20_S', 'aa21_S', 'aa22_S', 'aa23_S', 'aa24_S', 'aa25_S', 'aa26_S', 'aa27_S', 'aa28_S', 'aa29_S', 'aa30_S', 'aa31_S', 'aa32_S', 'aa33_S', 'aa34_S', 'aa35_S', 'aa36_S', 'aa37_S', 'aa38_S', 'aa39_S', 'aa40_S', 'aa41_S', 'aa42_S', 'aa43_S', 'aa44_S', 'aa45_S', 'aa46_S', 'aa47_S', 'aa48_S', 'aa49_S', 'aa50_S', 'aa51_S', 'aa52_S', 'aa53_S', 'aa54_S', 'aa55_S', 'aa56_S', 'aa57_S', 'aa58_S', 'aa59_S', 'aa60_S', 'aa61_S', 'aa62_S', 'aa63_S', 'aa64_S', 'aa65_S', 'aa66_S', 'aa67_S', 'aa68_S', 'aa69_S', 'aa70_S', 'aa71_S', 'aa72_S', 'aa73_S', 'aa74_S', 'aa75_S', 'aa76_S', 'aa77_S', 'aa78_S', 'aa79_S', 'aa80_S', 'aa81_S', 'aa82_S', 'aa83_S', 'aa84_S', 'aa85_S', 'aa86_S', 'aa87_S', 'aa88_S', 'aa89_S', 'aa90_S', 'aa91_S', 'aa92_S', 'aa93_S', 'aa94_S', 'aa95_S', 'aa96_S', 'aa97_S', 'aa98_S', 'aa99_S', 'aa100_S', 'aa101_S', 'aa102_S', 'aa103_S', 'aa104_S', 'aa105_S', 'aa106_S', 'aa107_S', 'aa108_S', 'aa109_S', 'aa110_S', 'aa111_S', 'aa112_S', 'aa113_S', 'aa114_S', 'aa115_S', 'aa116_S', 'aa117_S', 'aa118_S', 'aa119_S', 'aa120_S', 'aa121_S', 'aa122_S', 'aa123_S', 'aa124_S', 'aa125_S', 'aa126_S', 'aa127_S', 'aa128_S', 'aa129_S', 'aa130_S', 'aa131_S', 'aa132_S', 'aa133_S', 'aa134_S', 'aa135_S', 'aa136_S', 'aa137_S', 'aa138_S', 'aa139_S', 'aa140_S', 'aa141_S', 'aa142_S', 'aa143_S', 'aa144_S', 'aa145_S', 'aa146_S', 'aa147_S', 'aa148_S', 'aa149_S', 'aa150_S', 'aa151_S', 'aa152_S', 'aa153_S', 'aa154_S', 'aa155_S', 'aa156_S', 'aa157_S', 'aa158_S', 'aa159_S', 'aa160_S', 'aa161_S', 'aa162_S', 'aa163_S', 'aa164_S', 'aa165_S', 'aa166_S', 'aa167_S', 'aa168_S', 'aa169_S', 'aa170_S', 'aa171_S', 'aa172_S', 'aa173_S', 'aa174_S', 'aa175_S', 'aa176_S', 'aa177_S', 'aa178_S', 'aa179_S', 'aa180_S', 'aa181_S', 'aa182_S', 'aa183_S', 'aa184_S', 'aa185_S', 'aa186_S', 'aa187_S', 'aa188_S', 'aa189_S', 'aa190_S', 'aa191_S', 'aa192_S', 'aa193_S', 'aa194_S', 'aa195_S', 'aa196_S', 'aa197_S', 'aa198_S', 'aa199_S', 'aa200_S', 'aa201_S', 'aa202_S', 'aa203_S', 'aa204_S', 'aa205_S', 'aa206_S', 'aa207_S', 'aa208_S', 'aa209_S', 'aa210_S', 'aa211_S', 'aa212_S', 'aa213_S', 'aa214_S', 'aa215_S', 'aa216_S', 'aa217_S', 'aa218_S', 'aa219_S', 'aa220_S', 'aa221_S', 'aa222_S', 'aa223_S', 'aa224_S', 'aa225_S', 'aa226_S', 'aa227_S', 'aa228_S', 'aa229_S', 'aa230_S', 'aa231_S', 'aa232_S', 'aa233_S', 'aa234_S', 'aa235_S', 'aa236_S', 'aa237_S', 'aa238_S', 'aa239_S', 'aa240_S', 'aa241_S', 'aa242_S', 'aa243_S', 'aa244_S', 'aa245_S', 'aa246_S', 'aa247_S', 'aa248_S', 'aa249_S', 'aa250_S', 'aa251_S', 'aa252_S', 'aa253_S', 'aa254_S', 'aa255_S', 'aa256_S', 'aa257_S', 'aa258_S', 'aa259_S', 'aa260_S', 'aa261_S', 'aa262_S', 'aa263_S', 'aa264_S', 'aa265_S', 'aa266_S', 'aa267_S', 'aa268_S', 'aa269_S', 'aa270_S', 'aa271_S', 'aa272_S', 'aa273_S', 'aa274_S', 'aa275_S', 'aa276_S', 'aa277_S', 'aa278_S', 'aa279_S', 'aa280_S', 'aa281_S', 'aa282_S', 'aa283_S', 'aa284_S', 'aa285_S', 'aa286_S', 'aa287_S', 'aa288_S', 'aa289_S', 'aa290_S', 'aa291_S', 'aa292_S', 'aa293_S', 'aa294_S', 'aa295_S', 'aa296_S', 'aa297_S', 'aa298_S', 'aa299_S', 'aa300_S', 'aa301_S', 'aa302_S', 'aa303_S', 'aa304_S', 'aa305_S', 'aa306_S', 'aa307_S', 'aa308_S', 'aa309_S', 'aa310_S', 'aa311_S', 'aa312_S', 'aa313_S', 'aa314_S', 'aa315_S', 'aa316_S', 'aa317_S', 'aa318_S', 'aa319_S', 'aa320_S', 'aa321_S', 'aa322_S', 'aa323_S', 'aa324_S', 'aa325_S', 'aa326_S', 'aa327_S', 'aa328_S', 'aa329_S', 'aa330_S', 'aa331_S', 'aa332_S', 'aa333_S', 'aa334_S', 'aa335_S', 'aa336_S', 'aa337_S', 'aa338_S', 'aa339_S', 'aa340_S', 'aa341_S', 'aa342_S', 'aa343_S', 'aa344_S', 'aa345_S', 'aa346_S', 'aa347_S', 'aa348_S', 'aa349_S', 'aa350_S', 'aa351_S', 'aa352_S', 'aa353_S', 'aa354_S', 'aa355_S', 'aa356_S', 'aa357_S', 'aa358_S', 'aa359_S', 'aa360_S', 'aa361_S', 'aa362_S', 'aa363_S', 'aa364_S', 'aa365_S', 'aa366_S', 'aa367_S', 'aa368_S', 'aa369_S', 'aa370_S', 'aa371_S', 'aa372_S', 'aa373_S', 'aa374_S', 'aa375_S', 'aa376_S', 'aa377_S', 'aa378_S', 'aa379_S', 'aa380_S', 'aa381_S', 'aa382_S', 'aa383_S', 'aa384_S', 'aa385_S', 'aa386_S', 'aa387_S', 'aa388_S', 'aa389_S', 'aa390_S', 'aa391_S', 'aa392_S', 'aa393_S', 'aa394_S', 'aa395_S', 'aa396_S', 'aa397_S', 'aa398_S', 'aa399_S', 'aa400_S', 'aa401_S', 'aa402_S', 'aa403_S', 'aa404_S', 'aa405_S', 'aa406_S', 'aa407_S', 'aa408_S', 'aa409_S', 'aa410_S', 'aa411_S', 'aa412_S', 'aa413_S', 'aa414_S', 'aa415_S', 'aa416_S', 'aa417_S', 'aa418_S', 'aa419_S', 'aa420_S', 'aa421_S', 'aa422_S', 'aa423_S', 'aa424_S', 'aa425_S', 'aa426_S', 'aa427_S', 'aa428_S', 'aa429_S', 'aa430_S', 'aa431_S', 'aa432_S', 'aa433_S', 'aa434_S', 'aa435_S', 'aa436_S', 'aa437_S', 'aa438_S', 'aa439_S', 'aa440_S', 'aa441_S', 'aa442_S', 'aa443_S', 'aa444_S', 'aa445_S', 'aa446_S', 'aa447_S', 'aa448_S', 'aa449_S', 'aa450_S', 'aa451_S', 'aa452_S', 'aa453_S', 'aa454_S', 'aa455_S', 'aa456_S', 'aa457_S', 'aa458_S', 'aa459_S', 'aa460_S', 'aa461_S', 'aa462_S', 'aa463_S', 'aa464_S', 'aa465_S', 'aa466_S', 'aa467_S', 'aa468_S', 'aa469_S', 'aa470_S', 'aa471_S', 'aa472_S', 'aa473_S', 'aa474_S', 'aa475_S', 'aa476_S', 'aa477_S', 'aa478_S', 'aa479_S', 'aa480_S', 'aa481_S', 'aa482_S', 'aa483_S', 'aa484_S', 'aa485_S', 'aa486_S', 'aa487_S', 'aa488_S', 'aa489_S', 'aa490_S', 'aa492_S', 'aa493_S', 'aa494_S', 'aa495_S', 'aa496_S', 'aa497_S', 'aa498_S', 'aa499_S', 'aa500_S', 'aa501_S', 'aa502_S', 'aa503_S', 'aa505_S', 'aa506_S', 'aa507_S', 'aa508_S', 'aa509_S', 'aa510_S', 'aa511_S', 'aa512_S', 'aa514_S', 'aa515_S', 'aa516_S', 'aa518_S', 'aa519_S', 'aa520_S', 'aa522_S', 'aa523_S', 'aa524_S', 'aa526_S', 'aa527_S', 'aa528_S', 'aa529_S', 'aa530_S', 'aa531_S', 'aa532_S', 'aa533_S', 'aa537_S', 'aa538_S', 'aa540_S', 'aa541_S', 'aa544_S', 'aa546_S', 'aa548_S', 'aa549_S', 'aa550_S', 'aa551_S', 'aa552_S', 'aa555_S', 'aa561_S', 'aa565_S', 'aa566_S', 'aa572_S', 'aa587_S', 'aa589_S', 'aa592_S', 'aa614_S', 'aa1_I', 'aa2_I', 'aa3_I', 'aa4_I', 'aa5_I', 'aa6_I', 'aa7_I', 'aa8_I', 'aa9_I', 'aa10_I', 'aa11_I', 'aa12_I', 'aa13_I', 'aa14_I', 'aa15_I', 'aa16_I', 'aa17_I', 'aa18_I', 'aa19_I', 'aa20_I', 'aa21_I', 'aa22_I', 'aa23_I', 'aa24_I', 'aa25_I', 'aa26_I', 'aa27_I', 'aa28_I', 'aa29_I', 'aa30_I', 'aa31_I', 'aa32_I', 'aa33_I', 'aa34_I', 'aa35_I', 'aa36_I', 'aa37_I', 'aa38_I', 'aa39_I', 'aa40_I', 'aa41_I', 'aa42_I', 'aa43_I', 'aa44_I', 'aa45_I', 'aa46_I', 'aa47_I', 'aa48_I', 'aa49_I', 'aa50_I', 'aa51_I', 'aa52_I', 'aa53_I', 'aa54_I', 'aa55_I', 'aa56_I', 'aa57_I', 'aa58_I', 'aa59_I', 'aa60_I', 'aa61_I', 'aa62_I', 'aa63_I', 'aa64_I', 'aa65_I', 'aa66_I', 'aa67_I', 'aa68_I', 'aa69_I', 'aa70_I', 'aa71_I', 'aa72_I', 'aa73_I', 'aa74_I', 'aa75_I', 'aa76_I', 'aa77_I', 'aa78_I', 'aa79_I', 'aa80_I', 'aa81_I', 'aa82_I', 'aa83_I', 'aa84_I', 'aa85_I', 'aa86_I', 'aa87_I', 'aa88_I', 'aa89_I', 'aa90_I', 'aa91_I', 'aa92_I', 'aa93_I', 'aa94_I', 'aa95_I', 'aa96_I', 'aa97_I', 'aa98_I', 'aa99_I', 'aa100_I', 'aa101_I', 'aa102_I', 'aa103_I', 'aa104_I', 'aa105_I', 'aa106_I', 'aa107_I', 'aa108_I', 'aa109_I', 'aa110_I', 'aa111_I', 'aa112_I', 'aa113_I', 'aa114_I', 'aa115_I', 'aa116_I', 'aa117_I', 'aa118_I', 'aa119_I', 'aa120_I', 'aa121_I', 'aa122_I', 'aa123_I', 'aa124_I', 'aa125_I', 'aa126_I', 'aa127_I', 'aa128_I', 'aa129_I', 'aa130_I', 'aa131_I', 'aa132_I', 'aa133_I', 'aa134_I', 'aa135_I', 'aa136_I', 'aa137_I', 'aa138_I', 'aa139_I', 'aa140_I', 'aa141_I', 'aa142_I', 'aa143_I', 'aa144_I', 'aa145_I', 'aa146_I', 'aa147_I', 'aa148_I', 'aa149_I', 'aa150_I', 'aa151_I', 'aa152_I', 'aa153_I', 'aa154_I', 'aa155_I', 'aa156_I', 'aa157_I', 'aa158_I', 'aa159_I', 'aa160_I', 'aa161_I', 'aa162_I', 'aa163_I', 'aa164_I', 'aa165_I', 'aa166_I', 'aa167_I', 'aa168_I', 'aa169_I', 'aa170_I', 'aa171_I', 'aa172_I', 'aa173_I', 'aa174_I', 'aa175_I', 'aa176_I', 'aa177_I', 'aa178_I', 'aa179_I', 'aa180_I', 'aa181_I', 'aa182_I', 'aa183_I', 'aa184_I', 'aa185_I', 'aa186_I', 'aa187_I', 'aa188_I', 'aa189_I', 'aa190_I', 'aa191_I', 'aa192_I', 'aa193_I', 'aa194_I', 'aa195_I', 'aa196_I', 'aa197_I', 'aa198_I', 'aa199_I', 'aa200_I', 'aa201_I', 'aa202_I', 'aa203_I', 'aa204_I', 'aa205_I', 'aa206_I', 'aa207_I', 'aa208_I', 'aa209_I', 'aa210_I', 'aa211_I', 'aa212_I', 'aa213_I', 'aa214_I', 'aa215_I', 'aa216_I', 'aa217_I', 'aa218_I', 'aa219_I', 'aa220_I', 'aa221_I', 'aa222_I', 'aa223_I', 'aa224_I', 'aa225_I', 'aa226_I', 'aa227_I', 'aa228_I', 'aa229_I', 'aa230_I', 'aa231_I', 'aa232_I', 'aa233_I', 'aa234_I', 'aa235_I', 'aa236_I', 'aa237_I', 'aa238_I', 'aa239_I', 'aa240_I', 'aa241_I', 'aa242_I', 'aa243_I', 'aa244_I', 'aa245_I', 'aa246_I', 'aa247_I', 'aa248_I', 'aa249_I', 'aa250_I', 'aa251_I', 'aa252_I', 'aa253_I', 'aa254_I', 'aa255_I', 'aa256_I', 'aa257_I', 'aa258_I', 'aa259_I', 'aa260_I', 'aa261_I', 'aa262_I', 'aa263_I', 'aa264_I', 'aa265_I', 'aa266_I', 'aa267_I', 'aa268_I', 'aa269_I', 'aa270_I', 'aa271_I', 'aa272_I', 'aa273_I', 'aa274_I', 'aa275_I', 'aa276_I', 'aa277_I', 'aa278_I', 'aa279_I', 'aa280_I', 'aa281_I', 'aa282_I', 'aa283_I', 'aa284_I', 'aa285_I', 'aa286_I', 'aa287_I', 'aa288_I', 'aa289_I', 'aa290_I', 'aa291_I', 'aa292_I', 'aa293_I', 'aa294_I', 'aa295_I', 'aa296_I', 'aa297_I', 'aa298_I', 'aa299_I', 'aa300_I', 'aa301_I', 'aa302_I', 'aa303_I', 'aa304_I', 'aa305_I', 'aa306_I', 'aa307_I', 'aa308_I', 'aa309_I', 'aa310_I', 'aa311_I', 'aa312_I', 'aa313_I', 'aa314_I', 'aa315_I', 'aa316_I', 'aa317_I', 'aa318_I', 'aa319_I', 'aa320_I', 'aa321_I', 'aa322_I', 'aa323_I', 'aa324_I', 'aa325_I', 'aa326_I', 'aa327_I', 'aa328_I', 'aa329_I', 'aa330_I', 'aa331_I', 'aa332_I', 'aa333_I', 'aa334_I', 'aa335_I', 'aa336_I', 'aa337_I', 'aa338_I', 'aa339_I', 'aa340_I', 'aa341_I', 'aa342_I', 'aa343_I', 'aa344_I', 'aa345_I', 'aa346_I', 'aa347_I', 'aa348_I', 'aa349_I', 'aa350_I', 'aa351_I', 'aa352_I', 'aa353_I', 'aa354_I', 'aa355_I', 'aa356_I', 'aa357_I', 'aa358_I', 'aa359_I', 'aa360_I', 'aa361_I', 'aa362_I', 'aa363_I', 'aa364_I', 'aa365_I', 'aa366_I', 'aa367_I', 'aa368_I', 'aa369_I', 'aa370_I', 'aa371_I', 'aa372_I', 'aa373_I', 'aa374_I', 'aa375_I', 'aa376_I', 'aa377_I', 'aa378_I', 'aa379_I', 'aa380_I', 'aa381_I', 'aa382_I', 'aa383_I', 'aa384_I', 'aa385_I', 'aa386_I', 'aa387_I', 'aa388_I', 'aa389_I', 'aa390_I', 'aa391_I', 'aa392_I', 'aa393_I', 'aa394_I', 'aa395_I', 'aa396_I', 'aa397_I', 'aa398_I', 'aa399_I', 'aa400_I', 'aa401_I', 'aa402_I', 'aa403_I', 'aa404_I', 'aa405_I', 'aa406_I', 'aa407_I', 'aa408_I', 'aa409_I', 'aa410_I', 'aa411_I', 'aa412_I', 'aa413_I', 'aa414_I', 'aa415_I', 'aa416_I', 'aa417_I', 'aa418_I', 'aa419_I', 'aa420_I', 'aa421_I', 'aa422_I', 'aa423_I', 'aa424_I', 'aa425_I', 'aa426_I', 'aa427_I', 'aa428_I', 'aa429_I', 'aa430_I', 'aa431_I', 'aa432_I', 'aa433_I', 'aa434_I', 'aa435_I', 'aa436_I', 'aa437_I', 'aa438_I', 'aa439_I', 'aa440_I', 'aa441_I', 'aa442_I', 'aa443_I', 'aa444_I', 'aa445_I', 'aa446_I', 'aa447_I', 'aa448_I', 'aa449_I', 'aa450_I', 'aa451_I', 'aa452_I', 'aa453_I', 'aa454_I', 'aa455_I', 'aa456_I', 'aa457_I', 'aa458_I', 'aa459_I', 'aa460_I', 'aa461_I', 'aa462_I', 'aa463_I', 'aa464_I', 'aa465_I', 'aa466_I', 'aa467_I', 'aa468_I', 'aa469_I', 'aa470_I', 'aa471_I', 'aa472_I', 'aa473_I', 'aa474_I', 'aa475_I', 'aa476_I', 'aa477_I', 'aa478_I', 'aa479_I', 'aa480_I', 'aa481_I', 'aa482_I', 'aa483_I', 'aa484_I', 'aa485_I', 'aa486_I', 'aa487_I', 'aa488_I', 'aa489_I', 'aa490_I', 'aa491_I', 'aa492_I', 'aa493_I', 'aa494_I', 'aa495_I', 'aa496_I', 'aa497_I', 'aa498_I', 'aa499_I', 'aa500_I', 'aa501_I', 'aa502_I', 'aa503_I', 'aa504_I', 'aa505_I', 'aa506_I', 'aa507_I', 'aa508_I', 'aa509_I', 'aa510_I', 'aa511_I', 'aa512_I', 'aa513_I', 'aa514_I', 'aa515_I', 'aa516_I', 'aa519_I', 'aa520_I', 'aa521_I', 'aa523_I', 'aa524_I', 'aa525_I', 'aa526_I', 'aa527_I', 'aa529_I', 'aa530_I', 'aa531_I', 'aa533_I', 'aa534_I', 'aa536_I', 'aa538_I', 'aa539_I', 'aa540_I', 'aa541_I', 'aa543_I', 'aa544_I', 'aa546_I', 'aa549_I', 'aa550_I', 'aa551_I', 'aa558_I', 'aa561_I', 'aa566_I', 'aa573_I', 'aa577_I', 'aa588_I', 'aa589_I', 'aa593_I', 'aa2_W', 'aa3_W', 'aa4_W', 'aa5_W', 'aa6_W', 'aa7_W', 'aa8_W', 'aa9_W', 'aa10_W', 'aa11_W', 'aa12_W', 'aa13_W', 'aa14_W', 'aa15_W', 'aa16_W', 'aa17_W', 'aa18_W', 'aa19_W', 'aa20_W', 'aa21_W', 'aa22_W', 'aa23_W', 'aa24_W', 'aa25_W', 'aa26_W', 'aa27_W', 'aa28_W', 'aa29_W', 'aa30_W', 'aa31_W', 'aa32_W', 'aa33_W', 'aa34_W', 'aa35_W', 'aa36_W', 'aa37_W', 'aa38_W', 'aa39_W', 'aa40_W', 'aa41_W', 'aa42_W', 'aa43_W', 'aa44_W', 'aa45_W', 'aa46_W', 'aa47_W', 'aa48_W', 'aa49_W', 'aa50_W', 'aa51_W', 'aa52_W', 'aa53_W', 'aa54_W', 'aa55_W', 'aa56_W', 'aa57_W', 'aa58_W', 'aa59_W', 'aa60_W', 'aa61_W', 'aa62_W', 'aa63_W', 'aa64_W', 'aa65_W', 'aa66_W', 'aa67_W', 'aa68_W', 'aa69_W', 'aa70_W', 'aa71_W', 'aa72_W', 'aa73_W', 'aa74_W', 'aa75_W', 'aa76_W', 'aa77_W', 'aa78_W', 'aa79_W', 'aa80_W', 'aa81_W', 'aa82_W', 'aa83_W', 'aa84_W', 'aa85_W', 'aa86_W', 'aa87_W', 'aa88_W', 'aa89_W', 'aa90_W', 'aa91_W', 'aa92_W', 'aa93_W', 'aa94_W', 'aa95_W', 'aa96_W', 'aa97_W', 'aa98_W', 'aa99_W', 'aa100_W', 'aa101_W', 'aa102_W', 'aa103_W', 'aa104_W', 'aa105_W', 'aa106_W', 'aa107_W', 'aa108_W', 'aa109_W', 'aa110_W', 'aa111_W', 'aa112_W', 'aa113_W', 'aa114_W', 'aa115_W', 'aa116_W', 'aa117_W', 'aa118_W', 'aa119_W', 'aa120_W', 'aa121_W', 'aa122_W', 'aa123_W', 'aa124_W', 'aa125_W', 'aa126_W', 'aa127_W', 'aa128_W', 'aa129_W', 'aa130_W', 'aa131_W', 'aa132_W', 'aa133_W', 'aa134_W', 'aa135_W', 'aa136_W', 'aa137_W', 'aa138_W', 'aa139_W', 'aa140_W', 'aa141_W', 'aa142_W', 'aa143_W', 'aa144_W', 'aa145_W', 'aa146_W', 'aa147_W', 'aa148_W', 'aa149_W', 'aa150_W', 'aa151_W', 'aa152_W', 'aa153_W', 'aa154_W', 'aa155_W', 'aa156_W', 'aa157_W', 'aa158_W', 'aa159_W', 'aa160_W', 'aa161_W', 'aa162_W', 'aa163_W', 'aa164_W', 'aa165_W', 'aa166_W', 'aa167_W', 'aa168_W', 'aa169_W', 'aa170_W', 'aa171_W', 'aa172_W', 'aa173_W', 'aa174_W', 'aa175_W', 'aa176_W', 'aa177_W', 'aa178_W', 'aa179_W', 'aa180_W', 'aa181_W', 'aa182_W', 'aa183_W', 'aa184_W', 'aa185_W', 'aa186_W', 'aa187_W', 'aa188_W', 'aa189_W', 'aa190_W', 'aa191_W', 'aa192_W', 'aa193_W', 'aa194_W', 'aa195_W', 'aa196_W', 'aa197_W', 'aa198_W', 'aa199_W', 'aa200_W', 'aa201_W', 'aa202_W', 'aa203_W', 'aa204_W', 'aa205_W', 'aa206_W', 'aa207_W', 'aa208_W', 'aa209_W', 'aa210_W', 'aa211_W', 'aa212_W', 'aa213_W', 'aa214_W', 'aa215_W', 'aa216_W', 'aa217_W', 'aa218_W', 'aa219_W', 'aa220_W', 'aa221_W', 'aa222_W', 'aa223_W', 'aa224_W', 'aa225_W', 'aa226_W', 'aa227_W', 'aa228_W', 'aa229_W', 'aa230_W', 'aa231_W', 'aa232_W', 'aa233_W', 'aa234_W', 'aa235_W', 'aa236_W', 'aa237_W', 'aa238_W', 'aa239_W', 'aa240_W', 'aa241_W', 'aa242_W', 'aa243_W', 'aa244_W', 'aa245_W', 'aa246_W', 'aa247_W', 'aa248_W', 'aa249_W', 'aa250_W', 'aa251_W', 'aa252_W', 'aa253_W', 'aa254_W', 'aa255_W', 'aa256_W', 'aa257_W', 'aa258_W', 'aa259_W', 'aa260_W', 'aa261_W', 'aa262_W', 'aa263_W', 'aa264_W', 'aa265_W', 'aa266_W', 'aa267_W', 'aa268_W', 'aa269_W', 'aa270_W', 'aa271_W', 'aa272_W', 'aa273_W', 'aa274_W', 'aa275_W', 'aa276_W', 'aa277_W', 'aa278_W', 'aa279_W', 'aa280_W', 'aa281_W', 'aa282_W', 'aa283_W', 'aa284_W', 'aa285_W', 'aa286_W', 'aa287_W', 'aa288_W', 'aa289_W', 'aa290_W', 'aa291_W', 'aa292_W', 'aa293_W', 'aa294_W', 'aa295_W', 'aa296_W', 'aa297_W', 'aa298_W', 'aa299_W', 'aa300_W', 'aa301_W', 'aa302_W', 'aa303_W', 'aa304_W', 'aa305_W', 'aa306_W', 'aa307_W', 'aa308_W', 'aa309_W', 'aa310_W', 'aa311_W', 'aa312_W', 'aa313_W', 'aa314_W', 'aa315_W', 'aa316_W', 'aa317_W', 'aa318_W', 'aa319_W', 'aa320_W', 'aa321_W', 'aa322_W', 'aa323_W', 'aa324_W', 'aa325_W', 'aa326_W', 'aa327_W', 'aa328_W', 'aa329_W', 'aa330_W', 'aa331_W', 'aa332_W', 'aa333_W', 'aa334_W', 'aa335_W', 'aa336_W', 'aa337_W', 'aa338_W', 'aa339_W', 'aa340_W', 'aa341_W', 'aa342_W', 'aa343_W', 'aa344_W', 'aa345_W', 'aa346_W', 'aa347_W', 'aa348_W', 'aa349_W', 'aa350_W', 'aa351_W', 'aa352_W', 'aa353_W', 'aa354_W', 'aa355_W', 'aa356_W', 'aa357_W', 'aa358_W', 'aa359_W', 'aa360_W', 'aa361_W', 'aa362_W', 'aa363_W', 'aa365_W', 'aa366_W', 'aa367_W', 'aa368_W', 'aa369_W', 'aa370_W', 'aa372_W', 'aa373_W', 'aa374_W', 'aa375_W', 'aa376_W', 'aa377_W', 'aa378_W', 'aa380_W', 'aa381_W', 'aa382_W', 'aa383_W', 'aa384_W', 'aa385_W', 'aa386_W', 'aa387_W', 'aa390_W', 'aa391_W', 'aa392_W', 'aa393_W', 'aa394_W', 'aa395_W', 'aa396_W', 'aa397_W', 'aa398_W', 'aa399_W', 'aa400_W', 'aa401_W', 'aa402_W', 'aa403_W', 'aa404_W', 'aa405_W', 'aa406_W', 'aa407_W', 'aa408_W', 'aa409_W', 'aa410_W', 'aa411_W', 'aa414_W', 'aa415_W', 'aa416_W', 'aa417_W', 'aa418_W', 'aa419_W', 'aa420_W', 'aa421_W', 'aa422_W', 'aa423_W', 'aa425_W', 'aa426_W', 'aa428_W', 'aa429_W', 'aa432_W', 'aa433_W', 'aa434_W', 'aa435_W', 'aa436_W', 'aa437_W', 'aa438_W', 'aa439_W', 'aa440_W', 'aa441_W', 'aa442_W', 'aa445_W', 'aa446_W', 'aa447_W', 'aa448_W', 'aa449_W', 'aa450_W', 'aa451_W', 'aa453_W', 'aa456_W', 'aa457_W', 'aa458_W', 'aa460_W', 'aa462_W', 'aa463_W', 'aa464_W', 'aa466_W', 'aa470_W', 'aa471_W', 'aa473_W', 'aa474_W', 'aa475_W', 'aa477_W', 'aa478_W', 'aa484_W', 'aa488_W', 'aa493_W', 'aa496_W', 'aa500_W', 'aa515_W', 'aa520_W', 'aa521_W', 'aa527_W', 'aa534_W', 'aa538_W', 'aa539_W', 'aa541_W', 'aa543_W', 'aa561_W'], 'feature_metadata': <autogluon.common.features.feature_metadata.FeatureMetadata object at 0x2af284ee7130>, 'memory_size': 177097837, 'compile_time': None}\n",
      "Best Model Hyperparameters (ConvNetModel/T3):\n",
      "{'batch_size': 128, 'lr': 0.0026938830192854094, 'epochs': 10}\n"
     ]
    }
   ],
   "source": [
    "best_model_name = leaderboard_hpo[leaderboard_hpo['stack_level'] == 1]['model'].iloc[0]\n",
    "\n",
    "predictor_info = predictor.info()\n",
    "best_model_info = predictor_info['model_info'][best_model_name]\n",
    "\n",
    "print(best_model_info)\n",
    "\n",
    "print(f'Best Model Hyperparameters ({best_model_name}):')\n",
    "print(best_model_info['hyperparameters'])"
   ]
  },
  {
   "cell_type": "code",
   "execution_count": 29,
   "id": "bc69349d",
   "metadata": {},
   "outputs": [
    {
     "name": "stderr",
     "output_type": "stream",
     "text": [
      "No path specified. Models will be saved in: \"AutogluonModels/ag-20230630_023946/\"\n",
      "Beginning AutoGluon training ... Time limit = 1800s\n",
      "AutoGluon will save models to \"AutogluonModels/ag-20230630_023946/\"\n",
      "AutoGluon Version:  0.8.0\n",
      "Python Version:     3.9.0\n",
      "Operating System:   Linux\n",
      "Platform Machine:   x86_64\n",
      "Platform Version:   #1 SMP Thu Jun 10 13:32:12 UTC 2021\n",
      "Disk Space Avail:   200545.73 GB / 595935.30 GB (33.7%)\n",
      "Train Data Rows:    8281\n",
      "Train Data Columns: 10781\n",
      "Tuning Data Rows:    2943\n",
      "Tuning Data Columns: 10781\n",
      "Label Column: solubility\n",
      "Preprocessing data ...\n",
      "AutoGluon infers your prediction problem is: 'binary' (because only two unique label-values observed).\n",
      "\t2 unique label values:  [1, 0]\n",
      "\tIf 'binary' is not the correct problem_type, please manually specify the problem_type parameter during predictor init (You may specify problem_type as one of: ['binary', 'multiclass', 'regression'])\n",
      "Selected class <--> label mapping:  class 1 = 1, class 0 = 0\n",
      "Using Feature Generators to preprocess the data ...\n",
      "Fitting IdentityFeatureGenerator...\n",
      "\tInferring data type of each feature based on column values. Set feature_metadata_in to manually specify special dtypes of the features.\n",
      "Data preprocessing and feature engineering runtime = 4.34s ...\n",
      "AutoGluon will gauge predictive performance using evaluation metric: 'pearsonr'\n",
      "\tTo change this, specify the eval_metric parameter of Predictor()\n",
      "User-specified model hyperparameters to be fit:\n",
      "{\n",
      "\t'<class '__main__.ConvNetModel'>': {},\n",
      "}\n",
      "Custom Model Type Detected: <class '__main__.ConvNetModel'>\n",
      "Fitting 1 L1 models ...\n",
      "Fitting model: ConvNetModel ... Training model for up to 1795.66s of the 1795.1s of remaining time.\n"
     ]
    },
    {
     "name": "stdout",
     "output_type": "stream",
     "text": [
      "Hyperparameters: {'batch_size': 64, 'lr': 1e-05, 'epochs': 10}\n",
      "Epoch 1/10, Loss: 0.011847384748158284\n",
      "Epoch 2/10, Loss: 0.010376686484697662\n",
      "Epoch 3/10, Loss: 0.009373898426845243\n",
      "Epoch 4/10, Loss: 0.008750129711972013\n",
      "Epoch 5/10, Loss: 0.008285377631223716\n",
      "Epoch 6/10, Loss: 0.007975237364642878\n",
      "Epoch 7/10, Loss: 0.007706386104987276\n",
      "Epoch 8/10, Loss: 0.007495529293769254\n",
      "Epoch 9/10, Loss: 0.007374110414474832\n",
      "Epoch 10/10, Loss: 0.007198305740950693\n"
     ]
    },
    {
     "name": "stderr",
     "output_type": "stream",
     "text": [
      "\t0.2583\t = Validation score   (pearsonr)\n",
      "\t275.8s\t = Training   runtime\n",
      "\t4.22s\t = Validation runtime\n",
      "Fitting model: WeightedEnsemble_L2 ... Training model for up to 360.0s of the 1513.13s of remaining time.\n",
      "\t0.2583\t = Validation score   (pearsonr)\n",
      "\t0.0s\t = Training   runtime\n",
      "\t0.0s\t = Validation runtime\n",
      "AutoGluon training complete, total runtime = 288.74s ... Best model: \"WeightedEnsemble_L2\"\n",
      "TabularPredictor saved. To load, use: predictor = TabularPredictor.load(\"AutogluonModels/ag-20230630_023946/\")\n"
     ]
    },
    {
     "data": {
      "text/plain": [
       "<autogluon.tabular.predictor.predictor.TabularPredictor at 0x2af2884674c0>"
      ]
     },
     "execution_count": 29,
     "metadata": {},
     "output_type": "execute_result"
    }
   ],
   "source": [
    "from autogluon.tabular import TabularDataset, TabularPredictor\n",
    "\n",
    "custom_hyperparameters = {ConvNetModel: {}}\n",
    "# custom_hyperparameters = {NaiveBayesModel: [{}, {'var_smoothing': 0.00001}, {'var_smoothing': 0.000002}]}  # Train 3 NaiveBayes models with different hyperparameters\n",
    "predictor1 = TabularPredictor(label=label, eval_metric=\"pearsonr\")\n",
    "predictor1.fit(train_data=one_hot_train_data1, tuning_data=one_hot_valid_data1, hyperparameters=custom_hyperparameters,feature_generator=None,time_limit=1800)"
   ]
  },
  {
   "cell_type": "code",
   "execution_count": 30,
   "id": "3837f0ad",
   "metadata": {},
   "outputs": [
    {
     "data": {
      "text/plain": [
       "{'pearsonr': 0.20905030079025533,\n",
       " 'accuracy': 0.6039304610733183,\n",
       " 'balanced_accuracy': 0.6086142784480076,\n",
       " 'mcc': 0.2090503007902555,\n",
       " 'roc_auc': 0.6358413044873852,\n",
       " 'f1': 0.6552631578947369,\n",
       " 'precision': 0.7345132743362832,\n",
       " 'recall': 0.5914489311163895}"
      ]
     },
     "execution_count": 30,
     "metadata": {},
     "output_type": "execute_result"
    }
   ],
   "source": [
    "predictor1.evaluate(one_hot_test_data, silent=True)"
   ]
  },
  {
   "cell_type": "code",
   "execution_count": 31,
   "id": "64e6972d",
   "metadata": {},
   "outputs": [
    {
     "data": {
      "text/plain": [
       "{'pearsonr': 0.258276471621472,\n",
       " 'accuracy': 0.671423717295277,\n",
       " 'balanced_accuracy': 0.6349802251795709,\n",
       " 'mcc': 0.25827647162147194,\n",
       " 'roc_auc': 0.6645080531441414,\n",
       " 'f1': 0.7558697298661954,\n",
       " 'precision': 0.7887249736564805,\n",
       " 'recall': 0.7256422685409598}"
      ]
     },
     "execution_count": 31,
     "metadata": {},
     "output_type": "execute_result"
    }
   ],
   "source": [
    "predictor1.evaluate(one_hot_valid_data1, silent=True)"
   ]
  },
  {
   "cell_type": "code",
   "execution_count": null,
   "id": "71fb4587",
   "metadata": {},
   "outputs": [],
   "source": []
  },
  {
   "cell_type": "code",
   "execution_count": 32,
   "id": "6c118276",
   "metadata": {
    "scrolled": true
   },
   "outputs": [
    {
     "name": "stderr",
     "output_type": "stream",
     "text": [
      "No path specified. Models will be saved in: \"AutogluonModels/ag-20230630_025230/\"\n",
      "Warning: hyperparameter tuning is currently experimental and may cause the process to hang.\n",
      "Warning: Training may take a very long time because `time_limit` was not specified and `train_data` is large (8281 samples, 89.35 MB).\n",
      "\tConsider setting `time_limit` to ensure training finishes within an expected duration or experiment with a small portion of `train_data` to identify an ideal `presets` and `hyperparameters` configuration.\n",
      "Beginning AutoGluon training ...\n",
      "AutoGluon will save models to \"AutogluonModels/ag-20230630_025230/\"\n",
      "AutoGluon Version:  0.8.0\n",
      "Python Version:     3.9.0\n",
      "Operating System:   Linux\n",
      "Platform Machine:   x86_64\n",
      "Platform Version:   #1 SMP Thu Jun 10 13:32:12 UTC 2021\n",
      "Disk Space Avail:   200543.49 GB / 595935.30 GB (33.7%)\n",
      "Train Data Rows:    8281\n",
      "Train Data Columns: 10781\n",
      "Tuning Data Rows:    2943\n",
      "Tuning Data Columns: 10781\n",
      "Label Column: solubility\n",
      "Preprocessing data ...\n",
      "AutoGluon infers your prediction problem is: 'binary' (because only two unique label-values observed).\n",
      "\t2 unique label values:  [1, 0]\n",
      "\tIf 'binary' is not the correct problem_type, please manually specify the problem_type parameter during predictor init (You may specify problem_type as one of: ['binary', 'multiclass', 'regression'])\n",
      "Selected class <--> label mapping:  class 1 = 1, class 0 = 0\n",
      "Using Feature Generators to preprocess the data ...\n",
      "Fitting IdentityFeatureGenerator...\n",
      "\tInferring data type of each feature based on column values. Set feature_metadata_in to manually specify special dtypes of the features.\n",
      "Data preprocessing and feature engineering runtime = 4.4s ...\n",
      "AutoGluon will gauge predictive performance using evaluation metric: 'accuracy'\n",
      "\tTo change this, specify the eval_metric parameter of Predictor()\n",
      "User-specified model hyperparameters to be fit:\n",
      "{\n",
      "\t'<class '__main__.ConvNetModel'>': {'batch_size': Categorical[128], 'lr': Real: lower=0.0001, upper=0.01, 'epochs': 10},\n",
      "}\n",
      "Custom Model Type Detected: <class '__main__.ConvNetModel'>\n",
      "Fitting 1 L1 models ...\n",
      "Hyperparameter tuning model: ConvNetModel ...\n",
      "  0%|                                                                                                | 0/1 [00:00<?, ?it/s]"
     ]
    },
    {
     "name": "stdout",
     "output_type": "stream",
     "text": [
      "Hyperparameters: {'batch_size': 128, 'lr': 0.0005, 'epochs': 10}\n",
      "Epoch 1/10, Loss: 0.005282002404582283\n",
      "Epoch 2/10, Loss: 0.004434149196334772\n",
      "Epoch 3/10, Loss: 0.0036115422583968006\n",
      "Epoch 4/10, Loss: 0.0028793907060440057\n",
      "Epoch 5/10, Loss: 0.0023020511609375613\n",
      "Epoch 6/10, Loss: 0.0019339724480853882\n",
      "Epoch 7/10, Loss: 0.0016982740731706308\n",
      "Epoch 8/10, Loss: 0.0014651577738428042\n",
      "Epoch 9/10, Loss: 0.001308158286569948\n",
      "Epoch 10/10, Loss: 0.0011819134653154426\n"
     ]
    },
    {
     "name": "stderr",
     "output_type": "stream",
     "text": [
      "100%|███████████████████████████████████████████████████████████████████████████████████████| 1/1 [05:19<00:00, 319.28s/it]\n",
      "Fitted model: ConvNetModel/T1 ...\n",
      "\t0.6721\t = Validation score   (accuracy)\n",
      "\t313.71s\t = Training   runtime\n",
      "\t4.23s\t = Validation runtime\n",
      "Fitting model: WeightedEnsemble_L2 ...\n",
      "\t0.6721\t = Validation score   (accuracy)\n",
      "\t0.01s\t = Training   runtime\n",
      "\t0.0s\t = Validation runtime\n",
      "AutoGluon training complete, total runtime = 342.33s ... Best model: \"WeightedEnsemble_L2\"\n",
      "TabularPredictor saved. To load, use: predictor = TabularPredictor.load(\"AutogluonModels/ag-20230630_025230/\")\n"
     ]
    },
    {
     "data": {
      "text/plain": [
       "<autogluon.tabular.predictor.predictor.TabularPredictor at 0x2af29a1e75b0>"
      ]
     },
     "execution_count": 32,
     "metadata": {},
     "output_type": "execute_result"
    }
   ],
   "source": [
    "from autogluon.common import space\n",
    "\n",
    "ConvNetoptions =  {\n",
    "    \"batch_size\":space.Categorical(128), \n",
    "    'lr': space.Real(1e-4, 1e-2, default=5e-4, log=True),\n",
    "    \"epochs\":10, \n",
    "}\n",
    "hyperparameters = get_hyperparameter_config('default')\n",
    "custom_hyperparameters = {ConvNetModel: ConvNetoptions}\n",
    "hyperparameters[\"ConvNetModel\"] = ConvNetoptions\n",
    "print()\n",
    "\n",
    "tune_kwargs = {\n",
    "                  \"searcher\": \"bayes\", # bayes\n",
    "                  \"scheduler\": \"local\",\n",
    "                  \"num_trials\": 5,\n",
    "              }\n",
    "predictor = TabularPredictor(label=label)\n",
    "predictor.fit(train_data=one_hot_train_data1, \n",
    "              tuning_data=one_hot_valid_data1, \n",
    "              hyperparameters=custom_hyperparameters, \n",
    "              hyperparameter_tune_kwargs= \"auto\",\n",
    "              feature_generator=None, )  "
   ]
  },
  {
   "cell_type": "code",
   "execution_count": 33,
   "id": "7fd78414",
   "metadata": {},
   "outputs": [
    {
     "data": {
      "text/plain": [
       "{'pearsonr': 0.20905030079025533,\n",
       " 'accuracy': 0.6039304610733183,\n",
       " 'balanced_accuracy': 0.6086142784480076,\n",
       " 'mcc': 0.2090503007902555,\n",
       " 'roc_auc': 0.6358413044873852,\n",
       " 'f1': 0.6552631578947369,\n",
       " 'precision': 0.7345132743362832,\n",
       " 'recall': 0.5914489311163895}"
      ]
     },
     "execution_count": 33,
     "metadata": {},
     "output_type": "execute_result"
    }
   ],
   "source": [
    "predictor1.evaluate(one_hot_test_data, silent=True)"
   ]
  },
  {
   "cell_type": "code",
   "execution_count": 34,
   "id": "7720f188",
   "metadata": {},
   "outputs": [
    {
     "data": {
      "text/plain": [
       "{'pearsonr': 0.258276471621472,\n",
       " 'accuracy': 0.671423717295277,\n",
       " 'balanced_accuracy': 0.6349802251795709,\n",
       " 'mcc': 0.25827647162147194,\n",
       " 'roc_auc': 0.6645080531441414,\n",
       " 'f1': 0.7558697298661954,\n",
       " 'precision': 0.7887249736564805,\n",
       " 'recall': 0.7256422685409598}"
      ]
     },
     "execution_count": 34,
     "metadata": {},
     "output_type": "execute_result"
    }
   ],
   "source": [
    "predictor1.evaluate(one_hot_valid_data1, silent=True)"
   ]
  },
  {
   "cell_type": "code",
   "execution_count": null,
   "id": "6549c929",
   "metadata": {},
   "outputs": [],
   "source": []
  },
  {
   "cell_type": "code",
   "execution_count": null,
   "id": "b469d9a6",
   "metadata": {},
   "outputs": [],
   "source": [
    "custom_hyperparameters = get_hyperparameter_config('default')\n",
    "\n",
    "custom_hyperparameters[CustomRandomForestModel] = best_model_info['hyperparameters']"
   ]
  },
  {
   "cell_type": "code",
   "execution_count": 38,
   "id": "b8c5d775",
   "metadata": {},
   "outputs": [
    {
     "data": {
      "text/plain": [
       "{'XT': [{'criterion': 'gini',\n",
       "   'ag_args': {'name_suffix': 'Gini',\n",
       "    'problem_types': ['binary', 'multiclass']}},\n",
       "  {'criterion': 'entropy',\n",
       "   'ag_args': {'name_suffix': 'Entr',\n",
       "    'problem_types': ['binary', 'multiclass']}},\n",
       "  {'criterion': 'squared_error',\n",
       "   'ag_args': {'name_suffix': 'MSE',\n",
       "    'problem_types': ['regression', 'quantile']}}]}"
      ]
     },
     "execution_count": 38,
     "metadata": {},
     "output_type": "execute_result"
    }
   ],
   "source": [
    "hyperparameters = get_hyperparameter_config('default')"
   ]
  },
  {
   "cell_type": "code",
   "execution_count": 71,
   "id": "0186044e",
   "metadata": {},
   "outputs": [
    {
     "name": "stdout",
     "output_type": "stream",
     "text": [
      "{'NN_TORCH': {}, 'GBM': [{'extra_trees': True, 'ag_args': {'name_suffix': 'XT'}}, {}, 'GBMLarge'], 'CAT': {}, 'XGB': {}, 'FASTAI': {}, 'RF': [{'criterion': 'gini', 'ag_args': {'name_suffix': 'Gini', 'problem_types': ['binary', 'multiclass']}}, {'criterion': 'entropy', 'ag_args': {'name_suffix': 'Entr', 'problem_types': ['binary', 'multiclass']}}, {'criterion': 'squared_error', 'ag_args': {'name_suffix': 'MSE', 'problem_types': ['regression', 'quantile']}}], 'XT': [{'criterion': 'gini', 'ag_args': {'name_suffix': 'Gini', 'problem_types': ['binary', 'multiclass']}}, {'criterion': 'entropy', 'ag_args': {'name_suffix': 'Entr', 'problem_types': ['binary', 'multiclass']}}, {'criterion': 'squared_error', 'ag_args': {'name_suffix': 'MSE', 'problem_types': ['regression', 'quantile']}}], 'KNN': [{'weights': 'uniform', 'ag_args': {'name_suffix': 'Unif'}}, {'weights': 'distance', 'ag_args': {'name_suffix': 'Dist'}}], <class '__main__.ConvNetModel'>: {'batch_size': 128, 'lr': Real: lower=1e-06, upper=0.1, 'epochs': 10}}\n"
     ]
    }
   ],
   "source": [
    "from autogluon.common import space\n",
    "\n",
    "ConvNetoptions =  {\n",
    "    \"batch_size\":128, \n",
    "    'lr': space.Real(1e-6, 1e-1, default=5e-4, log=True),\n",
    "    \"epochs\":10, \n",
    "}\n",
    "tune_kwargs = {\n",
    "                  \"searcher\": \"grid\", # bayes\n",
    "                  \"scheduler\": \"local\",\n",
    "                  \"num_trials\": 10,\n",
    "              }\n",
    "\n",
    "custom_hyperparameters = {ConvNetModel: ConvNetoptions}\n",
    "hyperparameters = get_hyperparameter_config('default')\n",
    "hyperparameters[ConvNetModel] = ConvNetoptions\n",
    "print(hyperparameters)\n"
   ]
  },
  {
   "cell_type": "code",
   "execution_count": 68,
   "id": "81c8e3bf",
   "metadata": {},
   "outputs": [
    {
     "name": "stderr",
     "output_type": "stream",
     "text": [
      "No path specified. Models will be saved in: \"AutogluonModels/ag-20230630_083935/\"\n",
      "Warning: hyperparameter tuning is currently experimental and may cause the process to hang.\n",
      "Warning: Training may take a very long time because `time_limit` was not specified and `train_data` is large (8281 samples, 89.35 MB).\n",
      "\tConsider setting `time_limit` to ensure training finishes within an expected duration or experiment with a small portion of `train_data` to identify an ideal `presets` and `hyperparameters` configuration.\n",
      "Beginning AutoGluon training ...\n",
      "AutoGluon will save models to \"AutogluonModels/ag-20230630_083935/\"\n",
      "AutoGluon Version:  0.8.0\n",
      "Python Version:     3.9.0\n",
      "Operating System:   Linux\n",
      "Platform Machine:   x86_64\n",
      "Platform Version:   #1 SMP Thu Jun 10 13:32:12 UTC 2021\n",
      "Disk Space Avail:   200382.14 GB / 595935.30 GB (33.6%)\n",
      "Train Data Rows:    8281\n",
      "Train Data Columns: 10781\n",
      "Tuning Data Rows:    2943\n",
      "Tuning Data Columns: 10781\n",
      "Label Column: solubility\n",
      "Preprocessing data ...\n",
      "AutoGluon infers your prediction problem is: 'binary' (because only two unique label-values observed).\n",
      "\t2 unique label values:  [1, 0]\n",
      "\tIf 'binary' is not the correct problem_type, please manually specify the problem_type parameter during predictor init (You may specify problem_type as one of: ['binary', 'multiclass', 'regression'])\n",
      "Selected class <--> label mapping:  class 1 = 1, class 0 = 0\n",
      "Using Feature Generators to preprocess the data ...\n",
      "Fitting IdentityFeatureGenerator...\n",
      "\tInferring data type of each feature based on column values. Set feature_metadata_in to manually specify special dtypes of the features.\n",
      "Data preprocessing and feature engineering runtime = 4.6s ...\n",
      "AutoGluon will gauge predictive performance using evaluation metric: 'accuracy'\n",
      "\tTo change this, specify the eval_metric parameter of Predictor()\n",
      "User-specified model hyperparameters to be fit:\n",
      "{\n",
      "\t'<class '__main__.ConvNetModel'>': {'batch_size': 128, 'lr': Real: lower=1e-06, upper=0.1, 'epochs': 10},\n",
      "}\n",
      "Custom Model Type Detected: <class '__main__.ConvNetModel'>\n",
      "Fitting 1 L1 models ...\n",
      "Hyperparameter tuning model: ConvNetModel ...\n",
      "Warning: Exception caused ConvNetModel to fail during hyperparameter tuning... Skipping this model.\n",
      "Traceback (most recent call last):\n",
      "  File \"/user/mahaohui/miniconda3/envs/autoML/lib/python3.9/site-packages/autogluon/core/trainer/abstract_trainer.py\", line 1818, in _train_single_full\n",
      "    hpo_models, hpo_results = model.hyperparameter_tune(\n",
      "  File \"/user/mahaohui/miniconda3/envs/autoML/lib/python3.9/site-packages/autogluon/core/models/abstract/abstract_model.py\", line 1365, in hyperparameter_tune\n",
      "    return self._hyperparameter_tune(hpo_executor=hpo_executor, **kwargs)\n",
      "  File \"/user/mahaohui/miniconda3/envs/autoML/lib/python3.9/site-packages/autogluon/core/models/abstract/abstract_model.py\", line 1418, in _hyperparameter_tune\n",
      "    hpo_executor.execute(\n",
      "  File \"/user/mahaohui/miniconda3/envs/autoML/lib/python3.9/site-packages/autogluon/core/hpo/executors.py\", line 559, in execute\n",
      "    scheduler = scheduler_cls(model_trial, search_space=self.search_space, train_fn_kwargs=train_fn_kwargs, **scheduler_params)\n",
      "  File \"/user/mahaohui/miniconda3/envs/autoML/lib/python3.9/site-packages/autogluon/core/scheduler/seq_scheduler.py\", line 97, in __init__\n",
      "    self.searcher: LocalSearcher = self.get_searcher_(searcher, train_fn, search_space=search_space, **kwargs)\n",
      "  File \"/user/mahaohui/miniconda3/envs/autoML/lib/python3.9/site-packages/autogluon/core/scheduler/seq_scheduler.py\", line 137, in get_searcher_\n",
      "    searcher = searcher_factory(searcher, **{**scheduler_opts, **_search_options})\n",
      "  File \"/user/mahaohui/miniconda3/envs/autoML/lib/python3.9/site-packages/autogluon/core/searcher/searcher_factory.py\", line 72, in searcher_factory\n",
      "    raise AssertionError(f'searcher \\'{searcher_name}\\' is not supported')\n",
      "AssertionError: searcher 'grid' is not supported\n",
      "searcher 'grid' is not supported\n",
      "No base models to train on, skipping auxiliary stack level 2...\n"
     ]
    },
    {
     "ename": "ValueError",
     "evalue": "AutoGluon did not successfully train any models",
     "output_type": "error",
     "traceback": [
      "\u001b[0;31m---------------------------------------------------------------------------\u001b[0m",
      "\u001b[0;31mValueError\u001b[0m                                Traceback (most recent call last)",
      "Cell \u001b[0;32mIn[68], line 2\u001b[0m\n\u001b[1;32m      1\u001b[0m predictor \u001b[38;5;241m=\u001b[39m TabularPredictor(label\u001b[38;5;241m=\u001b[39mlabel)\n\u001b[0;32m----> 2\u001b[0m \u001b[43mpredictor\u001b[49m\u001b[38;5;241;43m.\u001b[39;49m\u001b[43mfit\u001b[49m\u001b[43m(\u001b[49m\u001b[43mtrain_data\u001b[49m\u001b[38;5;241;43m=\u001b[39;49m\u001b[43mone_hot_train_data1\u001b[49m\u001b[43m,\u001b[49m\u001b[43m \u001b[49m\n\u001b[1;32m      3\u001b[0m \u001b[43m              \u001b[49m\u001b[43mtuning_data\u001b[49m\u001b[38;5;241;43m=\u001b[39;49m\u001b[43mone_hot_valid_data1\u001b[49m\u001b[43m,\u001b[49m\u001b[43m \u001b[49m\n\u001b[1;32m      4\u001b[0m \u001b[43m              \u001b[49m\u001b[43mhyperparameters\u001b[49m\u001b[38;5;241;43m=\u001b[39;49m\u001b[43mcustom_hyperparameters\u001b[49m\u001b[43m,\u001b[49m\u001b[43m \u001b[49m\n\u001b[1;32m      5\u001b[0m \u001b[43m              \u001b[49m\u001b[43mhyperparameter_tune_kwargs\u001b[49m\u001b[38;5;241;43m=\u001b[39;49m\u001b[43m \u001b[49m\u001b[43mtune_kwargs\u001b[49m\u001b[43m,\u001b[49m\n\u001b[1;32m      6\u001b[0m \u001b[43m              \u001b[49m\u001b[43mfeature_generator\u001b[49m\u001b[38;5;241;43m=\u001b[39;49m\u001b[38;5;28;43;01mNone\u001b[39;49;00m\u001b[43m,\u001b[49m\u001b[43m \u001b[49m\u001b[43m)\u001b[49m  \n",
      "File \u001b[0;32m~/miniconda3/envs/autoML/lib/python3.9/site-packages/autogluon/core/utils/decorators.py:30\u001b[0m, in \u001b[0;36munpack.<locals>._unpack_inner.<locals>._call\u001b[0;34m(*args, **kwargs)\u001b[0m\n\u001b[1;32m     27\u001b[0m \u001b[38;5;129m@functools\u001b[39m\u001b[38;5;241m.\u001b[39mwraps(f)\n\u001b[1;32m     28\u001b[0m \u001b[38;5;28;01mdef\u001b[39;00m \u001b[38;5;21m_call\u001b[39m(\u001b[38;5;241m*\u001b[39margs, \u001b[38;5;241m*\u001b[39m\u001b[38;5;241m*\u001b[39mkwargs):\n\u001b[1;32m     29\u001b[0m     gargs, gkwargs \u001b[38;5;241m=\u001b[39m g(\u001b[38;5;241m*\u001b[39mother_args, \u001b[38;5;241m*\u001b[39margs, \u001b[38;5;241m*\u001b[39m\u001b[38;5;241m*\u001b[39mkwargs)\n\u001b[0;32m---> 30\u001b[0m     \u001b[38;5;28;01mreturn\u001b[39;00m \u001b[43mf\u001b[49m\u001b[43m(\u001b[49m\u001b[38;5;241;43m*\u001b[39;49m\u001b[43mgargs\u001b[49m\u001b[43m,\u001b[49m\u001b[43m \u001b[49m\u001b[38;5;241;43m*\u001b[39;49m\u001b[38;5;241;43m*\u001b[39;49m\u001b[43mgkwargs\u001b[49m\u001b[43m)\u001b[49m\n",
      "File \u001b[0;32m~/miniconda3/envs/autoML/lib/python3.9/site-packages/autogluon/tabular/predictor/predictor.py:951\u001b[0m, in \u001b[0;36mTabularPredictor.fit\u001b[0;34m(self, train_data, tuning_data, time_limit, presets, hyperparameters, feature_metadata, infer_limit, infer_limit_batch_size, fit_weighted_ensemble, calibrate_decision_threshold, num_cpus, num_gpus, **kwargs)\u001b[0m\n\u001b[1;32m    949\u001b[0m     aux_kwargs[\u001b[38;5;124m'\u001b[39m\u001b[38;5;124mfit_weighted_ensemble\u001b[39m\u001b[38;5;124m'\u001b[39m] \u001b[38;5;241m=\u001b[39m \u001b[38;5;28;01mFalse\u001b[39;00m\n\u001b[1;32m    950\u001b[0m \u001b[38;5;28mself\u001b[39m\u001b[38;5;241m.\u001b[39msave(silent\u001b[38;5;241m=\u001b[39m\u001b[38;5;28;01mTrue\u001b[39;00m)  \u001b[38;5;66;03m# Save predictor to disk to enable prediction and training after interrupt\u001b[39;00m\n\u001b[0;32m--> 951\u001b[0m \u001b[38;5;28;43mself\u001b[39;49m\u001b[38;5;241;43m.\u001b[39;49m\u001b[43m_learner\u001b[49m\u001b[38;5;241;43m.\u001b[39;49m\u001b[43mfit\u001b[49m\u001b[43m(\u001b[49m\u001b[43mX\u001b[49m\u001b[38;5;241;43m=\u001b[39;49m\u001b[43mtrain_data\u001b[49m\u001b[43m,\u001b[49m\u001b[43m \u001b[49m\u001b[43mX_val\u001b[49m\u001b[38;5;241;43m=\u001b[39;49m\u001b[43mtuning_data\u001b[49m\u001b[43m,\u001b[49m\u001b[43m \u001b[49m\u001b[43mX_unlabeled\u001b[49m\u001b[38;5;241;43m=\u001b[39;49m\u001b[43munlabeled_data\u001b[49m\u001b[43m,\u001b[49m\n\u001b[1;32m    952\u001b[0m \u001b[43m                  \u001b[49m\u001b[43mholdout_frac\u001b[49m\u001b[38;5;241;43m=\u001b[39;49m\u001b[43mholdout_frac\u001b[49m\u001b[43m,\u001b[49m\u001b[43m \u001b[49m\u001b[43mnum_bag_folds\u001b[49m\u001b[38;5;241;43m=\u001b[39;49m\u001b[43mnum_bag_folds\u001b[49m\u001b[43m,\u001b[49m\u001b[43m \u001b[49m\u001b[43mnum_bag_sets\u001b[49m\u001b[38;5;241;43m=\u001b[39;49m\u001b[43mnum_bag_sets\u001b[49m\u001b[43m,\u001b[49m\n\u001b[1;32m    953\u001b[0m \u001b[43m                  \u001b[49m\u001b[43mnum_stack_levels\u001b[49m\u001b[38;5;241;43m=\u001b[39;49m\u001b[43mnum_stack_levels\u001b[49m\u001b[43m,\u001b[49m\n\u001b[1;32m    954\u001b[0m \u001b[43m                  \u001b[49m\u001b[43mhyperparameters\u001b[49m\u001b[38;5;241;43m=\u001b[39;49m\u001b[43mhyperparameters\u001b[49m\u001b[43m,\u001b[49m\u001b[43m \u001b[49m\u001b[43mcore_kwargs\u001b[49m\u001b[38;5;241;43m=\u001b[39;49m\u001b[43mcore_kwargs\u001b[49m\u001b[43m,\u001b[49m\u001b[43m \u001b[49m\u001b[43maux_kwargs\u001b[49m\u001b[38;5;241;43m=\u001b[39;49m\u001b[43maux_kwargs\u001b[49m\u001b[43m,\u001b[49m\n\u001b[1;32m    955\u001b[0m \u001b[43m                  \u001b[49m\u001b[43mtime_limit\u001b[49m\u001b[38;5;241;43m=\u001b[39;49m\u001b[43mtime_limit\u001b[49m\u001b[43m,\u001b[49m\u001b[43m \u001b[49m\u001b[43minfer_limit\u001b[49m\u001b[38;5;241;43m=\u001b[39;49m\u001b[43minfer_limit\u001b[49m\u001b[43m,\u001b[49m\u001b[43m \u001b[49m\u001b[43minfer_limit_batch_size\u001b[49m\u001b[38;5;241;43m=\u001b[39;49m\u001b[43minfer_limit_batch_size\u001b[49m\u001b[43m,\u001b[49m\n\u001b[1;32m    956\u001b[0m \u001b[43m                  \u001b[49m\u001b[43mverbosity\u001b[49m\u001b[38;5;241;43m=\u001b[39;49m\u001b[43mverbosity\u001b[49m\u001b[43m,\u001b[49m\u001b[43m \u001b[49m\u001b[43muse_bag_holdout\u001b[49m\u001b[38;5;241;43m=\u001b[39;49m\u001b[43muse_bag_holdout\u001b[49m\u001b[43m)\u001b[49m\n\u001b[1;32m    957\u001b[0m \u001b[38;5;28mself\u001b[39m\u001b[38;5;241m.\u001b[39m_set_post_fit_vars()\n\u001b[1;32m    959\u001b[0m \u001b[38;5;28mself\u001b[39m\u001b[38;5;241m.\u001b[39m_post_fit(\n\u001b[1;32m    960\u001b[0m     keep_only_best\u001b[38;5;241m=\u001b[39mkwargs[\u001b[38;5;124m'\u001b[39m\u001b[38;5;124mkeep_only_best\u001b[39m\u001b[38;5;124m'\u001b[39m],\n\u001b[1;32m    961\u001b[0m     refit_full\u001b[38;5;241m=\u001b[39mkwargs[\u001b[38;5;124m'\u001b[39m\u001b[38;5;124mrefit_full\u001b[39m\u001b[38;5;124m'\u001b[39m],\n\u001b[0;32m   (...)\u001b[0m\n\u001b[1;32m    966\u001b[0m     infer_limit\u001b[38;5;241m=\u001b[39minfer_limit,\n\u001b[1;32m    967\u001b[0m )\n",
      "File \u001b[0;32m~/miniconda3/envs/autoML/lib/python3.9/site-packages/autogluon/tabular/learner/abstract_learner.py:131\u001b[0m, in \u001b[0;36mAbstractTabularLearner.fit\u001b[0;34m(self, X, X_val, **kwargs)\u001b[0m\n\u001b[1;32m    129\u001b[0m     \u001b[38;5;28;01mraise\u001b[39;00m \u001b[38;5;167;01mAssertionError\u001b[39;00m(\u001b[38;5;124m'\u001b[39m\u001b[38;5;124mLearner is already fit.\u001b[39m\u001b[38;5;124m'\u001b[39m)\n\u001b[1;32m    130\u001b[0m \u001b[38;5;28mself\u001b[39m\u001b[38;5;241m.\u001b[39m_validate_fit_input(X\u001b[38;5;241m=\u001b[39mX, X_val\u001b[38;5;241m=\u001b[39mX_val, \u001b[38;5;241m*\u001b[39m\u001b[38;5;241m*\u001b[39mkwargs)\n\u001b[0;32m--> 131\u001b[0m \u001b[38;5;28;01mreturn\u001b[39;00m \u001b[38;5;28;43mself\u001b[39;49m\u001b[38;5;241;43m.\u001b[39;49m\u001b[43m_fit\u001b[49m\u001b[43m(\u001b[49m\u001b[43mX\u001b[49m\u001b[38;5;241;43m=\u001b[39;49m\u001b[43mX\u001b[49m\u001b[43m,\u001b[49m\u001b[43m \u001b[49m\u001b[43mX_val\u001b[49m\u001b[38;5;241;43m=\u001b[39;49m\u001b[43mX_val\u001b[49m\u001b[43m,\u001b[49m\u001b[43m \u001b[49m\u001b[38;5;241;43m*\u001b[39;49m\u001b[38;5;241;43m*\u001b[39;49m\u001b[43mkwargs\u001b[49m\u001b[43m)\u001b[49m\n",
      "File \u001b[0;32m~/miniconda3/envs/autoML/lib/python3.9/site-packages/autogluon/tabular/learner/default_learner.py:144\u001b[0m, in \u001b[0;36mDefaultLearner._fit\u001b[0;34m(self, X, X_val, X_unlabeled, holdout_frac, num_bag_folds, num_bag_sets, time_limit, infer_limit, infer_limit_batch_size, verbosity, **trainer_fit_kwargs)\u001b[0m\n\u001b[1;32m    141\u001b[0m     \u001b[38;5;28mself\u001b[39m\u001b[38;5;241m.\u001b[39meval_metric \u001b[38;5;241m=\u001b[39m trainer\u001b[38;5;241m.\u001b[39meval_metric\n\u001b[1;32m    143\u001b[0m \u001b[38;5;28mself\u001b[39m\u001b[38;5;241m.\u001b[39msave()\n\u001b[0;32m--> 144\u001b[0m \u001b[43mtrainer\u001b[49m\u001b[38;5;241;43m.\u001b[39;49m\u001b[43mfit\u001b[49m\u001b[43m(\u001b[49m\n\u001b[1;32m    145\u001b[0m \u001b[43m    \u001b[49m\u001b[43mX\u001b[49m\u001b[38;5;241;43m=\u001b[39;49m\u001b[43mX\u001b[49m\u001b[43m,\u001b[49m\n\u001b[1;32m    146\u001b[0m \u001b[43m    \u001b[49m\u001b[43my\u001b[49m\u001b[38;5;241;43m=\u001b[39;49m\u001b[43my\u001b[49m\u001b[43m,\u001b[49m\n\u001b[1;32m    147\u001b[0m \u001b[43m    \u001b[49m\u001b[43mX_val\u001b[49m\u001b[38;5;241;43m=\u001b[39;49m\u001b[43mX_val\u001b[49m\u001b[43m,\u001b[49m\n\u001b[1;32m    148\u001b[0m \u001b[43m    \u001b[49m\u001b[43my_val\u001b[49m\u001b[38;5;241;43m=\u001b[39;49m\u001b[43my_val\u001b[49m\u001b[43m,\u001b[49m\n\u001b[1;32m    149\u001b[0m \u001b[43m    \u001b[49m\u001b[43mX_unlabeled\u001b[49m\u001b[38;5;241;43m=\u001b[39;49m\u001b[43mX_unlabeled\u001b[49m\u001b[43m,\u001b[49m\n\u001b[1;32m    150\u001b[0m \u001b[43m    \u001b[49m\u001b[43mholdout_frac\u001b[49m\u001b[38;5;241;43m=\u001b[39;49m\u001b[43mholdout_frac\u001b[49m\u001b[43m,\u001b[49m\n\u001b[1;32m    151\u001b[0m \u001b[43m    \u001b[49m\u001b[43mtime_limit\u001b[49m\u001b[38;5;241;43m=\u001b[39;49m\u001b[43mtime_limit_trainer\u001b[49m\u001b[43m,\u001b[49m\n\u001b[1;32m    152\u001b[0m \u001b[43m    \u001b[49m\u001b[43minfer_limit\u001b[49m\u001b[38;5;241;43m=\u001b[39;49m\u001b[43minfer_limit\u001b[49m\u001b[43m,\u001b[49m\n\u001b[1;32m    153\u001b[0m \u001b[43m    \u001b[49m\u001b[43minfer_limit_batch_size\u001b[49m\u001b[38;5;241;43m=\u001b[39;49m\u001b[43minfer_limit_batch_size\u001b[49m\u001b[43m,\u001b[49m\n\u001b[1;32m    154\u001b[0m \u001b[43m    \u001b[49m\u001b[43mgroups\u001b[49m\u001b[38;5;241;43m=\u001b[39;49m\u001b[43mgroups\u001b[49m\u001b[43m,\u001b[49m\n\u001b[1;32m    155\u001b[0m \u001b[43m    \u001b[49m\u001b[38;5;241;43m*\u001b[39;49m\u001b[38;5;241;43m*\u001b[39;49m\u001b[43mtrainer_fit_kwargs\u001b[49m\n\u001b[1;32m    156\u001b[0m \u001b[43m\u001b[49m\u001b[43m)\u001b[49m\n\u001b[1;32m    157\u001b[0m \u001b[38;5;28mself\u001b[39m\u001b[38;5;241m.\u001b[39msave_trainer(trainer\u001b[38;5;241m=\u001b[39mtrainer)\n\u001b[1;32m    158\u001b[0m time_end \u001b[38;5;241m=\u001b[39m time\u001b[38;5;241m.\u001b[39mtime()\n",
      "File \u001b[0;32m~/miniconda3/envs/autoML/lib/python3.9/site-packages/autogluon/tabular/trainer/auto_trainer.py:106\u001b[0m, in \u001b[0;36mAutoTrainer.fit\u001b[0;34m(self, X, y, hyperparameters, X_val, y_val, X_unlabeled, holdout_frac, num_stack_levels, core_kwargs, aux_kwargs, time_limit, infer_limit, infer_limit_batch_size, use_bag_holdout, groups, **kwargs)\u001b[0m\n\u001b[1;32m    103\u001b[0m log_str \u001b[38;5;241m+\u001b[39m\u001b[38;5;241m=\u001b[39m \u001b[38;5;124m'\u001b[39m\u001b[38;5;124m}\u001b[39m\u001b[38;5;124m'\u001b[39m\n\u001b[1;32m    104\u001b[0m logger\u001b[38;5;241m.\u001b[39mlog(\u001b[38;5;241m20\u001b[39m, log_str)\n\u001b[0;32m--> 106\u001b[0m \u001b[38;5;28;43mself\u001b[39;49m\u001b[38;5;241;43m.\u001b[39;49m\u001b[43m_train_multi_and_ensemble\u001b[49m\u001b[43m(\u001b[49m\u001b[43mX\u001b[49m\u001b[38;5;241;43m=\u001b[39;49m\u001b[43mX\u001b[49m\u001b[43m,\u001b[49m\n\u001b[1;32m    107\u001b[0m \u001b[43m                               \u001b[49m\u001b[43my\u001b[49m\u001b[38;5;241;43m=\u001b[39;49m\u001b[43my\u001b[49m\u001b[43m,\u001b[49m\n\u001b[1;32m    108\u001b[0m \u001b[43m                               \u001b[49m\u001b[43mX_val\u001b[49m\u001b[38;5;241;43m=\u001b[39;49m\u001b[43mX_val\u001b[49m\u001b[43m,\u001b[49m\n\u001b[1;32m    109\u001b[0m \u001b[43m                               \u001b[49m\u001b[43my_val\u001b[49m\u001b[38;5;241;43m=\u001b[39;49m\u001b[43my_val\u001b[49m\u001b[43m,\u001b[49m\n\u001b[1;32m    110\u001b[0m \u001b[43m                               \u001b[49m\u001b[43mX_unlabeled\u001b[49m\u001b[38;5;241;43m=\u001b[39;49m\u001b[43mX_unlabeled\u001b[49m\u001b[43m,\u001b[49m\n\u001b[1;32m    111\u001b[0m \u001b[43m                               \u001b[49m\u001b[43mhyperparameters\u001b[49m\u001b[38;5;241;43m=\u001b[39;49m\u001b[43mhyperparameters\u001b[49m\u001b[43m,\u001b[49m\n\u001b[1;32m    112\u001b[0m \u001b[43m                               \u001b[49m\u001b[43mnum_stack_levels\u001b[49m\u001b[38;5;241;43m=\u001b[39;49m\u001b[43mnum_stack_levels\u001b[49m\u001b[43m,\u001b[49m\n\u001b[1;32m    113\u001b[0m \u001b[43m                               \u001b[49m\u001b[43mtime_limit\u001b[49m\u001b[38;5;241;43m=\u001b[39;49m\u001b[43mtime_limit\u001b[49m\u001b[43m,\u001b[49m\n\u001b[1;32m    114\u001b[0m \u001b[43m                               \u001b[49m\u001b[43mcore_kwargs\u001b[49m\u001b[38;5;241;43m=\u001b[39;49m\u001b[43mcore_kwargs\u001b[49m\u001b[43m,\u001b[49m\n\u001b[1;32m    115\u001b[0m \u001b[43m                               \u001b[49m\u001b[43maux_kwargs\u001b[49m\u001b[38;5;241;43m=\u001b[39;49m\u001b[43maux_kwargs\u001b[49m\u001b[43m,\u001b[49m\n\u001b[1;32m    116\u001b[0m \u001b[43m                               \u001b[49m\u001b[43minfer_limit\u001b[49m\u001b[38;5;241;43m=\u001b[39;49m\u001b[43minfer_limit\u001b[49m\u001b[43m,\u001b[49m\n\u001b[1;32m    117\u001b[0m \u001b[43m                               \u001b[49m\u001b[43minfer_limit_batch_size\u001b[49m\u001b[38;5;241;43m=\u001b[39;49m\u001b[43minfer_limit_batch_size\u001b[49m\u001b[43m,\u001b[49m\n\u001b[1;32m    118\u001b[0m \u001b[43m                               \u001b[49m\u001b[43mgroups\u001b[49m\u001b[38;5;241;43m=\u001b[39;49m\u001b[43mgroups\u001b[49m\u001b[43m)\u001b[49m\n",
      "File \u001b[0;32m~/miniconda3/envs/autoML/lib/python3.9/site-packages/autogluon/core/trainer/abstract_trainer.py:2096\u001b[0m, in \u001b[0;36mAbstractTrainer._train_multi_and_ensemble\u001b[0;34m(self, X, y, X_val, y_val, hyperparameters, X_unlabeled, num_stack_levels, time_limit, groups, **kwargs)\u001b[0m\n\u001b[1;32m   2093\u001b[0m model_names_fit \u001b[38;5;241m=\u001b[39m \u001b[38;5;28mself\u001b[39m\u001b[38;5;241m.\u001b[39mtrain_multi_levels(X, y, hyperparameters\u001b[38;5;241m=\u001b[39mhyperparameters, X_val\u001b[38;5;241m=\u001b[39mX_val, y_val\u001b[38;5;241m=\u001b[39my_val,\n\u001b[1;32m   2094\u001b[0m                                           X_unlabeled\u001b[38;5;241m=\u001b[39mX_unlabeled, level_start\u001b[38;5;241m=\u001b[39m\u001b[38;5;241m1\u001b[39m, level_end\u001b[38;5;241m=\u001b[39mnum_stack_levels\u001b[38;5;241m+\u001b[39m\u001b[38;5;241m1\u001b[39m, time_limit\u001b[38;5;241m=\u001b[39mtime_limit, \u001b[38;5;241m*\u001b[39m\u001b[38;5;241m*\u001b[39mkwargs)\n\u001b[1;32m   2095\u001b[0m \u001b[38;5;28;01mif\u001b[39;00m \u001b[38;5;28mlen\u001b[39m(\u001b[38;5;28mself\u001b[39m\u001b[38;5;241m.\u001b[39mget_model_names()) \u001b[38;5;241m==\u001b[39m \u001b[38;5;241m0\u001b[39m:\n\u001b[0;32m-> 2096\u001b[0m     \u001b[38;5;28;01mraise\u001b[39;00m \u001b[38;5;167;01mValueError\u001b[39;00m(\u001b[38;5;124m'\u001b[39m\u001b[38;5;124mAutoGluon did not successfully train any models\u001b[39m\u001b[38;5;124m'\u001b[39m)\n\u001b[1;32m   2097\u001b[0m \u001b[38;5;28;01mreturn\u001b[39;00m model_names_fit\n",
      "\u001b[0;31mValueError\u001b[0m: AutoGluon did not successfully train any models"
     ]
    }
   ],
   "source": [
    "predictor = TabularPredictor(label=label)\n",
    "predictor.fit(train_data=one_hot_train_data1, \n",
    "              tuning_data=one_hot_valid_data1, \n",
    "              hyperparameters=custom_hyperparameters, \n",
    "              hyperparameter_tune_kwargs= tune_kwargs,\n",
    "              feature_generator=None, )  \n"
   ]
  },
  {
   "cell_type": "code",
   "execution_count": 33,
   "id": "19717a48",
   "metadata": {},
   "outputs": [
    {
     "data": {
      "text/plain": [
       "{'accuracy': 0.76,\n",
       " 'balanced_accuracy': 0.5,\n",
       " 'mcc': 0.0,\n",
       " 'roc_auc': 0.44243421052631576,\n",
       " 'f1': 0.8636363636363636,\n",
       " 'precision': 0.76,\n",
       " 'recall': 1.0}"
      ]
     },
     "execution_count": 33,
     "metadata": {},
     "output_type": "execute_result"
    }
   ],
   "source": [
    "predictor.evaluate(one_hot_test_data, silent=True)"
   ]
  },
  {
   "cell_type": "code",
   "execution_count": 34,
   "id": "0c3ff2e2",
   "metadata": {},
   "outputs": [
    {
     "data": {
      "text/plain": [
       "{'accuracy': 0.8359788359788359,\n",
       " 'balanced_accuracy': 0.5,\n",
       " 'mcc': 0.0,\n",
       " 'roc_auc': 0.5160269497754186,\n",
       " 'f1': 0.9106628242074928,\n",
       " 'precision': 0.8359788359788359,\n",
       " 'recall': 1.0}"
      ]
     },
     "execution_count": 34,
     "metadata": {},
     "output_type": "execute_result"
    }
   ],
   "source": [
    "predictor.evaluate(one_hot_valid_data1, silent=True)"
   ]
  },
  {
   "cell_type": "code",
   "execution_count": null,
   "id": "7bcbeb36",
   "metadata": {},
   "outputs": [],
   "source": []
  },
  {
   "cell_type": "code",
   "execution_count": null,
   "id": "d0b2b1c7",
   "metadata": {},
   "outputs": [],
   "source": [
    "{'name': 'CustomRandomForestModel/T4', 'model_type': 'CustomRandomForestModel', 'problem_type': 'binary', 'eval_metric': 'accuracy', 'stopping_metric': 'accuracy', 'fit_time': 0.5498244762420654, 'num_classes': 2, 'quantile_levels': None, 'predict_time': 0.057376861572265625, 'val_score': 0.855, 'hyperparameters': {'n_estimators': 300, 'n_jobs': -1, 'random_state': 0, 'max_depth': 26, 'max_features': 0.4459435365634299, 'criterion': 'entropy'}, 'hyperparameters_fit': {}, 'hyperparameters_nondefault': ['max_depth', 'max_features', 'criterion', 'n_estimators', 'n_jobs', 'random_state'], 'ag_args_fit': {'max_memory_usage_ratio': 1.0, 'max_time_limit_ratio': 1.0, 'max_time_limit': None, 'min_time_limit': 0, 'valid_raw_types': ['int', 'float', 'category'], 'valid_special_types': None, 'ignored_type_group_special': None, 'ignored_type_group_raw': None, 'get_features_kwargs': None, 'get_features_kwargs_extra': None, 'predict_1_batch_size': None, 'temperature_scalar': None}, 'num_features': 14, 'features': ['age', 'fnlwgt', 'education-num', 'sex', 'capital-gain', 'capital-loss', 'hours-per-week', 'workclass', 'education', 'marital-status', 'occupation', 'relationship', 'race', 'native-country'], 'feature_metadata': <autogluon.common.features.feature_metadata.FeatureMetadata object at 0x7f852d7077f0>, 'memory_size': 4331543, 'compile_time': None}\n",
    "Best Model Hyperparameters (CustomRandomForestModel/T4):\n",
    "{'n_estimators': 300, 'n_jobs': -1, 'random_state': 0, 'max_depth': 26, 'max_features': 0.4459435365634299, 'criterion': 'entropy'}"
   ]
  },
  {
   "cell_type": "code",
   "execution_count": null,
   "id": "be713838",
   "metadata": {},
   "outputs": [],
   "source": [
    "{'NN_TORCH': {}, 'GBM': [{'extra_trees': True, 'ag_args': {'name_suffix': 'XT'}}, {}, 'GBMLarge'], 'CAT': {}, 'XGB': {}, 'FASTAI': {}, 'RF': [{'criterion': 'gini', 'ag_args': {'name_suffix': 'Gini', 'problem_types': ['binary', 'multiclass']}}, {'criterion': 'entropy', 'ag_args': {'name_suffix': 'Entr', 'problem_types': ['binary', 'multiclass']}}, {'criterion': 'squared_error', 'ag_args': {'name_suffix': 'MSE', 'problem_types': ['regression', 'quantile']}}], 'XT': [{'criterion': 'gini', 'ag_args': {'name_suffix': 'Gini', 'problem_types': ['binary', 'multiclass']}}, {'criterion': 'entropy', 'ag_args': {'name_suffix': 'Entr', 'problem_types': ['binary', 'multiclass']}}, {'criterion': 'squared_error', 'ag_args': {'name_suffix': 'MSE', 'problem_types': ['regression', 'quantile']}}], 'KNN': [{'weights': 'uniform', 'ag_args': {'name_suffix': 'Unif'}}, {'weights': 'distance', 'ag_args': {'name_suffix': 'Dist'}}], <class '__main__.CustomRandomForestModel'>: {'n_estimators': 300, 'n_jobs': -1, 'random_state': 0, 'max_depth': 26, 'max_features': 0.4459435365634299, 'criterion': 'entropy'}}"
   ]
  }
 ],
 "metadata": {
  "kernelspec": {
   "display_name": "Python 3 (ipykernel)",
   "language": "python",
   "name": "python3"
  },
  "language_info": {
   "codemirror_mode": {
    "name": "ipython",
    "version": 3
   },
   "file_extension": ".py",
   "mimetype": "text/x-python",
   "name": "python",
   "nbconvert_exporter": "python",
   "pygments_lexer": "ipython3",
   "version": "3.9.0"
  }
 },
 "nbformat": 4,
 "nbformat_minor": 5
}
